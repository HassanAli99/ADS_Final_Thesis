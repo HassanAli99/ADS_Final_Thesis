{
 "cells": [
  {
   "cell_type": "markdown",
   "id": "d9427e80-920d-4462-98b4-974b01d3d0d9",
   "metadata": {},
   "source": [
    "# Preprocessing\n",
    "## 2. Extracting Meteorological and GHM variables\n",
    "\n",
    "\n",
    "The outputs of the GHMs are retrieved from eartH2Observe Water Cycle Integrator (WCI) [data portal](https://wci.earth2observe.eu/portal/?)\n",
    "\n",
    "These are the steps taken to extract values from the raw NetCDF files.\n",
    "- We start with caclulating catchment size map following the guide from: https://github.com/edwinkost/catchment_averaging/blob/main/catchment_total_example.md\n",
    "\n",
    "- We then split the raw_Data into single timesteps, making subsequent analysis much faster\n",
    "- Lastly we apply catchment normalization using PCRaster ***catchmenttotal*** function.\n"
   ]
  },
  {
   "cell_type": "markdown",
   "id": "16400feb-b0e2-4fcd-ac42-4d06a9c8e3ae",
   "metadata": {
    "jp-MarkdownHeadingCollapsed": true,
    "tags": []
   },
   "source": [
    "## Import required  packages"
   ]
  },
  {
   "cell_type": "code",
   "execution_count": 4,
   "id": "94086404",
   "metadata": {},
   "outputs": [],
   "source": [
    "import os\n",
    "import pcraster as pcr\n",
    "import numpy as np\n",
    "from netCDF4 import Dataset\n",
    "import rioxarray\n",
    "import pandas as pd\n",
    "import matplotlib.pyplot as plt\n",
    "import glob\n",
    "import re\n",
    "import time\n",
    "from multiprocess import Pool\n",
    "import tqdm\n",
    "from os.path import join as pjoin\n",
    "from osgeo import gdal\n",
    "import subprocess\n",
    "import xarray as xr\n",
    "import rioxarray as rxr"
   ]
  },
  {
   "cell_type": "code",
   "execution_count": 2,
   "id": "955578c6",
   "metadata": {},
   "outputs": [],
   "source": [
    "# set your working directory and go there\n",
    "directory = 'raw_data'\n",
    "os.chdir(directory)"
   ]
  },
  {
   "cell_type": "code",
   "execution_count": 3,
   "id": "03e586cb",
   "metadata": {},
   "outputs": [],
   "source": [
    "def check_dir_or_make(path):\n",
    "    isExist = os.path.exists(path)\n",
    "    if not isExist:\n",
    "        # Create a new directory because it does not exist\n",
    "        os.makedirs(path)"
   ]
  },
  {
   "cell_type": "markdown",
   "id": "c45e1f8e",
   "metadata": {
    "jp-MarkdownHeadingCollapsed": true,
    "tags": []
   },
   "source": [
    "## 2.1 Catchement averaging"
   ]
  },
  {
   "cell_type": "markdown",
   "id": "e051ace1-60ff-4251-8928-9dfd859b9a37",
   "metadata": {
    "tags": []
   },
   "source": [
    "### Transormations cell area and ldd maps"
   ]
  },
  {
   "cell_type": "code",
   "execution_count": 4,
   "id": "1db2b5ee-7ded-4525-8cb6-4aa19a883bd1",
   "metadata": {},
   "outputs": [
    {
     "data": {
      "text/plain": [
       "0"
      ]
     },
     "execution_count": 4,
     "metadata": {},
     "output_type": "execute_result"
    }
   ],
   "source": [
    "# Define the input and output file paths\n",
    "in_cell_area = \"catchment_area/cellarea30min.nc\"\n",
    "out_cell_area = 'catchment_area/cellarea30min.tif'\n",
    "\n",
    "in_lddsound = 'catchment_area/lddsound_30min.nc'\n",
    "out_lddsound = 'catchment_area/lddsound_30min.tif'\n",
    "\n",
    "# Convert the netCDF file to GeoTIFF using gdal_translate\n",
    "os.system('gdal_translate {0} {1}'.format(in_cell_area, out_cell_area))\n",
    "os.system('gdal_translate {0} {1}'.format(in_lddsound, out_lddsound))"
   ]
  },
  {
   "cell_type": "code",
   "execution_count": 5,
   "id": "2164f5d6-45e0-4ad2-b23f-9a80ec5eb8af",
   "metadata": {},
   "outputs": [
    {
     "data": {
      "text/plain": [
       "1"
      ]
     },
     "execution_count": 5,
     "metadata": {},
     "output_type": "execute_result"
    }
   ],
   "source": [
    "cmd_cell_area = \"gdalwarp -te 4. 44.75 15.25 54.25 -tr 0.5 0.5 -r average \" + out_cell_area + \" \" + \"catchment_area/cell_area_EU\" + \".tif\"\n",
    "cmd_lddsound = \"gdalwarp -te 4. 44.75 15.25 54.25. -tr 0.5 0.5 -r average \" + out_lddsound + \" \" + \"catchment_area/lddsound_30min_EU\" + \".tif\"\n",
    "\n",
    "os.system(cmd_cell_area)\n",
    "os.system(cmd_lddsound)"
   ]
  },
  {
   "cell_type": "code",
   "execution_count": 6,
   "id": "07298c20-7401-43b0-88ad-37266ea18a2c",
   "metadata": {},
   "outputs": [
    {
     "name": "stdout",
     "output_type": "stream",
     "text": [
      "Spatial resolution:\n",
      "X resolution: 0.5\n",
      "Y resolution: 0.5\n"
     ]
    }
   ],
   "source": [
    "# Open the TIFF file\n",
    "cell_area_EU = gdal.Open(\"catchment_area/cell_area_EU.tif\")\n",
    "\n",
    "# Get the spatial resolution\n",
    "geotransform = cell_area_EU.GetGeoTransform()\n",
    "x_resolution = geotransform[1]\n",
    "y_resolution = geotransform[5]\n",
    "\n",
    "# Print the spatial resolution\n",
    "print(\"Spatial resolution:\")\n",
    "print(\"X resolution:\", x_resolution)\n",
    "print(\"Y resolution:\", abs(y_resolution)) "
   ]
  },
  {
   "cell_type": "code",
   "execution_count": 7,
   "id": "9ab59a44-18ae-4a92-9b67-87a18208f78d",
   "metadata": {},
   "outputs": [
    {
     "data": {
      "text/plain": [
       "0"
      ]
     },
     "execution_count": 7,
     "metadata": {},
     "output_type": "execute_result"
    }
   ],
   "source": [
    "#Convert the GeoTIFF file to the PCRaster file format using gdal_translate\n",
    "os.system('gdal_translate -of PCRaster catchment_area/cell_area_EU.tif catchment_area/cellarea30min_EU.map')\n",
    "os.system('gdal_translate -of PCRaster catchment_area/lddsound_30min_EU.tif catchment_area/lddsound_30min_EU.map')"
   ]
  },
  {
   "cell_type": "code",
   "execution_count": 9,
   "id": "975c7bb9-d0ae-4e00-8e19-f6d73f8bc4f4",
   "metadata": {},
   "outputs": [],
   "source": [
    "# convert ldd file to a drainage direction type\n",
    "lddsound_30min_ldd = pcr.lddrepair(pcr.ldd(\"catchment_area/lddsound_30min_EU.map\"))\n",
    "pcr.report(lddsound_30min_ldd, \"catchment_area/lddsound_30min_EU.ldd\")"
   ]
  },
  {
   "cell_type": "code",
   "execution_count": 10,
   "id": "37de83c3-a3df-445e-97eb-8aade53e7c62",
   "metadata": {},
   "outputs": [],
   "source": [
    "# cell_area and ldd files\n",
    "cell_area_file = \"catchment_area/lddsound_30min_EU.map\"\n",
    "ldd_file      = \"catchment_area/lddsound_30min_EU.ldd\"\n",
    "\n",
    "# calculate catchment area"
   ]
  },
  {
   "cell_type": "code",
   "execution_count": 11,
   "id": "7e1dbbc5-4a2c-41f2-8691-17397db380ad",
   "metadata": {},
   "outputs": [],
   "source": [
    "# - set clone, the bounding box of your study area - here, we use ldd \n",
    "clone_file     = ldd_file\n",
    "pcr.setclone(clone_file)"
   ]
  },
  {
   "cell_type": "code",
   "execution_count": 12,
   "id": "bb79313d-5934-49a1-a44e-b1e793f833bf",
   "metadata": {},
   "outputs": [],
   "source": [
    "# - read cell_area and ldd files\n",
    "cell_area = pcr.readmap(cell_area_file)\n",
    "ldd       = pcr.readmap(ldd_file)"
   ]
  },
  {
   "cell_type": "markdown",
   "id": "6705d985-b3b1-497e-8ecf-74c7d37d810c",
   "metadata": {
    "tags": []
   },
   "source": [
    "### Calculate the average"
   ]
  },
  {
   "cell_type": "code",
   "execution_count": 13,
   "id": "d9eab9f2-22ba-4a19-8db6-abc3d7563a5a",
   "metadata": {},
   "outputs": [],
   "source": [
    "## Calculate the average\n",
    "catchment_area = pcr.catchmenttotal(cell_area, ldd)\n",
    "# - save catchment_area to a file - note the file output will be under the work_dir\n",
    "catchment_area_file = \"catchment_area/catchment_area.map\"\n",
    "pcr.report(catchment_area, catchment_area_file)"
   ]
  },
  {
   "cell_type": "markdown",
   "id": "52b6c1ae-72ce-4368-8cb2-fbad6bf5f3cc",
   "metadata": {
    "jp-MarkdownHeadingCollapsed": true,
    "tags": []
   },
   "source": [
    "## 2.2 Create single timesteps"
   ]
  },
  {
   "cell_type": "code",
   "execution_count": 13,
   "id": "0f3916e0-b382-4cfd-a34a-e5c695101159",
   "metadata": {},
   "outputs": [],
   "source": [
    "def create_single_timestep_maps(var, input_file, model, multi=False):\n",
    "    check_dir_or_make(model)\n",
    "    check_dir_or_make(f'{model}/timesteps')\n",
    "    \n",
    "    xds = rioxarray.open_rasterio(input_file)\n",
    "    xds.rio.write_crs(\"EPSG:4326\", inplace=True)  # Set spatial reference to WGS84\n",
    "    \n",
    "    if multi:\n",
    "        variable_names = list(xds.data_vars.keys())[0]\n",
    "        xds = xds[variable_names]\n",
    "    \n",
    "    \n",
    "    # Print spatial resolution\n",
    "    print(\"Spatial resolution:\")\n",
    "    print(\"X resolution:\", xds.rio.resolution()[0])\n",
    "    print(\"Y resolution:\", xds.rio.resolution()[1])\n",
    "\n",
    "    \n",
    "    time = pd.DataFrame(xds[:,0,0].time.to_numpy(), columns=['date'])\n",
    "    time['date'] = time['date'].astype('str')\n",
    "    time[['year', 'month', 'left']]= time.date.str.split('-', expand = True)\n",
    "\n",
    "    for i in range(len(xds[:,0,0])):\n",
    "\n",
    "        timestep = time.iloc[i,:]\n",
    "        name = f'{timestep.year}_{timestep.month}'\n",
    "\n",
    "        \n",
    "        # Select the single timestep using xarray\n",
    "        single_timestep = xds.isel(time=i)\n",
    "\n",
    "        \n",
    "        single = f'{model}/timesteps/{var}_{name}'\n",
    "        single_tr = f'{model}/timesteps/{var}_{name}_tr'\n",
    "\n",
    "\n",
    "        # Save the single timestep as a NetCDF file\n",
    "        single_timestep.to_netcdf(f'{single}.nc')\n",
    "\n",
    "        #cmd = f'cdo seltimestep,{i+1} {input_file} {single}.nc'\n",
    "        #os.system(cmd)\n",
    "        \n",
    "        cmd = f'gdal_translate {single}.nc {single}.tif'\n",
    "        os.system(cmd)\n",
    "        \n",
    "        \n",
    "        # Set the spatial resolution to 0.5x0.5 \n",
    "        # Convert GeoTIFF to the desired resolution using gdal_translate\n",
    "        cmd = f\"gdalwarp -te 4. 44.75 15.5 54.25 -tr 0.5 0.5 -r average {single}.tif {single_tr}.tif\"\n",
    "        os.system(cmd)\n",
    "\n",
    "\n",
    "        cmd = f\"gdal_translate -of PCRaster {single_tr}.tif {single}.map\"\n",
    "        os.system(cmd)\n",
    "        \n",
    "         # Clean up temporary files\n",
    "        filelist = glob.glob(f'{model}/timesteps/*.xml')\n",
    "        for file in filelist:\n",
    "            os.remove(file)\n",
    "\n",
    "        filelist = glob.glob(f'{model}/timesteps/*.tif')\n",
    "        for file in filelist:\n",
    "            os.remove(file)\n",
    "\n",
    "        filelist = glob.glob(f'{model}/timesteps/*.nc')\n",
    "        for file in filelist:\n",
    "            os.remove(file)"
   ]
  },
  {
   "cell_type": "code",
   "execution_count": 55,
   "id": "5d1c225c-7806-4eee-9479-1aad32313373",
   "metadata": {},
   "outputs": [
    {
     "name": "stdout",
     "output_type": "stream",
     "text": [
      "Spatial resolution:\n",
      "X resolution: 0.25\n",
      "Y resolution: -0.25\n"
     ]
    }
   ],
   "source": [
    "## for one file\n",
    "input_file     = \"meteo/meteo_rain.nc\"\n",
    "create_single_timestep_maps('meteo_rain', input_file,'meteo', multi=False)"
   ]
  },
  {
   "cell_type": "code",
   "execution_count": 56,
   "id": "5fb65fe6-8788-4631-9475-39905ea5d9a5",
   "metadata": {},
   "outputs": [
    {
     "name": "stdout",
     "output_type": "stream",
     "text": [
      "Spatial resolution:\n",
      "X resolution: 0.25\n",
      "Y resolution: -0.25\n"
     ]
    }
   ],
   "source": [
    "input_file     = \"meteo/meteo_tair.nc\"\n",
    "create_single_timestep_maps('meteo_tair', input_file,'meteo')"
   ]
  },
  {
   "cell_type": "code",
   "execution_count": 58,
   "id": "f5eafcd0-3cf8-41a9-a9d9-87404fbbc727",
   "metadata": {},
   "outputs": [
    {
     "name": "stdout",
     "output_type": "stream",
     "text": [
      "Spatial resolution:\n",
      "X resolution: 0.5\n",
      "Y resolution: -0.5\n",
      "Spatial resolution:\n",
      "X resolution: 0.5\n",
      "Y resolution: -0.5\n",
      "Spatial resolution:\n",
      "X resolution: 0.5\n",
      "Y resolution: -0.5\n",
      "Finished for variables set lis\n",
      "Spatial resolution:\n",
      "X resolution: 0.5\n",
      "Y resolution: -0.5\n",
      "Spatial resolution:\n",
      "X resolution: 0.5\n",
      "Y resolution: -0.5\n",
      "Spatial resolution:\n",
      "X resolution: 0.5\n",
      "Y resolution: -0.5\n",
      "Spatial resolution:\n",
      "X resolution: 0.5\n",
      "Y resolution: -0.5\n",
      "Finished for variables set pcr\n",
      "Spatial resolution:\n",
      "X resolution: 0.5\n",
      "Y resolution: -0.5\n",
      "Spatial resolution:\n",
      "X resolution: 0.5\n",
      "Y resolution: -0.5\n",
      "Spatial resolution:\n",
      "X resolution: 0.5\n",
      "Y resolution: -0.5\n",
      "Spatial resolution:\n",
      "X resolution: 0.5\n",
      "Y resolution: -0.5\n",
      "Finished for variables set wg3\n"
     ]
    }
   ],
   "source": [
    "models = [\"lis\",\"pcr\", \"wg3\"]\n",
    "\n",
    "for model in models:\n",
    "    for file in os.listdir(model):\n",
    "        if file.endswith(\".nc\"):\n",
    "            \n",
    "            var = file.split(\".\")[0]\n",
    "            \n",
    "            input_file = pjoin(model, file)\n",
    "            create_single_timestep_maps(var, input_file, model, multi=True)\n",
    "    print(\"Finished for variables set\", model)"
   ]
  },
  {
   "cell_type": "code",
   "execution_count": 59,
   "id": "d1d2fc85",
   "metadata": {},
   "outputs": [],
   "source": [
    "# - make sure that the file has the same map attributes as the ldd file\n",
    "#cmd = f\"mapattr -c catchment_area/lddsound_30min_EU.ldd {input_file}.map\"\n",
    "#os.system(cmd)"
   ]
  },
  {
   "cell_type": "markdown",
   "id": "c9d2dd26",
   "metadata": {
    "jp-MarkdownHeadingCollapsed": true,
    "tags": []
   },
   "source": [
    "## 2.3 Calculate upstream averaged values for catchment areas"
   ]
  },
  {
   "cell_type": "code",
   "execution_count": 14,
   "id": "52b9879d-5b8c-4274-bf99-bb99246d3f65",
   "metadata": {},
   "outputs": [
    {
     "name": "stdout",
     "output_type": "stream",
     "text": [
      "CPU times: total: 0 ns\n",
      "Wall time: 0 ns\n"
     ]
    }
   ],
   "source": [
    "%%time\n",
    "def upstream_maps(model, var):\n",
    "    check_dir_or_make(f'{model}/upstream')\n",
    "\n",
    "    \n",
    "    input_files = glob.glob(f'{model}/timesteps/*.map')\n",
    "    cmd = f'rm {model}/upstream/*'\n",
    "    os.system(cmd)\n",
    "\n",
    "    time.sleep(5)\n",
    "    \n",
    "    for i in range(len(input_files)):\n",
    "        name = input_files[i].split('/')[-1]\n",
    "        cell_value = pcr.readmap(f\"{input_files[i]}\")\n",
    "        \n",
    "        if \"dis\" in input_files[i]:\n",
    "            upstream_average_value = cell_value\n",
    "        \n",
    "        else:\n",
    "            \n",
    "            # calculate upstream/catchment average values\n",
    "            upstream_average_value = pcr.catchmenttotal(cell_value * cell_area, ldd) / catchment_area\n",
    "        pcr.report(upstream_average_value, f\"{model}/upstream/upstream_{name}\")\n",
    "        \n",
    "        file_map = f'{model}/upstream/upstream_{name}'\n",
    "        file_tiff = file_map.replace('.map', '.tif')\n",
    "        file_nc = file_map.replace('.map', '.nc')\n",
    "        \n",
    "\n",
    "        cmd_tif = f'gdal_translate -of GTiff {file_map} {file_tiff}'\n",
    "        os.system(cmd_tif)\n",
    "        \n",
    "        data_array = rxr.open_rasterio(file_tiff)\n",
    "        data_array.to_netcdf(file_nc)"
   ]
  },
  {
   "cell_type": "code",
   "execution_count": 15,
   "id": "a12c9b68-e84c-4d72-b715-5708696cc315",
   "metadata": {},
   "outputs": [],
   "source": [
    "upstream_maps('meteo', 'meteo_rain')"
   ]
  },
  {
   "cell_type": "code",
   "execution_count": 16,
   "id": "629866da-fe16-423b-860b-764a1897e2f1",
   "metadata": {},
   "outputs": [],
   "source": [
    "upstream_maps('meteo', 'meteo_tair')"
   ]
  },
  {
   "cell_type": "code",
   "execution_count": 17,
   "id": "61503ab3-eebc-465b-af41-b73d69ba2583",
   "metadata": {},
   "outputs": [],
   "source": [
    "models = [\"pcr\", \"wg3\", \"lis\"]"
   ]
  },
  {
   "cell_type": "code",
   "execution_count": 18,
   "id": "b07b2379-55d4-4db4-9de2-ec11698b652b",
   "metadata": {},
   "outputs": [
    {
     "name": "stdout",
     "output_type": "stream",
     "text": [
      "Finished for variables set pcr\n",
      "Finished for variables set wg3\n",
      "Finished for variables set lis\n"
     ]
    }
   ],
   "source": [
    "for model in models:\n",
    "    for file in os.listdir(model):\n",
    "        if file.endswith(\".nc\"):\n",
    "            \n",
    "            var = file.split(\".\")[0]\n",
    "            upstream_maps(model, var)\n",
    "    print(\"Finished for variables set\", model)"
   ]
  }
 ],
 "metadata": {
  "kernelspec": {
   "display_name": "Python 3 (ipykernel)",
   "language": "python",
   "name": "python3"
  },
  "language_info": {
   "codemirror_mode": {
    "name": "ipython",
    "version": 3
   },
   "file_extension": ".py",
   "mimetype": "text/x-python",
   "name": "python",
   "nbconvert_exporter": "python",
   "pygments_lexer": "ipython3",
   "version": "3.11.3"
  }
 },
 "nbformat": 4,
 "nbformat_minor": 5
}
