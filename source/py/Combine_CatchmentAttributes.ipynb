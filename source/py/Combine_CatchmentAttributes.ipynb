{
 "cells": [
  {
   "cell_type": "code",
   "execution_count": 1,
   "id": "0e58b122-f82e-4cc5-a93c-3ea80417bd14",
   "metadata": {},
   "outputs": [],
   "source": [
    "import os\n",
    "import glob\n",
    "import pandas as pd\n",
    "from sklearn.decomposition import PCA"
   ]
  },
  {
   "cell_type": "code",
   "execution_count": 2,
   "id": "4e32045a-9de9-4ed5-904f-a74019b2f1b5",
   "metadata": {},
   "outputs": [],
   "source": [
    "# Lag 4 folder paths\n",
    "rhine_only = '../R/data/rhine_only/'\n",
    "pcr_rhine = '../R/data/pcr_rhine/'\n",
    "new_folder =  '../R/data/mmc_catchAtt/'"
   ]
  },
  {
   "cell_type": "code",
   "execution_count": 8,
   "id": "73273229-5502-43de-8684-c12b235d0933",
   "metadata": {},
   "outputs": [],
   "source": [
    "catchmentAtt = [\"datetime\", \"airEntry1\", \"airEntry2\", \"aqThick\", \"area_pcr\", \"aridityIdx\", \"bankArea\", \"bankDepth\", \"bankWidth\",\n",
    "                   \"demAverage\", \"forestFraction\", \"groundwaterDepth\", \"KSat1\", \"KSat2\", \"kSatAquifer\", \"percolationImp\",\n",
    "                   \"poreSize1\", \"poreSize2\", \"recessionCoeff\", \"resWC1\", \"resWC2\", \"satWC1\", \"satWC2\", \"slopeLength\",\n",
    "                   \"specificYield\", \"storage2\", \"storDepth1\", \"tanSlope\"]\n",
    "\n",
    "# Create a loop that will go through all the files in the folder and create lagged variables\n",
    "for subsample in range(1, 6):\n",
    "    sub_folder = 'subsample_' + str(subsample)\n",
    "    output_dir = os.path.join(new_folder, sub_folder)\n",
    "    \n",
    "    if not os.path.exists(output_dir):\n",
    "        os.makedirs(output_dir)\n",
    "    \n",
    "    \n",
    "    # Rhine files\n",
    "    train_file = os.path.join(rhine_only, sub_folder,'train_table_allpredictors.csv')\n",
    "    test_file = os.path.join(rhine_only, sub_folder,'test_table_allpredictors.csv')\n",
    "    train_stations = os.path.join(rhine_only, sub_folder,'train_stations.csv')\n",
    "    test_stations = os.path.join(rhine_only, sub_folder,'test_stations.csv')\n",
    "    \n",
    "    df_train_rhine = pd.read_csv(train_file)\n",
    "    df_test_rhine = pd.read_csv(test_file)\n",
    "    \n",
    "    df_train_stations = pd.read_csv(train_stations)\n",
    "    df_test_stations = pd.read_csv(test_stations)\n",
    "    \n",
    "    df_train_rhine.loc[:, 'datetime']  = pd.to_datetime(df_train_rhine['datetime']).dt.date\n",
    "    df_test_rhine.loc[:, 'datetime']  = pd.to_datetime(df_test_rhine['datetime']).dt.date\n",
    "\n",
    "    # PCR files\n",
    "    train_file = os.path.join(pcr_rhine, sub_folder,'train_table_allpredictors.csv')\n",
    "    test_file = os.path.join(pcr_rhine, sub_folder,'test_table_allpredictors.csv')\n",
    "    \n",
    "    df_train_pcr = pd.read_csv(train_file)\n",
    "    df_train_catchAtt_pcr = df_train_pcr[catchmentAtt]\n",
    "    df_train_catchAtt_pcr.loc[:, 'datetime']  = pd.to_datetime(df_train_catchAtt_pcr['datetime']).dt.date\n",
    "\n",
    "\n",
    "    df_test_pcr = pd.read_csv(test_file)\n",
    "    df_test_catchAtt_pcr = df_test_pcr[catchmentAtt]\n",
    "    df_test_catchAtt_pcr.loc[:, 'datetime']  = pd.to_datetime(df_test_catchAtt_pcr['datetime']).dt.date\n",
    "\n",
    "    #Add catchment attributes to the rhine only dataset\n",
    "    train_mmc_catchAtt = df_train_rhine.merge(df_train_catchAtt_pcr, on='datetime')\n",
    "    test_mmc_catchAtt = df_train_rhine.merge(df_train_catchAtt_pcr, on='datetime')\n",
    "    \n",
    "    train_mmc_catchAtt = train_mmc_catchAtt.drop(columns=['Unnamed: 0'])  # Remove the empty column\n",
    "    test_mmc_catchAtt = test_mmc_catchAtt.drop(columns=['Unnamed: 0'])  # Remove the empty column\n",
    "\n",
    "    \n",
    "    # Write tables: train_stations, test_stations, train_table\n",
    "    train_mmc_catchAtt.to_csv(os.path.join(output_dir, 'train_table_allpredictors.csv'), index=False)\n",
    "    test_mmc_catchAtt.to_csv(os.path.join(output_dir, 'test_table_allpredictors.csv'), index=False)\n",
    "    df_train_stations.to_csv(os.path.join(output_dir, 'train_stations.csv'), index=False)\n",
    "    df_test_stations.to_csv(os.path.join(output_dir, 'test_stations.csv'), index=False)"
   ]
  },
  {
   "cell_type": "code",
   "execution_count": 5,
   "id": "9c767f9a-3851-4785-9de3-ebf808538e25",
   "metadata": {},
   "outputs": [],
   "source": [
    "# Create all predictors folder with catchment att\n",
    "old_folder = '../R/data/allpredictors/'\n",
    "folder_pcr = '../R/data/pcr_allpredictors/'\n",
    "new_allpredictors = '../R/data/all_predCachAtt/'\n",
    "\n",
    "if not os.path.exists(new_allpredictors):\n",
    "    os.makedirs(new_allpredictors)"
   ]
  },
  {
   "cell_type": "code",
   "execution_count": 6,
   "id": "6f45e8bf-b8a5-4c73-9e20-3ebe6f072393",
   "metadata": {},
   "outputs": [],
   "source": [
    "# Create a loop that will go through all the files in the folder and create lagged variables\n",
    "for filename in glob.glob(os.path.join(old_folder, '*.csv')):\n",
    "    df_old = pd.read_csv(filename)\n",
    "    df_old.loc[:, 'datetime']  = pd.to_datetime(df_old['datetime']).dt.date\n",
    "\n",
    "    station_id = filename.split(\"_\")[1]\n",
    "\n",
    "    df_pcr = pd.read_csv(os.path.join(folder_pcr, f\"pcr_allpredictors_{str(station_id)}\"))\n",
    "    df_pcr_subset = df_pcr[catchmentAtt]\n",
    "    df_pcr_subset.loc[:, 'datetime']  = pd.to_datetime(df_pcr_subset['datetime']).dt.date\n",
    "\n",
    "    \n",
    "    new_path = os.path.join(new_allpredictors, f\"all_predCachAtt_{str(station_id)}\")\n",
    "    df_new = df_old.merge(df_pcr_subset, on='datetime')\n",
    "    df_new = df_new.drop(columns=['Unnamed: 0'])  # Remove the empty column\n",
    "    df_new.reset_index(drop=True)\n",
    "    \n",
    "    df_new.to_csv(new_path)"
   ]
  }
 ],
 "metadata": {
  "kernelspec": {
   "display_name": "Python 3 (ipykernel)",
   "language": "python",
   "name": "python3"
  },
  "language_info": {
   "codemirror_mode": {
    "name": "ipython",
    "version": 3
   },
   "file_extension": ".py",
   "mimetype": "text/x-python",
   "name": "python",
   "nbconvert_exporter": "python",
   "pygments_lexer": "ipython3",
   "version": "3.11.3"
  }
 },
 "nbformat": 4,
 "nbformat_minor": 5
}
