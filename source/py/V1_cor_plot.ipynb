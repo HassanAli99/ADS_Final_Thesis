{
 "cells": [
  {
   "cell_type": "markdown",
   "id": "a405abfb-d1c7-4d3c-bf97-8f959a9b19d5",
   "metadata": {},
   "source": [
    "# Correlation plot"
   ]
  },
  {
   "cell_type": "code",
   "execution_count": 1,
   "id": "0347cd99-719a-4b87-888e-79ae4fc122aa",
   "metadata": {},
   "outputs": [],
   "source": [
    "import os\n",
    "import pandas as pd\n",
    "import plotly.express as px\n",
    "import numpy as np\n",
    "import plotly.graph_objects as go\n",
    "import plotly.io as pio"
   ]
  },
  {
   "cell_type": "code",
   "execution_count": 2,
   "id": "1540ec9d-91b9-4cde-aad3-b46287602b47",
   "metadata": {},
   "outputs": [],
   "source": [
    "folder_path  = \"../../R/data/allpredictors\""
   ]
  },
  {
   "cell_type": "code",
   "execution_count": 3,
   "id": "315f348e-404f-41d2-8518-9b1c07a2aee3",
   "metadata": {},
   "outputs": [
    {
     "data": {
      "text/html": [
       "<div>\n",
       "<style scoped>\n",
       "    .dataframe tbody tr th:only-of-type {\n",
       "        vertical-align: middle;\n",
       "    }\n",
       "\n",
       "    .dataframe tbody tr th {\n",
       "        vertical-align: top;\n",
       "    }\n",
       "\n",
       "    .dataframe thead th {\n",
       "        text-align: right;\n",
       "    }\n",
       "</style>\n",
       "<table border=\"1\" class=\"dataframe\">\n",
       "  <thead>\n",
       "    <tr style=\"text-align: right;\">\n",
       "      <th></th>\n",
       "      <th>Variable</th>\n",
       "      <th>Mean Correlation</th>\n",
       "    </tr>\n",
       "  </thead>\n",
       "  <tbody>\n",
       "    <tr>\n",
       "      <th>obs</th>\n",
       "      <td>obs</td>\n",
       "      <td>1.000000</td>\n",
       "    </tr>\n",
       "    <tr>\n",
       "      <th>wg3_dis</th>\n",
       "      <td>wg3_dis</td>\n",
       "      <td>0.851544</td>\n",
       "    </tr>\n",
       "    <tr>\n",
       "      <th>lis_dis</th>\n",
       "      <td>lis_dis</td>\n",
       "      <td>0.851141</td>\n",
       "    </tr>\n",
       "    <tr>\n",
       "      <th>pcr_dis</th>\n",
       "      <td>pcr_dis</td>\n",
       "      <td>0.796630</td>\n",
       "    </tr>\n",
       "    <tr>\n",
       "      <th>wg3_SurfStor</th>\n",
       "      <td>wg3_SurfStor</td>\n",
       "      <td>0.752966</td>\n",
       "    </tr>\n",
       "    <tr>\n",
       "      <th>pcr_SurfStor</th>\n",
       "      <td>pcr_SurfStor</td>\n",
       "      <td>0.748636</td>\n",
       "    </tr>\n",
       "    <tr>\n",
       "      <th>lis_SurfMoist</th>\n",
       "      <td>lis_SurfMoist</td>\n",
       "      <td>0.527052</td>\n",
       "    </tr>\n",
       "    <tr>\n",
       "      <th>pcr_SurfMoist</th>\n",
       "      <td>pcr_SurfMoist</td>\n",
       "      <td>0.478880</td>\n",
       "    </tr>\n",
       "    <tr>\n",
       "      <th>wg3_RootMoist</th>\n",
       "      <td>wg3_RootMoist</td>\n",
       "      <td>0.437391</td>\n",
       "    </tr>\n",
       "    <tr>\n",
       "      <th>meteo_rain</th>\n",
       "      <td>meteo_rain</td>\n",
       "      <td>0.278783</td>\n",
       "    </tr>\n",
       "    <tr>\n",
       "      <th>lis_SWE</th>\n",
       "      <td>lis_SWE</td>\n",
       "      <td>0.137054</td>\n",
       "    </tr>\n",
       "    <tr>\n",
       "      <th>pcr_SWE</th>\n",
       "      <td>pcr_SWE</td>\n",
       "      <td>0.119286</td>\n",
       "    </tr>\n",
       "    <tr>\n",
       "      <th>wg3_SWE</th>\n",
       "      <td>wg3_SWE</td>\n",
       "      <td>0.115651</td>\n",
       "    </tr>\n",
       "    <tr>\n",
       "      <th>meteo_tair</th>\n",
       "      <td>meteo_tair</td>\n",
       "      <td>-0.224970</td>\n",
       "    </tr>\n",
       "  </tbody>\n",
       "</table>\n",
       "</div>"
      ],
      "text/plain": [
       "                    Variable  Mean Correlation\n",
       "obs                      obs          1.000000\n",
       "wg3_dis              wg3_dis          0.851544\n",
       "lis_dis              lis_dis          0.851141\n",
       "pcr_dis              pcr_dis          0.796630\n",
       "wg3_SurfStor    wg3_SurfStor          0.752966\n",
       "pcr_SurfStor    pcr_SurfStor          0.748636\n",
       "lis_SurfMoist  lis_SurfMoist          0.527052\n",
       "pcr_SurfMoist  pcr_SurfMoist          0.478880\n",
       "wg3_RootMoist  wg3_RootMoist          0.437391\n",
       "meteo_rain        meteo_rain          0.278783\n",
       "lis_SWE              lis_SWE          0.137054\n",
       "pcr_SWE              pcr_SWE          0.119286\n",
       "wg3_SWE              wg3_SWE          0.115651\n",
       "meteo_tair        meteo_tair         -0.224970"
      ]
     },
     "execution_count": 3,
     "metadata": {},
     "output_type": "execute_result"
    }
   ],
   "source": [
    "correlations = {}\n",
    "\n",
    "for file_name in os.listdir(folder_path):\n",
    "    if file_name.startswith('allpredictors_') and file_name.endswith('.csv'):\n",
    "        station_id = file_name.replace('allpredictors_', '').replace('.csv', '')\n",
    "        file_path = os.path.join(folder_path, file_name)\n",
    "        \n",
    "        df = pd.read_csv(file_path)\n",
    "        \n",
    "        # Exclude the 'datetime' column\n",
    "        variables = df.columns[(df.columns != 'datetime') & (df.columns != 'Unnamed: 0')]\n",
    "        \n",
    "        correlations[station_id] = df[variables].corrwith(df['obs'])\n",
    "mean_correlation = pd.DataFrame(correlations).mean(axis=1)\n",
    "mean_correlation_df = pd.DataFrame({'Variable': mean_correlation.index, 'Mean Correlation': mean_correlation})\n",
    "mean_correlation_df = mean_correlation_df.sort_values('Mean Correlation', ascending=False)\n",
    "mean_correlation_df"
   ]
  },
  {
   "cell_type": "code",
   "execution_count": 12,
   "id": "9afda074-8e6d-4968-999c-e96b8cee8285",
   "metadata": {},
   "outputs": [],
   "source": [
    "mean_correlation_df = mean_correlation_df.loc[[\"obs\", \"lis_dis\", \"pcr_dis\", \"wg3_dis\"]]"
   ]
  },
  {
   "cell_type": "code",
   "execution_count": 13,
   "id": "f6fb91c5-108a-4bc0-a5aa-f2d2682e8b1e",
   "metadata": {},
   "outputs": [
    {
     "data": {
      "application/vnd.plotly.v1+json": {
       "config": {
        "plotlyServerURL": "https://plot.ly"
       },
       "data": [
        {
         "alignmentgroup": "True",
         "hovertemplate": "Mean Correlation=%{x}<br>Variable=%{y}<extra></extra>",
         "legendgroup": "",
         "marker": {
          "color": "#636efa",
          "pattern": {
           "shape": ""
          }
         },
         "name": "",
         "offsetgroup": "",
         "orientation": "h",
         "showlegend": false,
         "textposition": "auto",
         "type": "bar",
         "x": [
          1,
          0.8511405175271287,
          0.7966301959517206,
          0.8515441952438109
         ],
         "xaxis": "x",
         "y": [
          "obs",
          "lis_dis",
          "pcr_dis",
          "wg3_dis"
         ],
         "yaxis": "y"
        }
       ],
       "layout": {
        "barmode": "relative",
        "height": 600,
        "legend": {
         "tracegroupgap": 0
        },
        "template": {
         "data": {
          "bar": [
           {
            "error_x": {
             "color": "#2a3f5f"
            },
            "error_y": {
             "color": "#2a3f5f"
            },
            "marker": {
             "line": {
              "color": "#E5ECF6",
              "width": 0.5
             },
             "pattern": {
              "fillmode": "overlay",
              "size": 10,
              "solidity": 0.2
             }
            },
            "type": "bar"
           }
          ],
          "barpolar": [
           {
            "marker": {
             "line": {
              "color": "#E5ECF6",
              "width": 0.5
             },
             "pattern": {
              "fillmode": "overlay",
              "size": 10,
              "solidity": 0.2
             }
            },
            "type": "barpolar"
           }
          ],
          "carpet": [
           {
            "aaxis": {
             "endlinecolor": "#2a3f5f",
             "gridcolor": "white",
             "linecolor": "white",
             "minorgridcolor": "white",
             "startlinecolor": "#2a3f5f"
            },
            "baxis": {
             "endlinecolor": "#2a3f5f",
             "gridcolor": "white",
             "linecolor": "white",
             "minorgridcolor": "white",
             "startlinecolor": "#2a3f5f"
            },
            "type": "carpet"
           }
          ],
          "choropleth": [
           {
            "colorbar": {
             "outlinewidth": 0,
             "ticks": ""
            },
            "type": "choropleth"
           }
          ],
          "contour": [
           {
            "colorbar": {
             "outlinewidth": 0,
             "ticks": ""
            },
            "colorscale": [
             [
              0,
              "#0d0887"
             ],
             [
              0.1111111111111111,
              "#46039f"
             ],
             [
              0.2222222222222222,
              "#7201a8"
             ],
             [
              0.3333333333333333,
              "#9c179e"
             ],
             [
              0.4444444444444444,
              "#bd3786"
             ],
             [
              0.5555555555555556,
              "#d8576b"
             ],
             [
              0.6666666666666666,
              "#ed7953"
             ],
             [
              0.7777777777777778,
              "#fb9f3a"
             ],
             [
              0.8888888888888888,
              "#fdca26"
             ],
             [
              1,
              "#f0f921"
             ]
            ],
            "type": "contour"
           }
          ],
          "contourcarpet": [
           {
            "colorbar": {
             "outlinewidth": 0,
             "ticks": ""
            },
            "type": "contourcarpet"
           }
          ],
          "heatmap": [
           {
            "colorbar": {
             "outlinewidth": 0,
             "ticks": ""
            },
            "colorscale": [
             [
              0,
              "#0d0887"
             ],
             [
              0.1111111111111111,
              "#46039f"
             ],
             [
              0.2222222222222222,
              "#7201a8"
             ],
             [
              0.3333333333333333,
              "#9c179e"
             ],
             [
              0.4444444444444444,
              "#bd3786"
             ],
             [
              0.5555555555555556,
              "#d8576b"
             ],
             [
              0.6666666666666666,
              "#ed7953"
             ],
             [
              0.7777777777777778,
              "#fb9f3a"
             ],
             [
              0.8888888888888888,
              "#fdca26"
             ],
             [
              1,
              "#f0f921"
             ]
            ],
            "type": "heatmap"
           }
          ],
          "heatmapgl": [
           {
            "colorbar": {
             "outlinewidth": 0,
             "ticks": ""
            },
            "colorscale": [
             [
              0,
              "#0d0887"
             ],
             [
              0.1111111111111111,
              "#46039f"
             ],
             [
              0.2222222222222222,
              "#7201a8"
             ],
             [
              0.3333333333333333,
              "#9c179e"
             ],
             [
              0.4444444444444444,
              "#bd3786"
             ],
             [
              0.5555555555555556,
              "#d8576b"
             ],
             [
              0.6666666666666666,
              "#ed7953"
             ],
             [
              0.7777777777777778,
              "#fb9f3a"
             ],
             [
              0.8888888888888888,
              "#fdca26"
             ],
             [
              1,
              "#f0f921"
             ]
            ],
            "type": "heatmapgl"
           }
          ],
          "histogram": [
           {
            "marker": {
             "pattern": {
              "fillmode": "overlay",
              "size": 10,
              "solidity": 0.2
             }
            },
            "type": "histogram"
           }
          ],
          "histogram2d": [
           {
            "colorbar": {
             "outlinewidth": 0,
             "ticks": ""
            },
            "colorscale": [
             [
              0,
              "#0d0887"
             ],
             [
              0.1111111111111111,
              "#46039f"
             ],
             [
              0.2222222222222222,
              "#7201a8"
             ],
             [
              0.3333333333333333,
              "#9c179e"
             ],
             [
              0.4444444444444444,
              "#bd3786"
             ],
             [
              0.5555555555555556,
              "#d8576b"
             ],
             [
              0.6666666666666666,
              "#ed7953"
             ],
             [
              0.7777777777777778,
              "#fb9f3a"
             ],
             [
              0.8888888888888888,
              "#fdca26"
             ],
             [
              1,
              "#f0f921"
             ]
            ],
            "type": "histogram2d"
           }
          ],
          "histogram2dcontour": [
           {
            "colorbar": {
             "outlinewidth": 0,
             "ticks": ""
            },
            "colorscale": [
             [
              0,
              "#0d0887"
             ],
             [
              0.1111111111111111,
              "#46039f"
             ],
             [
              0.2222222222222222,
              "#7201a8"
             ],
             [
              0.3333333333333333,
              "#9c179e"
             ],
             [
              0.4444444444444444,
              "#bd3786"
             ],
             [
              0.5555555555555556,
              "#d8576b"
             ],
             [
              0.6666666666666666,
              "#ed7953"
             ],
             [
              0.7777777777777778,
              "#fb9f3a"
             ],
             [
              0.8888888888888888,
              "#fdca26"
             ],
             [
              1,
              "#f0f921"
             ]
            ],
            "type": "histogram2dcontour"
           }
          ],
          "mesh3d": [
           {
            "colorbar": {
             "outlinewidth": 0,
             "ticks": ""
            },
            "type": "mesh3d"
           }
          ],
          "parcoords": [
           {
            "line": {
             "colorbar": {
              "outlinewidth": 0,
              "ticks": ""
             }
            },
            "type": "parcoords"
           }
          ],
          "pie": [
           {
            "automargin": true,
            "type": "pie"
           }
          ],
          "scatter": [
           {
            "fillpattern": {
             "fillmode": "overlay",
             "size": 10,
             "solidity": 0.2
            },
            "type": "scatter"
           }
          ],
          "scatter3d": [
           {
            "line": {
             "colorbar": {
              "outlinewidth": 0,
              "ticks": ""
             }
            },
            "marker": {
             "colorbar": {
              "outlinewidth": 0,
              "ticks": ""
             }
            },
            "type": "scatter3d"
           }
          ],
          "scattercarpet": [
           {
            "marker": {
             "colorbar": {
              "outlinewidth": 0,
              "ticks": ""
             }
            },
            "type": "scattercarpet"
           }
          ],
          "scattergeo": [
           {
            "marker": {
             "colorbar": {
              "outlinewidth": 0,
              "ticks": ""
             }
            },
            "type": "scattergeo"
           }
          ],
          "scattergl": [
           {
            "marker": {
             "colorbar": {
              "outlinewidth": 0,
              "ticks": ""
             }
            },
            "type": "scattergl"
           }
          ],
          "scattermapbox": [
           {
            "marker": {
             "colorbar": {
              "outlinewidth": 0,
              "ticks": ""
             }
            },
            "type": "scattermapbox"
           }
          ],
          "scatterpolar": [
           {
            "marker": {
             "colorbar": {
              "outlinewidth": 0,
              "ticks": ""
             }
            },
            "type": "scatterpolar"
           }
          ],
          "scatterpolargl": [
           {
            "marker": {
             "colorbar": {
              "outlinewidth": 0,
              "ticks": ""
             }
            },
            "type": "scatterpolargl"
           }
          ],
          "scatterternary": [
           {
            "marker": {
             "colorbar": {
              "outlinewidth": 0,
              "ticks": ""
             }
            },
            "type": "scatterternary"
           }
          ],
          "surface": [
           {
            "colorbar": {
             "outlinewidth": 0,
             "ticks": ""
            },
            "colorscale": [
             [
              0,
              "#0d0887"
             ],
             [
              0.1111111111111111,
              "#46039f"
             ],
             [
              0.2222222222222222,
              "#7201a8"
             ],
             [
              0.3333333333333333,
              "#9c179e"
             ],
             [
              0.4444444444444444,
              "#bd3786"
             ],
             [
              0.5555555555555556,
              "#d8576b"
             ],
             [
              0.6666666666666666,
              "#ed7953"
             ],
             [
              0.7777777777777778,
              "#fb9f3a"
             ],
             [
              0.8888888888888888,
              "#fdca26"
             ],
             [
              1,
              "#f0f921"
             ]
            ],
            "type": "surface"
           }
          ],
          "table": [
           {
            "cells": {
             "fill": {
              "color": "#EBF0F8"
             },
             "line": {
              "color": "white"
             }
            },
            "header": {
             "fill": {
              "color": "#C8D4E3"
             },
             "line": {
              "color": "white"
             }
            },
            "type": "table"
           }
          ]
         },
         "layout": {
          "annotationdefaults": {
           "arrowcolor": "#2a3f5f",
           "arrowhead": 0,
           "arrowwidth": 1
          },
          "autotypenumbers": "strict",
          "coloraxis": {
           "colorbar": {
            "outlinewidth": 0,
            "ticks": ""
           }
          },
          "colorscale": {
           "diverging": [
            [
             0,
             "#8e0152"
            ],
            [
             0.1,
             "#c51b7d"
            ],
            [
             0.2,
             "#de77ae"
            ],
            [
             0.3,
             "#f1b6da"
            ],
            [
             0.4,
             "#fde0ef"
            ],
            [
             0.5,
             "#f7f7f7"
            ],
            [
             0.6,
             "#e6f5d0"
            ],
            [
             0.7,
             "#b8e186"
            ],
            [
             0.8,
             "#7fbc41"
            ],
            [
             0.9,
             "#4d9221"
            ],
            [
             1,
             "#276419"
            ]
           ],
           "sequential": [
            [
             0,
             "#0d0887"
            ],
            [
             0.1111111111111111,
             "#46039f"
            ],
            [
             0.2222222222222222,
             "#7201a8"
            ],
            [
             0.3333333333333333,
             "#9c179e"
            ],
            [
             0.4444444444444444,
             "#bd3786"
            ],
            [
             0.5555555555555556,
             "#d8576b"
            ],
            [
             0.6666666666666666,
             "#ed7953"
            ],
            [
             0.7777777777777778,
             "#fb9f3a"
            ],
            [
             0.8888888888888888,
             "#fdca26"
            ],
            [
             1,
             "#f0f921"
            ]
           ],
           "sequentialminus": [
            [
             0,
             "#0d0887"
            ],
            [
             0.1111111111111111,
             "#46039f"
            ],
            [
             0.2222222222222222,
             "#7201a8"
            ],
            [
             0.3333333333333333,
             "#9c179e"
            ],
            [
             0.4444444444444444,
             "#bd3786"
            ],
            [
             0.5555555555555556,
             "#d8576b"
            ],
            [
             0.6666666666666666,
             "#ed7953"
            ],
            [
             0.7777777777777778,
             "#fb9f3a"
            ],
            [
             0.8888888888888888,
             "#fdca26"
            ],
            [
             1,
             "#f0f921"
            ]
           ]
          },
          "colorway": [
           "#636efa",
           "#EF553B",
           "#00cc96",
           "#ab63fa",
           "#FFA15A",
           "#19d3f3",
           "#FF6692",
           "#B6E880",
           "#FF97FF",
           "#FECB52"
          ],
          "font": {
           "color": "#2a3f5f"
          },
          "geo": {
           "bgcolor": "white",
           "lakecolor": "white",
           "landcolor": "#E5ECF6",
           "showlakes": true,
           "showland": true,
           "subunitcolor": "white"
          },
          "hoverlabel": {
           "align": "left"
          },
          "hovermode": "closest",
          "mapbox": {
           "style": "light"
          },
          "paper_bgcolor": "white",
          "plot_bgcolor": "#E5ECF6",
          "polar": {
           "angularaxis": {
            "gridcolor": "white",
            "linecolor": "white",
            "ticks": ""
           },
           "bgcolor": "#E5ECF6",
           "radialaxis": {
            "gridcolor": "white",
            "linecolor": "white",
            "ticks": ""
           }
          },
          "scene": {
           "xaxis": {
            "backgroundcolor": "#E5ECF6",
            "gridcolor": "white",
            "gridwidth": 2,
            "linecolor": "white",
            "showbackground": true,
            "ticks": "",
            "zerolinecolor": "white"
           },
           "yaxis": {
            "backgroundcolor": "#E5ECF6",
            "gridcolor": "white",
            "gridwidth": 2,
            "linecolor": "white",
            "showbackground": true,
            "ticks": "",
            "zerolinecolor": "white"
           },
           "zaxis": {
            "backgroundcolor": "#E5ECF6",
            "gridcolor": "white",
            "gridwidth": 2,
            "linecolor": "white",
            "showbackground": true,
            "ticks": "",
            "zerolinecolor": "white"
           }
          },
          "shapedefaults": {
           "line": {
            "color": "#2a3f5f"
           }
          },
          "ternary": {
           "aaxis": {
            "gridcolor": "white",
            "linecolor": "white",
            "ticks": ""
           },
           "baxis": {
            "gridcolor": "white",
            "linecolor": "white",
            "ticks": ""
           },
           "bgcolor": "#E5ECF6",
           "caxis": {
            "gridcolor": "white",
            "linecolor": "white",
            "ticks": ""
           }
          },
          "title": {
           "x": 0.05
          },
          "xaxis": {
           "automargin": true,
           "gridcolor": "white",
           "linecolor": "white",
           "ticks": "",
           "title": {
            "standoff": 15
           },
           "zerolinecolor": "white",
           "zerolinewidth": 2
          },
          "yaxis": {
           "automargin": true,
           "gridcolor": "white",
           "linecolor": "white",
           "ticks": "",
           "title": {
            "standoff": 15
           },
           "zerolinecolor": "white",
           "zerolinewidth": 2
          }
         }
        },
        "title": {
         "text": "Mean Correlation of Variables with obs"
        },
        "width": 800,
        "xaxis": {
         "anchor": "y",
         "autorange": true,
         "domain": [
          0,
          1
         ],
         "range": [
          0,
          1.0526315789473684
         ],
         "title": {
          "text": "Mean Correlation"
         },
         "type": "linear"
        },
        "yaxis": {
         "anchor": "x",
         "autorange": true,
         "domain": [
          0,
          1
         ],
         "range": [
          -0.5,
          3.5
         ],
         "title": {
          "text": "Variable"
         },
         "type": "category"
        }
       }
      },
      "image/png": "[encoded data removed]",
      "text/html": [
       "<div>                            <div id=\"f12c1840-22ca-4437-9f7c-265c74fbd0c5\" class=\"plotly-graph-div\" style=\"height:600px; width:800px;\"></div>            <script type=\"text/javascript\">                require([\"plotly\"], function(Plotly) {                    window.PLOTLYENV=window.PLOTLYENV || {};                                    if (document.getElementById(\"f12c1840-22ca-4437-9f7c-265c74fbd0c5\")) {                    Plotly.newPlot(                        \"f12c1840-22ca-4437-9f7c-265c74fbd0c5\",                        [{\"alignmentgroup\":\"True\",\"hovertemplate\":\"Mean Correlation=%{x}<br>Variable=%{y}<extra></extra>\",\"legendgroup\":\"\",\"marker\":{\"color\":\"#636efa\",\"pattern\":{\"shape\":\"\"}},\"name\":\"\",\"offsetgroup\":\"\",\"orientation\":\"h\",\"showlegend\":false,\"textposition\":\"auto\",\"x\":[1.0,0.8511405175271287,0.7966301959517206,0.8515441952438109],\"xaxis\":\"x\",\"y\":[\"obs\",\"lis_dis\",\"pcr_dis\",\"wg3_dis\"],\"yaxis\":\"y\",\"type\":\"bar\"}],                        {\"template\":{\"data\":{\"histogram2dcontour\":[{\"type\":\"histogram2dcontour\",\"colorbar\":{\"outlinewidth\":0,\"ticks\":\"\"},\"colorscale\":[[0.0,\"#0d0887\"],[0.1111111111111111,\"#46039f\"],[0.2222222222222222,\"#7201a8\"],[0.3333333333333333,\"#9c179e\"],[0.4444444444444444,\"#bd3786\"],[0.5555555555555556,\"#d8576b\"],[0.6666666666666666,\"#ed7953\"],[0.7777777777777778,\"#fb9f3a\"],[0.8888888888888888,\"#fdca26\"],[1.0,\"#f0f921\"]]}],\"choropleth\":[{\"type\":\"choropleth\",\"colorbar\":{\"outlinewidth\":0,\"ticks\":\"\"}}],\"histogram2d\":[{\"type\":\"histogram2d\",\"colorbar\":{\"outlinewidth\":0,\"ticks\":\"\"},\"colorscale\":[[0.0,\"#0d0887\"],[0.1111111111111111,\"#46039f\"],[0.2222222222222222,\"#7201a8\"],[0.3333333333333333,\"#9c179e\"],[0.4444444444444444,\"#bd3786\"],[0.5555555555555556,\"#d8576b\"],[0.6666666666666666,\"#ed7953\"],[0.7777777777777778,\"#fb9f3a\"],[0.8888888888888888,\"#fdca26\"],[1.0,\"#f0f921\"]]}],\"heatmap\":[{\"type\":\"heatmap\",\"colorbar\":{\"outlinewidth\":0,\"ticks\":\"\"},\"colorscale\":[[0.0,\"#0d0887\"],[0.1111111111111111,\"#46039f\"],[0.2222222222222222,\"#7201a8\"],[0.3333333333333333,\"#9c179e\"],[0.4444444444444444,\"#bd3786\"],[0.5555555555555556,\"#d8576b\"],[0.6666666666666666,\"#ed7953\"],[0.7777777777777778,\"#fb9f3a\"],[0.8888888888888888,\"#fdca26\"],[1.0,\"#f0f921\"]]}],\"heatmapgl\":[{\"type\":\"heatmapgl\",\"colorbar\":{\"outlinewidth\":0,\"ticks\":\"\"},\"colorscale\":[[0.0,\"#0d0887\"],[0.1111111111111111,\"#46039f\"],[0.2222222222222222,\"#7201a8\"],[0.3333333333333333,\"#9c179e\"],[0.4444444444444444,\"#bd3786\"],[0.5555555555555556,\"#d8576b\"],[0.6666666666666666,\"#ed7953\"],[0.7777777777777778,\"#fb9f3a\"],[0.8888888888888888,\"#fdca26\"],[1.0,\"#f0f921\"]]}],\"contourcarpet\":[{\"type\":\"contourcarpet\",\"colorbar\":{\"outlinewidth\":0,\"ticks\":\"\"}}],\"contour\":[{\"type\":\"contour\",\"colorbar\":{\"outlinewidth\":0,\"ticks\":\"\"},\"colorscale\":[[0.0,\"#0d0887\"],[0.1111111111111111,\"#46039f\"],[0.2222222222222222,\"#7201a8\"],[0.3333333333333333,\"#9c179e\"],[0.4444444444444444,\"#bd3786\"],[0.5555555555555556,\"#d8576b\"],[0.6666666666666666,\"#ed7953\"],[0.7777777777777778,\"#fb9f3a\"],[0.8888888888888888,\"#fdca26\"],[1.0,\"#f0f921\"]]}],\"surface\":[{\"type\":\"surface\",\"colorbar\":{\"outlinewidth\":0,\"ticks\":\"\"},\"colorscale\":[[0.0,\"#0d0887\"],[0.1111111111111111,\"#46039f\"],[0.2222222222222222,\"#7201a8\"],[0.3333333333333333,\"#9c179e\"],[0.4444444444444444,\"#bd3786\"],[0.5555555555555556,\"#d8576b\"],[0.6666666666666666,\"#ed7953\"],[0.7777777777777778,\"#fb9f3a\"],[0.8888888888888888,\"#fdca26\"],[1.0,\"#f0f921\"]]}],\"mesh3d\":[{\"type\":\"mesh3d\",\"colorbar\":{\"outlinewidth\":0,\"ticks\":\"\"}}],\"scatter\":[{\"fillpattern\":{\"fillmode\":\"overlay\",\"size\":10,\"solidity\":0.2},\"type\":\"scatter\"}],\"parcoords\":[{\"type\":\"parcoords\",\"line\":{\"colorbar\":{\"outlinewidth\":0,\"ticks\":\"\"}}}],\"scatterpolargl\":[{\"type\":\"scatterpolargl\",\"marker\":{\"colorbar\":{\"outlinewidth\":0,\"ticks\":\"\"}}}],\"bar\":[{\"error_x\":{\"color\":\"#2a3f5f\"},\"error_y\":{\"color\":\"#2a3f5f\"},\"marker\":{\"line\":{\"color\":\"#E5ECF6\",\"width\":0.5},\"pattern\":{\"fillmode\":\"overlay\",\"size\":10,\"solidity\":0.2}},\"type\":\"bar\"}],\"scattergeo\":[{\"type\":\"scattergeo\",\"marker\":{\"colorbar\":{\"outlinewidth\":0,\"ticks\":\"\"}}}],\"scatterpolar\":[{\"type\":\"scatterpolar\",\"marker\":{\"colorbar\":{\"outlinewidth\":0,\"ticks\":\"\"}}}],\"histogram\":[{\"marker\":{\"pattern\":{\"fillmode\":\"overlay\",\"size\":10,\"solidity\":0.2}},\"type\":\"histogram\"}],\"scattergl\":[{\"type\":\"scattergl\",\"marker\":{\"colorbar\":{\"outlinewidth\":0,\"ticks\":\"\"}}}],\"scatter3d\":[{\"type\":\"scatter3d\",\"line\":{\"colorbar\":{\"outlinewidth\":0,\"ticks\":\"\"}},\"marker\":{\"colorbar\":{\"outlinewidth\":0,\"ticks\":\"\"}}}],\"scattermapbox\":[{\"type\":\"scattermapbox\",\"marker\":{\"colorbar\":{\"outlinewidth\":0,\"ticks\":\"\"}}}],\"scatterternary\":[{\"type\":\"scatterternary\",\"marker\":{\"colorbar\":{\"outlinewidth\":0,\"ticks\":\"\"}}}],\"scattercarpet\":[{\"type\":\"scattercarpet\",\"marker\":{\"colorbar\":{\"outlinewidth\":0,\"ticks\":\"\"}}}],\"carpet\":[{\"aaxis\":{\"endlinecolor\":\"#2a3f5f\",\"gridcolor\":\"white\",\"linecolor\":\"white\",\"minorgridcolor\":\"white\",\"startlinecolor\":\"#2a3f5f\"},\"baxis\":{\"endlinecolor\":\"#2a3f5f\",\"gridcolor\":\"white\",\"linecolor\":\"white\",\"minorgridcolor\":\"white\",\"startlinecolor\":\"#2a3f5f\"},\"type\":\"carpet\"}],\"table\":[{\"cells\":{\"fill\":{\"color\":\"#EBF0F8\"},\"line\":{\"color\":\"white\"}},\"header\":{\"fill\":{\"color\":\"#C8D4E3\"},\"line\":{\"color\":\"white\"}},\"type\":\"table\"}],\"barpolar\":[{\"marker\":{\"line\":{\"color\":\"#E5ECF6\",\"width\":0.5},\"pattern\":{\"fillmode\":\"overlay\",\"size\":10,\"solidity\":0.2}},\"type\":\"barpolar\"}],\"pie\":[{\"automargin\":true,\"type\":\"pie\"}]},\"layout\":{\"autotypenumbers\":\"strict\",\"colorway\":[\"#636efa\",\"#EF553B\",\"#00cc96\",\"#ab63fa\",\"#FFA15A\",\"#19d3f3\",\"#FF6692\",\"#B6E880\",\"#FF97FF\",\"#FECB52\"],\"font\":{\"color\":\"#2a3f5f\"},\"hovermode\":\"closest\",\"hoverlabel\":{\"align\":\"left\"},\"paper_bgcolor\":\"white\",\"plot_bgcolor\":\"#E5ECF6\",\"polar\":{\"bgcolor\":\"#E5ECF6\",\"angularaxis\":{\"gridcolor\":\"white\",\"linecolor\":\"white\",\"ticks\":\"\"},\"radialaxis\":{\"gridcolor\":\"white\",\"linecolor\":\"white\",\"ticks\":\"\"}},\"ternary\":{\"bgcolor\":\"#E5ECF6\",\"aaxis\":{\"gridcolor\":\"white\",\"linecolor\":\"white\",\"ticks\":\"\"},\"baxis\":{\"gridcolor\":\"white\",\"linecolor\":\"white\",\"ticks\":\"\"},\"caxis\":{\"gridcolor\":\"white\",\"linecolor\":\"white\",\"ticks\":\"\"}},\"coloraxis\":{\"colorbar\":{\"outlinewidth\":0,\"ticks\":\"\"}},\"colorscale\":{\"sequential\":[[0.0,\"#0d0887\"],[0.1111111111111111,\"#46039f\"],[0.2222222222222222,\"#7201a8\"],[0.3333333333333333,\"#9c179e\"],[0.4444444444444444,\"#bd3786\"],[0.5555555555555556,\"#d8576b\"],[0.6666666666666666,\"#ed7953\"],[0.7777777777777778,\"#fb9f3a\"],[0.8888888888888888,\"#fdca26\"],[1.0,\"#f0f921\"]],\"sequentialminus\":[[0.0,\"#0d0887\"],[0.1111111111111111,\"#46039f\"],[0.2222222222222222,\"#7201a8\"],[0.3333333333333333,\"#9c179e\"],[0.4444444444444444,\"#bd3786\"],[0.5555555555555556,\"#d8576b\"],[0.6666666666666666,\"#ed7953\"],[0.7777777777777778,\"#fb9f3a\"],[0.8888888888888888,\"#fdca26\"],[1.0,\"#f0f921\"]],\"diverging\":[[0,\"#8e0152\"],[0.1,\"#c51b7d\"],[0.2,\"#de77ae\"],[0.3,\"#f1b6da\"],[0.4,\"#fde0ef\"],[0.5,\"#f7f7f7\"],[0.6,\"#e6f5d0\"],[0.7,\"#b8e186\"],[0.8,\"#7fbc41\"],[0.9,\"#4d9221\"],[1,\"#276419\"]]},\"xaxis\":{\"gridcolor\":\"white\",\"linecolor\":\"white\",\"ticks\":\"\",\"title\":{\"standoff\":15},\"zerolinecolor\":\"white\",\"automargin\":true,\"zerolinewidth\":2},\"yaxis\":{\"gridcolor\":\"white\",\"linecolor\":\"white\",\"ticks\":\"\",\"title\":{\"standoff\":15},\"zerolinecolor\":\"white\",\"automargin\":true,\"zerolinewidth\":2},\"scene\":{\"xaxis\":{\"backgroundcolor\":\"#E5ECF6\",\"gridcolor\":\"white\",\"linecolor\":\"white\",\"showbackground\":true,\"ticks\":\"\",\"zerolinecolor\":\"white\",\"gridwidth\":2},\"yaxis\":{\"backgroundcolor\":\"#E5ECF6\",\"gridcolor\":\"white\",\"linecolor\":\"white\",\"showbackground\":true,\"ticks\":\"\",\"zerolinecolor\":\"white\",\"gridwidth\":2},\"zaxis\":{\"backgroundcolor\":\"#E5ECF6\",\"gridcolor\":\"white\",\"linecolor\":\"white\",\"showbackground\":true,\"ticks\":\"\",\"zerolinecolor\":\"white\",\"gridwidth\":2}},\"shapedefaults\":{\"line\":{\"color\":\"#2a3f5f\"}},\"annotationdefaults\":{\"arrowcolor\":\"#2a3f5f\",\"arrowhead\":0,\"arrowwidth\":1},\"geo\":{\"bgcolor\":\"white\",\"landcolor\":\"#E5ECF6\",\"subunitcolor\":\"white\",\"showland\":true,\"showlakes\":true,\"lakecolor\":\"white\"},\"title\":{\"x\":0.05},\"mapbox\":{\"style\":\"light\"}}},\"xaxis\":{\"anchor\":\"y\",\"domain\":[0.0,1.0],\"title\":{\"text\":\"Mean Correlation\"}},\"yaxis\":{\"anchor\":\"x\",\"domain\":[0.0,1.0],\"title\":{\"text\":\"Variable\"}},\"legend\":{\"tracegroupgap\":0},\"title\":{\"text\":\"Mean Correlation of Variables with obs\"},\"barmode\":\"relative\",\"height\":600,\"width\":800},                        {\"responsive\": true}                    ).then(function(){\n",
       "                            \n",
       "var gd = document.getElementById('f12c1840-22ca-4437-9f7c-265c74fbd0c5');\n",
       "var x = new MutationObserver(function (mutations, observer) {{\n",
       "        var display = window.getComputedStyle(gd).display;\n",
       "        if (!display || display === 'none') {{\n",
       "            console.log([gd, 'removed!']);\n",
       "            Plotly.purge(gd);\n",
       "            observer.disconnect();\n",
       "        }}\n",
       "}});\n",
       "\n",
       "// Listen for the removal of the full notebook cells\n",
       "var notebookContainer = gd.closest('#notebook-container');\n",
       "if (notebookContainer) {{\n",
       "    x.observe(notebookContainer, {childList: true});\n",
       "}}\n",
       "\n",
       "// Listen for the clearing of the current output cell\n",
       "var outputEl = gd.closest('.output');\n",
       "if (outputEl) {{\n",
       "    x.observe(outputEl, {childList: true});\n",
       "}}\n",
       "\n",
       "                        })                };                });            </script>        </div>"
      ]
     },
     "metadata": {},
     "output_type": "display_data"
    }
   ],
   "source": [
    "# Sort the DataFrame in descending order based on mean correlation\n",
    "fig = px.bar(\n",
    "    mean_correlation_df,\n",
    "    x='Mean Correlation',\n",
    "    y='Variable',\n",
    "    orientation='h',\n",
    "    title='Mean Correlation of Variables with obs',\n",
    "    height=600,\n",
    "    width=800,\n",
    ")\n",
    "\n",
    "fig.show()"
   ]
  },
  {
   "cell_type": "code",
   "execution_count": 15,
   "id": "b9b269e6-30a2-4d16-86ad-ff6f7247613d",
   "metadata": {},
   "outputs": [
    {
     "data": {
      "text/html": [
       "<div>\n",
       "<style scoped>\n",
       "    .dataframe tbody tr th:only-of-type {\n",
       "        vertical-align: middle;\n",
       "    }\n",
       "\n",
       "    .dataframe tbody tr th {\n",
       "        vertical-align: top;\n",
       "    }\n",
       "\n",
       "    .dataframe thead th {\n",
       "        text-align: right;\n",
       "    }\n",
       "</style>\n",
       "<table border=\"1\" class=\"dataframe\">\n",
       "  <thead>\n",
       "    <tr style=\"text-align: right;\">\n",
       "      <th></th>\n",
       "      <th>meteo_rain</th>\n",
       "      <th>meteo_tair</th>\n",
       "      <th>wg3_dis</th>\n",
       "      <th>wg3_RootMoist</th>\n",
       "      <th>wg3_SurfStor</th>\n",
       "      <th>wg3_SWE</th>\n",
       "      <th>lis_dis</th>\n",
       "      <th>lis_SurfMoist</th>\n",
       "      <th>lis_SWE</th>\n",
       "      <th>pcr_dis</th>\n",
       "      <th>pcr_SurfMoist</th>\n",
       "      <th>pcr_SurfStor</th>\n",
       "      <th>pcr_SWE</th>\n",
       "      <th>obs</th>\n",
       "    </tr>\n",
       "    <tr>\n",
       "      <th>level_1</th>\n",
       "      <th></th>\n",
       "      <th></th>\n",
       "      <th></th>\n",
       "      <th></th>\n",
       "      <th></th>\n",
       "      <th></th>\n",
       "      <th></th>\n",
       "      <th></th>\n",
       "      <th></th>\n",
       "      <th></th>\n",
       "      <th></th>\n",
       "      <th></th>\n",
       "      <th></th>\n",
       "      <th></th>\n",
       "    </tr>\n",
       "  </thead>\n",
       "  <tbody>\n",
       "    <tr>\n",
       "      <th>lis_SWE</th>\n",
       "      <td>-0.238872</td>\n",
       "      <td>-0.470149</td>\n",
       "      <td>0.176487</td>\n",
       "      <td>0.379543</td>\n",
       "      <td>0.181070</td>\n",
       "      <td>0.931039</td>\n",
       "      <td>0.038579</td>\n",
       "      <td>0.330837</td>\n",
       "      <td>1.000000</td>\n",
       "      <td>0.076911</td>\n",
       "      <td>0.133050</td>\n",
       "      <td>0.048760</td>\n",
       "      <td>0.928257</td>\n",
       "      <td>0.137054</td>\n",
       "    </tr>\n",
       "    <tr>\n",
       "      <th>lis_SurfMoist</th>\n",
       "      <td>-0.123887</td>\n",
       "      <td>-0.714966</td>\n",
       "      <td>0.580115</td>\n",
       "      <td>0.908282</td>\n",
       "      <td>0.643794</td>\n",
       "      <td>0.283207</td>\n",
       "      <td>0.402084</td>\n",
       "      <td>1.000000</td>\n",
       "      <td>0.330837</td>\n",
       "      <td>0.459257</td>\n",
       "      <td>0.437241</td>\n",
       "      <td>0.380881</td>\n",
       "      <td>0.272942</td>\n",
       "      <td>0.527052</td>\n",
       "    </tr>\n",
       "    <tr>\n",
       "      <th>lis_dis</th>\n",
       "      <td>0.296797</td>\n",
       "      <td>-0.001519</td>\n",
       "      <td>0.797801</td>\n",
       "      <td>0.243298</td>\n",
       "      <td>0.739361</td>\n",
       "      <td>0.031843</td>\n",
       "      <td>1.000000</td>\n",
       "      <td>0.402084</td>\n",
       "      <td>0.038579</td>\n",
       "      <td>0.858673</td>\n",
       "      <td>0.335476</td>\n",
       "      <td>0.819167</td>\n",
       "      <td>0.037589</td>\n",
       "      <td>0.851141</td>\n",
       "    </tr>\n",
       "    <tr>\n",
       "      <th>meteo_rain</th>\n",
       "      <td>1.000000</td>\n",
       "      <td>0.322434</td>\n",
       "      <td>0.325480</td>\n",
       "      <td>-0.156286</td>\n",
       "      <td>0.249923</td>\n",
       "      <td>-0.238046</td>\n",
       "      <td>0.296797</td>\n",
       "      <td>-0.123887</td>\n",
       "      <td>-0.238872</td>\n",
       "      <td>0.343775</td>\n",
       "      <td>0.525789</td>\n",
       "      <td>0.329118</td>\n",
       "      <td>-0.224948</td>\n",
       "      <td>0.278783</td>\n",
       "    </tr>\n",
       "    <tr>\n",
       "      <th>meteo_tair</th>\n",
       "      <td>0.322434</td>\n",
       "      <td>1.000000</td>\n",
       "      <td>-0.328350</td>\n",
       "      <td>-0.865631</td>\n",
       "      <td>-0.288032</td>\n",
       "      <td>-0.428280</td>\n",
       "      <td>-0.001519</td>\n",
       "      <td>-0.714966</td>\n",
       "      <td>-0.470149</td>\n",
       "      <td>-0.058434</td>\n",
       "      <td>-0.424543</td>\n",
       "      <td>-0.019815</td>\n",
       "      <td>-0.409238</td>\n",
       "      <td>-0.224970</td>\n",
       "    </tr>\n",
       "    <tr>\n",
       "      <th>obs</th>\n",
       "      <td>0.278783</td>\n",
       "      <td>-0.224970</td>\n",
       "      <td>0.851544</td>\n",
       "      <td>0.437391</td>\n",
       "      <td>0.752966</td>\n",
       "      <td>0.115651</td>\n",
       "      <td>0.851141</td>\n",
       "      <td>0.527052</td>\n",
       "      <td>0.137054</td>\n",
       "      <td>0.796630</td>\n",
       "      <td>0.478880</td>\n",
       "      <td>0.748636</td>\n",
       "      <td>0.119286</td>\n",
       "      <td>1.000000</td>\n",
       "    </tr>\n",
       "    <tr>\n",
       "      <th>pcr_SWE</th>\n",
       "      <td>-0.224948</td>\n",
       "      <td>-0.409238</td>\n",
       "      <td>0.145415</td>\n",
       "      <td>0.314011</td>\n",
       "      <td>0.139879</td>\n",
       "      <td>0.992442</td>\n",
       "      <td>0.037589</td>\n",
       "      <td>0.272942</td>\n",
       "      <td>0.928257</td>\n",
       "      <td>0.073391</td>\n",
       "      <td>0.096428</td>\n",
       "      <td>0.059689</td>\n",
       "      <td>1.000000</td>\n",
       "      <td>0.119286</td>\n",
       "    </tr>\n",
       "    <tr>\n",
       "      <th>pcr_SurfMoist</th>\n",
       "      <td>0.525789</td>\n",
       "      <td>-0.424543</td>\n",
       "      <td>0.615369</td>\n",
       "      <td>0.539405</td>\n",
       "      <td>0.445144</td>\n",
       "      <td>0.096957</td>\n",
       "      <td>0.335476</td>\n",
       "      <td>0.437241</td>\n",
       "      <td>0.133050</td>\n",
       "      <td>0.425937</td>\n",
       "      <td>1.000000</td>\n",
       "      <td>0.393787</td>\n",
       "      <td>0.096428</td>\n",
       "      <td>0.478880</td>\n",
       "    </tr>\n",
       "    <tr>\n",
       "      <th>pcr_SurfStor</th>\n",
       "      <td>0.329118</td>\n",
       "      <td>-0.019815</td>\n",
       "      <td>0.734508</td>\n",
       "      <td>0.258927</td>\n",
       "      <td>0.654711</td>\n",
       "      <td>0.055268</td>\n",
       "      <td>0.819167</td>\n",
       "      <td>0.380881</td>\n",
       "      <td>0.048760</td>\n",
       "      <td>0.937483</td>\n",
       "      <td>0.393787</td>\n",
       "      <td>1.000000</td>\n",
       "      <td>0.059689</td>\n",
       "      <td>0.748636</td>\n",
       "    </tr>\n",
       "    <tr>\n",
       "      <th>pcr_dis</th>\n",
       "      <td>0.343775</td>\n",
       "      <td>-0.058434</td>\n",
       "      <td>0.797169</td>\n",
       "      <td>0.324584</td>\n",
       "      <td>0.744967</td>\n",
       "      <td>0.070324</td>\n",
       "      <td>0.858673</td>\n",
       "      <td>0.459257</td>\n",
       "      <td>0.076911</td>\n",
       "      <td>1.000000</td>\n",
       "      <td>0.425937</td>\n",
       "      <td>0.937483</td>\n",
       "      <td>0.073391</td>\n",
       "      <td>0.796630</td>\n",
       "    </tr>\n",
       "    <tr>\n",
       "      <th>wg3_RootMoist</th>\n",
       "      <td>-0.156286</td>\n",
       "      <td>-0.865631</td>\n",
       "      <td>0.533679</td>\n",
       "      <td>1.000000</td>\n",
       "      <td>0.529038</td>\n",
       "      <td>0.327490</td>\n",
       "      <td>0.243298</td>\n",
       "      <td>0.908282</td>\n",
       "      <td>0.379543</td>\n",
       "      <td>0.324584</td>\n",
       "      <td>0.539405</td>\n",
       "      <td>0.258927</td>\n",
       "      <td>0.314011</td>\n",
       "      <td>0.437391</td>\n",
       "    </tr>\n",
       "    <tr>\n",
       "      <th>wg3_SWE</th>\n",
       "      <td>-0.238046</td>\n",
       "      <td>-0.428280</td>\n",
       "      <td>0.144142</td>\n",
       "      <td>0.327490</td>\n",
       "      <td>0.138687</td>\n",
       "      <td>1.000000</td>\n",
       "      <td>0.031843</td>\n",
       "      <td>0.283207</td>\n",
       "      <td>0.931039</td>\n",
       "      <td>0.070324</td>\n",
       "      <td>0.096957</td>\n",
       "      <td>0.055268</td>\n",
       "      <td>0.992442</td>\n",
       "      <td>0.115651</td>\n",
       "    </tr>\n",
       "    <tr>\n",
       "      <th>wg3_SurfStor</th>\n",
       "      <td>0.249923</td>\n",
       "      <td>-0.288032</td>\n",
       "      <td>0.841420</td>\n",
       "      <td>0.529038</td>\n",
       "      <td>1.000000</td>\n",
       "      <td>0.138687</td>\n",
       "      <td>0.739361</td>\n",
       "      <td>0.643794</td>\n",
       "      <td>0.181070</td>\n",
       "      <td>0.744967</td>\n",
       "      <td>0.445144</td>\n",
       "      <td>0.654711</td>\n",
       "      <td>0.139879</td>\n",
       "      <td>0.752966</td>\n",
       "    </tr>\n",
       "    <tr>\n",
       "      <th>wg3_dis</th>\n",
       "      <td>0.325480</td>\n",
       "      <td>-0.328350</td>\n",
       "      <td>1.000000</td>\n",
       "      <td>0.533679</td>\n",
       "      <td>0.841420</td>\n",
       "      <td>0.144142</td>\n",
       "      <td>0.797801</td>\n",
       "      <td>0.580115</td>\n",
       "      <td>0.176487</td>\n",
       "      <td>0.797169</td>\n",
       "      <td>0.615369</td>\n",
       "      <td>0.734508</td>\n",
       "      <td>0.145415</td>\n",
       "      <td>0.851544</td>\n",
       "    </tr>\n",
       "  </tbody>\n",
       "</table>\n",
       "</div>"
      ],
      "text/plain": [
       "               meteo_rain  meteo_tair   wg3_dis  wg3_RootMoist  wg3_SurfStor   \n",
       "level_1                                                                        \n",
       "lis_SWE         -0.238872   -0.470149  0.176487       0.379543      0.181070  \\\n",
       "lis_SurfMoist   -0.123887   -0.714966  0.580115       0.908282      0.643794   \n",
       "lis_dis          0.296797   -0.001519  0.797801       0.243298      0.739361   \n",
       "meteo_rain       1.000000    0.322434  0.325480      -0.156286      0.249923   \n",
       "meteo_tair       0.322434    1.000000 -0.328350      -0.865631     -0.288032   \n",
       "obs              0.278783   -0.224970  0.851544       0.437391      0.752966   \n",
       "pcr_SWE         -0.224948   -0.409238  0.145415       0.314011      0.139879   \n",
       "pcr_SurfMoist    0.525789   -0.424543  0.615369       0.539405      0.445144   \n",
       "pcr_SurfStor     0.329118   -0.019815  0.734508       0.258927      0.654711   \n",
       "pcr_dis          0.343775   -0.058434  0.797169       0.324584      0.744967   \n",
       "wg3_RootMoist   -0.156286   -0.865631  0.533679       1.000000      0.529038   \n",
       "wg3_SWE         -0.238046   -0.428280  0.144142       0.327490      0.138687   \n",
       "wg3_SurfStor     0.249923   -0.288032  0.841420       0.529038      1.000000   \n",
       "wg3_dis          0.325480   -0.328350  1.000000       0.533679      0.841420   \n",
       "\n",
       "                wg3_SWE   lis_dis  lis_SurfMoist   lis_SWE   pcr_dis   \n",
       "level_1                                                                \n",
       "lis_SWE        0.931039  0.038579       0.330837  1.000000  0.076911  \\\n",
       "lis_SurfMoist  0.283207  0.402084       1.000000  0.330837  0.459257   \n",
       "lis_dis        0.031843  1.000000       0.402084  0.038579  0.858673   \n",
       "meteo_rain    -0.238046  0.296797      -0.123887 -0.238872  0.343775   \n",
       "meteo_tair    -0.428280 -0.001519      -0.714966 -0.470149 -0.058434   \n",
       "obs            0.115651  0.851141       0.527052  0.137054  0.796630   \n",
       "pcr_SWE        0.992442  0.037589       0.272942  0.928257  0.073391   \n",
       "pcr_SurfMoist  0.096957  0.335476       0.437241  0.133050  0.425937   \n",
       "pcr_SurfStor   0.055268  0.819167       0.380881  0.048760  0.937483   \n",
       "pcr_dis        0.070324  0.858673       0.459257  0.076911  1.000000   \n",
       "wg3_RootMoist  0.327490  0.243298       0.908282  0.379543  0.324584   \n",
       "wg3_SWE        1.000000  0.031843       0.283207  0.931039  0.070324   \n",
       "wg3_SurfStor   0.138687  0.739361       0.643794  0.181070  0.744967   \n",
       "wg3_dis        0.144142  0.797801       0.580115  0.176487  0.797169   \n",
       "\n",
       "               pcr_SurfMoist  pcr_SurfStor   pcr_SWE       obs  \n",
       "level_1                                                         \n",
       "lis_SWE             0.133050      0.048760  0.928257  0.137054  \n",
       "lis_SurfMoist       0.437241      0.380881  0.272942  0.527052  \n",
       "lis_dis             0.335476      0.819167  0.037589  0.851141  \n",
       "meteo_rain          0.525789      0.329118 -0.224948  0.278783  \n",
       "meteo_tair         -0.424543     -0.019815 -0.409238 -0.224970  \n",
       "obs                 0.478880      0.748636  0.119286  1.000000  \n",
       "pcr_SWE             0.096428      0.059689  1.000000  0.119286  \n",
       "pcr_SurfMoist       1.000000      0.393787  0.096428  0.478880  \n",
       "pcr_SurfStor        0.393787      1.000000  0.059689  0.748636  \n",
       "pcr_dis             0.425937      0.937483  0.073391  0.796630  \n",
       "wg3_RootMoist       0.539405      0.258927  0.314011  0.437391  \n",
       "wg3_SWE             0.096957      0.055268  0.992442  0.115651  \n",
       "wg3_SurfStor        0.445144      0.654711  0.139879  0.752966  \n",
       "wg3_dis             0.615369      0.734508  0.145415  0.851544  "
      ]
     },
     "execution_count": 15,
     "metadata": {},
     "output_type": "execute_result"
    }
   ],
   "source": [
    "import os\n",
    "import pandas as pd\n",
    "import seaborn as sns\n",
    "import matplotlib.pyplot as plt\n",
    "\n",
    "\n",
    "correlations = {}\n",
    "\n",
    "for file_name in os.listdir(folder_path):\n",
    "    if file_name.startswith('allpredictors_') and file_name.endswith('.csv'):\n",
    "        station_id = file_name.replace('allpredictors_', '').replace('.csv', '')\n",
    "        file_path = os.path.join(folder_path, file_name)\n",
    "        \n",
    "        df = pd.read_csv(file_path, index_col='datetime')\n",
    "        \n",
    "        # Exclude the 'Unnamed: 0' column\n",
    "        variables = df.columns[df.columns != 'Unnamed: 0']\n",
    "        \n",
    "        correlation_matrix = df[variables].corr()\n",
    "        correlations[station_id] = correlation_matrix\n",
    "\n",
    "combined_correlation_matrix = pd.concat(correlations.values(), keys=correlations.keys())     \n",
    "combined_correlation_matrix = combined_correlation_matrix.reset_index()\n",
    "df_matrix = combined_correlation_matrix.drop(['level_0'], axis=1)\n",
    "\n",
    "mean_correlation = df_matrix.reset_index().groupby('level_1').mean()\n",
    "mean_correlation = mean_correlation.drop(['index'], axis=1)\n",
    "\n",
    "mean_correlation"
   ]
  },
  {
   "cell_type": "code",
   "execution_count": 18,
   "id": "ea846bfc-5208-415c-a75f-ad38246600c3",
   "metadata": {},
   "outputs": [],
   "source": [
    "grouped_correlation = mean_correlation.groupby(mean_correlation.columns, axis=1).mean()"
   ]
  },
  {
   "cell_type": "code",
   "execution_count": 19,
   "id": "812fdb57-8156-4e7a-bdef-0f61a24661bc",
   "metadata": {},
   "outputs": [
    {
     "data": {
      "application/vnd.plotly.v1+json": {
       "config": {
        "plotlyServerURL": "https://plot.ly"
       },
       "data": [
        {
         "colorscale": [
          [
           0,
           "#440154"
          ],
          [
           0.1111111111111111,
           "#482878"
          ],
          [
           0.2222222222222222,
           "#3e4989"
          ],
          [
           0.3333333333333333,
           "#31688e"
          ],
          [
           0.4444444444444444,
           "#26828e"
          ],
          [
           0.5555555555555556,
           "#1f9e89"
          ],
          [
           0.6666666666666666,
           "#35b779"
          ],
          [
           0.7777777777777778,
           "#6ece58"
          ],
          [
           0.8888888888888888,
           "#b5de2b"
          ],
          [
           1,
           "#fde725"
          ]
         ],
         "type": "heatmap",
         "x": [
          "lis_SWE",
          "lis_SurfMoist",
          "lis_dis",
          "meteo_rain",
          "meteo_tair",
          "obs",
          "pcr_SWE",
          "pcr_SurfMoist",
          "pcr_SurfStor",
          "pcr_dis",
          "wg3_RootMoist",
          "wg3_SWE",
          "wg3_SurfStor",
          "wg3_dis"
         ],
         "y": [
          "lis_SWE",
          "lis_SurfMoist",
          "lis_dis",
          "meteo_rain",
          "meteo_tair",
          "obs",
          "pcr_SWE",
          "pcr_SurfMoist",
          "pcr_SurfStor",
          "pcr_dis",
          "wg3_RootMoist",
          "wg3_SWE",
          "wg3_SurfStor",
          "wg3_dis"
         ],
         "z": [
          [
           1,
           0.33083707097824855,
           0.03857925389433336,
           -0.23887152863333705,
           -0.47014925649567735,
           0.137053674019873,
           0.9282573926375887,
           0.1330504070433876,
           0.048760262106225506,
           0.07691086464756108,
           0.3795430806023572,
           0.9310393475921055,
           0.18107026144345517,
           0.17648702116110107
          ],
          [
           0.33083707097824855,
           1,
           0.40208409050154587,
           -0.12388668949162694,
           -0.7149657367217798,
           0.5270515416901193,
           0.2729419969530203,
           0.43724122370995155,
           0.38088090895625887,
           0.4592565468290069,
           0.9082823356750925,
           0.2832074434680938,
           0.643793693682853,
           0.5801152902725139
          ],
          [
           0.03857925389433336,
           0.40208409050154587,
           1,
           0.29679688453481856,
           -0.001518535654854336,
           0.8511405175271288,
           0.03758894706812392,
           0.3354761815341002,
           0.8191666007985708,
           0.8586730523444399,
           0.24329751201312427,
           0.03184260424864185,
           0.7393612108111478,
           0.7978010186063972
          ],
          [
           -0.23887152863333705,
           -0.12388668949162694,
           0.29679688453481856,
           1,
           0.32243372044149704,
           0.2787831986477744,
           -0.2249478686686736,
           0.5257890558134689,
           0.32911838859308296,
           0.3437748140555771,
           -0.15628622101647052,
           -0.2380463648700949,
           0.24992280003567352,
           0.3254799505743112
          ],
          [
           -0.47014925649567735,
           -0.7149657367217798,
           -0.001518535654854336,
           0.32243372044149704,
           1,
           -0.22497031333162024,
           -0.4092381560492232,
           -0.42454303934562077,
           -0.01981548512749373,
           -0.05843370123424749,
           -0.8656311187945,
           -0.42828035511869517,
           -0.2880323175448657,
           -0.32834957571740325
          ],
          [
           0.137053674019873,
           0.5270515416901193,
           0.8511405175271288,
           0.2787831986477744,
           -0.22497031333162024,
           1,
           0.11928595198754699,
           0.4788797042836615,
           0.7486364205224867,
           0.7966301959517207,
           0.43739079088295485,
           0.11565131762283196,
           0.7529659275849359,
           0.8515441952438111
          ],
          [
           0.9282573926375887,
           0.2729419969530203,
           0.03758894706812392,
           -0.2249478686686736,
           -0.4092381560492232,
           0.11928595198754699,
           1,
           0.09642750417711111,
           0.059689486352295346,
           0.07339138477661085,
           0.31401082961907156,
           0.9924416130266313,
           0.13987856750667066,
           0.1454153538017234
          ],
          [
           0.1330504070433876,
           0.43724122370995155,
           0.3354761815341002,
           0.5257890558134689,
           -0.42454303934562077,
           0.4788797042836615,
           0.09642750417711111,
           1,
           0.393787341933963,
           0.42593739050954293,
           0.5394046564520711,
           0.09695737668434505,
           0.4451443238673782,
           0.6153692627804914
          ],
          [
           0.048760262106225506,
           0.38088090895625887,
           0.8191666007985708,
           0.32911838859308296,
           -0.01981548512749373,
           0.7486364205224867,
           0.059689486352295346,
           0.393787341933963,
           1,
           0.9374830549828971,
           0.2589268722115271,
           0.05526753897048379,
           0.6547112968287964,
           0.7345078962477429
          ],
          [
           0.07691086464756108,
           0.4592565468290069,
           0.8586730523444399,
           0.3437748140555771,
           -0.05843370123424749,
           0.7966301959517207,
           0.07339138477661085,
           0.42593739050954293,
           0.9374830549828971,
           1,
           0.32458422611754884,
           0.07032395061436718,
           0.7449668395727556,
           0.7971691786508239
          ],
          [
           0.3795430806023572,
           0.9082823356750925,
           0.24329751201312427,
           -0.15628622101647052,
           -0.8656311187945,
           0.43739079088295485,
           0.31401082961907156,
           0.5394046564520711,
           0.2589268722115271,
           0.32458422611754884,
           1,
           0.32748982736141863,
           0.5290383865166096,
           0.5336792790998175
          ],
          [
           0.9310393475921055,
           0.2832074434680938,
           0.03184260424864185,
           -0.2380463648700949,
           -0.42828035511869517,
           0.11565131762283196,
           0.9924416130266313,
           0.09695737668434505,
           0.05526753897048379,
           0.07032395061436718,
           0.32748982736141863,
           1,
           0.13868733979577053,
           0.14414160518285182
          ],
          [
           0.18107026144345517,
           0.643793693682853,
           0.7393612108111478,
           0.24992280003567352,
           -0.2880323175448657,
           0.7529659275849359,
           0.13987856750667066,
           0.4451443238673782,
           0.6547112968287964,
           0.7449668395727556,
           0.5290383865166096,
           0.13868733979577053,
           1,
           0.8414200806088509
          ],
          [
           0.17648702116110107,
           0.5801152902725139,
           0.7978010186063972,
           0.3254799505743112,
           -0.32834957571740325,
           0.8515441952438111,
           0.1454153538017234,
           0.6153692627804914,
           0.7345078962477429,
           0.7971691786508239,
           0.5336792790998175,
           0.14414160518285182,
           0.8414200806088509,
           1
          ]
         ]
        }
       ],
       "layout": {
        "height": 600,
        "template": {
         "data": {
          "bar": [
           {
            "error_x": {
             "color": "#2a3f5f"
            },
            "error_y": {
             "color": "#2a3f5f"
            },
            "marker": {
             "line": {
              "color": "#E5ECF6",
              "width": 0.5
             },
             "pattern": {
              "fillmode": "overlay",
              "size": 10,
              "solidity": 0.2
             }
            },
            "type": "bar"
           }
          ],
          "barpolar": [
           {
            "marker": {
             "line": {
              "color": "#E5ECF6",
              "width": 0.5
             },
             "pattern": {
              "fillmode": "overlay",
              "size": 10,
              "solidity": 0.2
             }
            },
            "type": "barpolar"
           }
          ],
          "carpet": [
           {
            "aaxis": {
             "endlinecolor": "#2a3f5f",
             "gridcolor": "white",
             "linecolor": "white",
             "minorgridcolor": "white",
             "startlinecolor": "#2a3f5f"
            },
            "baxis": {
             "endlinecolor": "#2a3f5f",
             "gridcolor": "white",
             "linecolor": "white",
             "minorgridcolor": "white",
             "startlinecolor": "#2a3f5f"
            },
            "type": "carpet"
           }
          ],
          "choropleth": [
           {
            "colorbar": {
             "outlinewidth": 0,
             "ticks": ""
            },
            "type": "choropleth"
           }
          ],
          "contour": [
           {
            "colorbar": {
             "outlinewidth": 0,
             "ticks": ""
            },
            "colorscale": [
             [
              0,
              "#0d0887"
             ],
             [
              0.1111111111111111,
              "#46039f"
             ],
             [
              0.2222222222222222,
              "#7201a8"
             ],
             [
              0.3333333333333333,
              "#9c179e"
             ],
             [
              0.4444444444444444,
              "#bd3786"
             ],
             [
              0.5555555555555556,
              "#d8576b"
             ],
             [
              0.6666666666666666,
              "#ed7953"
             ],
             [
              0.7777777777777778,
              "#fb9f3a"
             ],
             [
              0.8888888888888888,
              "#fdca26"
             ],
             [
              1,
              "#f0f921"
             ]
            ],
            "type": "contour"
           }
          ],
          "contourcarpet": [
           {
            "colorbar": {
             "outlinewidth": 0,
             "ticks": ""
            },
            "type": "contourcarpet"
           }
          ],
          "heatmap": [
           {
            "colorbar": {
             "outlinewidth": 0,
             "ticks": ""
            },
            "colorscale": [
             [
              0,
              "#0d0887"
             ],
             [
              0.1111111111111111,
              "#46039f"
             ],
             [
              0.2222222222222222,
              "#7201a8"
             ],
             [
              0.3333333333333333,
              "#9c179e"
             ],
             [
              0.4444444444444444,
              "#bd3786"
             ],
             [
              0.5555555555555556,
              "#d8576b"
             ],
             [
              0.6666666666666666,
              "#ed7953"
             ],
             [
              0.7777777777777778,
              "#fb9f3a"
             ],
             [
              0.8888888888888888,
              "#fdca26"
             ],
             [
              1,
              "#f0f921"
             ]
            ],
            "type": "heatmap"
           }
          ],
          "heatmapgl": [
           {
            "colorbar": {
             "outlinewidth": 0,
             "ticks": ""
            },
            "colorscale": [
             [
              0,
              "#0d0887"
             ],
             [
              0.1111111111111111,
              "#46039f"
             ],
             [
              0.2222222222222222,
              "#7201a8"
             ],
             [
              0.3333333333333333,
              "#9c179e"
             ],
             [
              0.4444444444444444,
              "#bd3786"
             ],
             [
              0.5555555555555556,
              "#d8576b"
             ],
             [
              0.6666666666666666,
              "#ed7953"
             ],
             [
              0.7777777777777778,
              "#fb9f3a"
             ],
             [
              0.8888888888888888,
              "#fdca26"
             ],
             [
              1,
              "#f0f921"
             ]
            ],
            "type": "heatmapgl"
           }
          ],
          "histogram": [
           {
            "marker": {
             "pattern": {
              "fillmode": "overlay",
              "size": 10,
              "solidity": 0.2
             }
            },
            "type": "histogram"
           }
          ],
          "histogram2d": [
           {
            "colorbar": {
             "outlinewidth": 0,
             "ticks": ""
            },
            "colorscale": [
             [
              0,
              "#0d0887"
             ],
             [
              0.1111111111111111,
              "#46039f"
             ],
             [
              0.2222222222222222,
              "#7201a8"
             ],
             [
              0.3333333333333333,
              "#9c179e"
             ],
             [
              0.4444444444444444,
              "#bd3786"
             ],
             [
              0.5555555555555556,
              "#d8576b"
             ],
             [
              0.6666666666666666,
              "#ed7953"
             ],
             [
              0.7777777777777778,
              "#fb9f3a"
             ],
             [
              0.8888888888888888,
              "#fdca26"
             ],
             [
              1,
              "#f0f921"
             ]
            ],
            "type": "histogram2d"
           }
          ],
          "histogram2dcontour": [
           {
            "colorbar": {
             "outlinewidth": 0,
             "ticks": ""
            },
            "colorscale": [
             [
              0,
              "#0d0887"
             ],
             [
              0.1111111111111111,
              "#46039f"
             ],
             [
              0.2222222222222222,
              "#7201a8"
             ],
             [
              0.3333333333333333,
              "#9c179e"
             ],
             [
              0.4444444444444444,
              "#bd3786"
             ],
             [
              0.5555555555555556,
              "#d8576b"
             ],
             [
              0.6666666666666666,
              "#ed7953"
             ],
             [
              0.7777777777777778,
              "#fb9f3a"
             ],
             [
              0.8888888888888888,
              "#fdca26"
             ],
             [
              1,
              "#f0f921"
             ]
            ],
            "type": "histogram2dcontour"
           }
          ],
          "mesh3d": [
           {
            "colorbar": {
             "outlinewidth": 0,
             "ticks": ""
            },
            "type": "mesh3d"
           }
          ],
          "parcoords": [
           {
            "line": {
             "colorbar": {
              "outlinewidth": 0,
              "ticks": ""
             }
            },
            "type": "parcoords"
           }
          ],
          "pie": [
           {
            "automargin": true,
            "type": "pie"
           }
          ],
          "scatter": [
           {
            "fillpattern": {
             "fillmode": "overlay",
             "size": 10,
             "solidity": 0.2
            },
            "type": "scatter"
           }
          ],
          "scatter3d": [
           {
            "line": {
             "colorbar": {
              "outlinewidth": 0,
              "ticks": ""
             }
            },
            "marker": {
             "colorbar": {
              "outlinewidth": 0,
              "ticks": ""
             }
            },
            "type": "scatter3d"
           }
          ],
          "scattercarpet": [
           {
            "marker": {
             "colorbar": {
              "outlinewidth": 0,
              "ticks": ""
             }
            },
            "type": "scattercarpet"
           }
          ],
          "scattergeo": [
           {
            "marker": {
             "colorbar": {
              "outlinewidth": 0,
              "ticks": ""
             }
            },
            "type": "scattergeo"
           }
          ],
          "scattergl": [
           {
            "marker": {
             "colorbar": {
              "outlinewidth": 0,
              "ticks": ""
             }
            },
            "type": "scattergl"
           }
          ],
          "scattermapbox": [
           {
            "marker": {
             "colorbar": {
              "outlinewidth": 0,
              "ticks": ""
             }
            },
            "type": "scattermapbox"
           }
          ],
          "scatterpolar": [
           {
            "marker": {
             "colorbar": {
              "outlinewidth": 0,
              "ticks": ""
             }
            },
            "type": "scatterpolar"
           }
          ],
          "scatterpolargl": [
           {
            "marker": {
             "colorbar": {
              "outlinewidth": 0,
              "ticks": ""
             }
            },
            "type": "scatterpolargl"
           }
          ],
          "scatterternary": [
           {
            "marker": {
             "colorbar": {
              "outlinewidth": 0,
              "ticks": ""
             }
            },
            "type": "scatterternary"
           }
          ],
          "surface": [
           {
            "colorbar": {
             "outlinewidth": 0,
             "ticks": ""
            },
            "colorscale": [
             [
              0,
              "#0d0887"
             ],
             [
              0.1111111111111111,
              "#46039f"
             ],
             [
              0.2222222222222222,
              "#7201a8"
             ],
             [
              0.3333333333333333,
              "#9c179e"
             ],
             [
              0.4444444444444444,
              "#bd3786"
             ],
             [
              0.5555555555555556,
              "#d8576b"
             ],
             [
              0.6666666666666666,
              "#ed7953"
             ],
             [
              0.7777777777777778,
              "#fb9f3a"
             ],
             [
              0.8888888888888888,
              "#fdca26"
             ],
             [
              1,
              "#f0f921"
             ]
            ],
            "type": "surface"
           }
          ],
          "table": [
           {
            "cells": {
             "fill": {
              "color": "#EBF0F8"
             },
             "line": {
              "color": "white"
             }
            },
            "header": {
             "fill": {
              "color": "#C8D4E3"
             },
             "line": {
              "color": "white"
             }
            },
            "type": "table"
           }
          ]
         },
         "layout": {
          "annotationdefaults": {
           "arrowcolor": "#2a3f5f",
           "arrowhead": 0,
           "arrowwidth": 1
          },
          "autotypenumbers": "strict",
          "coloraxis": {
           "colorbar": {
            "outlinewidth": 0,
            "ticks": ""
           }
          },
          "colorscale": {
           "diverging": [
            [
             0,
             "#8e0152"
            ],
            [
             0.1,
             "#c51b7d"
            ],
            [
             0.2,
             "#de77ae"
            ],
            [
             0.3,
             "#f1b6da"
            ],
            [
             0.4,
             "#fde0ef"
            ],
            [
             0.5,
             "#f7f7f7"
            ],
            [
             0.6,
             "#e6f5d0"
            ],
            [
             0.7,
             "#b8e186"
            ],
            [
             0.8,
             "#7fbc41"
            ],
            [
             0.9,
             "#4d9221"
            ],
            [
             1,
             "#276419"
            ]
           ],
           "sequential": [
            [
             0,
             "#0d0887"
            ],
            [
             0.1111111111111111,
             "#46039f"
            ],
            [
             0.2222222222222222,
             "#7201a8"
            ],
            [
             0.3333333333333333,
             "#9c179e"
            ],
            [
             0.4444444444444444,
             "#bd3786"
            ],
            [
             0.5555555555555556,
             "#d8576b"
            ],
            [
             0.6666666666666666,
             "#ed7953"
            ],
            [
             0.7777777777777778,
             "#fb9f3a"
            ],
            [
             0.8888888888888888,
             "#fdca26"
            ],
            [
             1,
             "#f0f921"
            ]
           ],
           "sequentialminus": [
            [
             0,
             "#0d0887"
            ],
            [
             0.1111111111111111,
             "#46039f"
            ],
            [
             0.2222222222222222,
             "#7201a8"
            ],
            [
             0.3333333333333333,
             "#9c179e"
            ],
            [
             0.4444444444444444,
             "#bd3786"
            ],
            [
             0.5555555555555556,
             "#d8576b"
            ],
            [
             0.6666666666666666,
             "#ed7953"
            ],
            [
             0.7777777777777778,
             "#fb9f3a"
            ],
            [
             0.8888888888888888,
             "#fdca26"
            ],
            [
             1,
             "#f0f921"
            ]
           ]
          },
          "colorway": [
           "#636efa",
           "#EF553B",
           "#00cc96",
           "#ab63fa",
           "#FFA15A",
           "#19d3f3",
           "#FF6692",
           "#B6E880",
           "#FF97FF",
           "#FECB52"
          ],
          "font": {
           "color": "#2a3f5f"
          },
          "geo": {
           "bgcolor": "white",
           "lakecolor": "white",
           "landcolor": "#E5ECF6",
           "showlakes": true,
           "showland": true,
           "subunitcolor": "white"
          },
          "hoverlabel": {
           "align": "left"
          },
          "hovermode": "closest",
          "mapbox": {
           "style": "light"
          },
          "paper_bgcolor": "white",
          "plot_bgcolor": "#E5ECF6",
          "polar": {
           "angularaxis": {
            "gridcolor": "white",
            "linecolor": "white",
            "ticks": ""
           },
           "bgcolor": "#E5ECF6",
           "radialaxis": {
            "gridcolor": "white",
            "linecolor": "white",
            "ticks": ""
           }
          },
          "scene": {
           "xaxis": {
            "backgroundcolor": "#E5ECF6",
            "gridcolor": "white",
            "gridwidth": 2,
            "linecolor": "white",
            "showbackground": true,
            "ticks": "",
            "zerolinecolor": "white"
           },
           "yaxis": {
            "backgroundcolor": "#E5ECF6",
            "gridcolor": "white",
            "gridwidth": 2,
            "linecolor": "white",
            "showbackground": true,
            "ticks": "",
            "zerolinecolor": "white"
           },
           "zaxis": {
            "backgroundcolor": "#E5ECF6",
            "gridcolor": "white",
            "gridwidth": 2,
            "linecolor": "white",
            "showbackground": true,
            "ticks": "",
            "zerolinecolor": "white"
           }
          },
          "shapedefaults": {
           "line": {
            "color": "#2a3f5f"
           }
          },
          "ternary": {
           "aaxis": {
            "gridcolor": "white",
            "linecolor": "white",
            "ticks": ""
           },
           "baxis": {
            "gridcolor": "white",
            "linecolor": "white",
            "ticks": ""
           },
           "bgcolor": "#E5ECF6",
           "caxis": {
            "gridcolor": "white",
            "linecolor": "white",
            "ticks": ""
           }
          },
          "title": {
           "x": 0.05
          },
          "xaxis": {
           "automargin": true,
           "gridcolor": "white",
           "linecolor": "white",
           "ticks": "",
           "title": {
            "standoff": 15
           },
           "zerolinecolor": "white",
           "zerolinewidth": 2
          },
          "yaxis": {
           "automargin": true,
           "gridcolor": "white",
           "linecolor": "white",
           "ticks": "",
           "title": {
            "standoff": 15
           },
           "zerolinecolor": "white",
           "zerolinewidth": 2
          }
         }
        },
        "title": {
         "text": "Mean Correlation Heatmap"
        },
        "width": 800,
        "xaxis": {
         "autorange": true,
         "range": [
          -0.5,
          13.5
         ],
         "title": {
          "text": "Variable"
         },
         "type": "category"
        },
        "yaxis": {
         "autorange": true,
         "range": [
          -0.5,
          13.5
         ],
         "title": {
          "text": "Variable"
         },
         "type": "category"
        }
       }
      },
      "image/png": "[encoded data removed]",
      "text/html": [
       "<div>                            <div id=\"ae79433f-232f-43dd-99d0-e49a92e35ed6\" class=\"plotly-graph-div\" style=\"height:600px; width:800px;\"></div>            <script type=\"text/javascript\">                require([\"plotly\"], function(Plotly) {                    window.PLOTLYENV=window.PLOTLYENV || {};                                    if (document.getElementById(\"ae79433f-232f-43dd-99d0-e49a92e35ed6\")) {                    Plotly.newPlot(                        \"ae79433f-232f-43dd-99d0-e49a92e35ed6\",                        [{\"colorscale\":[[0.0,\"#440154\"],[0.1111111111111111,\"#482878\"],[0.2222222222222222,\"#3e4989\"],[0.3333333333333333,\"#31688e\"],[0.4444444444444444,\"#26828e\"],[0.5555555555555556,\"#1f9e89\"],[0.6666666666666666,\"#35b779\"],[0.7777777777777778,\"#6ece58\"],[0.8888888888888888,\"#b5de2b\"],[1.0,\"#fde725\"]],\"x\":[\"lis_SWE\",\"lis_SurfMoist\",\"lis_dis\",\"meteo_rain\",\"meteo_tair\",\"obs\",\"pcr_SWE\",\"pcr_SurfMoist\",\"pcr_SurfStor\",\"pcr_dis\",\"wg3_RootMoist\",\"wg3_SWE\",\"wg3_SurfStor\",\"wg3_dis\"],\"y\":[\"lis_SWE\",\"lis_SurfMoist\",\"lis_dis\",\"meteo_rain\",\"meteo_tair\",\"obs\",\"pcr_SWE\",\"pcr_SurfMoist\",\"pcr_SurfStor\",\"pcr_dis\",\"wg3_RootMoist\",\"wg3_SWE\",\"wg3_SurfStor\",\"wg3_dis\"],\"z\":[[1.0,0.33083707097824855,0.03857925389433336,-0.23887152863333705,-0.47014925649567735,0.137053674019873,0.9282573926375887,0.1330504070433876,0.048760262106225506,0.07691086464756108,0.3795430806023572,0.9310393475921055,0.18107026144345517,0.17648702116110107],[0.33083707097824855,1.0,0.40208409050154587,-0.12388668949162694,-0.7149657367217798,0.5270515416901193,0.2729419969530203,0.43724122370995155,0.38088090895625887,0.4592565468290069,0.9082823356750925,0.2832074434680938,0.643793693682853,0.5801152902725139],[0.03857925389433336,0.40208409050154587,1.0,0.29679688453481856,-0.001518535654854336,0.8511405175271288,0.03758894706812392,0.3354761815341002,0.8191666007985708,0.8586730523444399,0.24329751201312427,0.03184260424864185,0.7393612108111478,0.7978010186063972],[-0.23887152863333705,-0.12388668949162694,0.29679688453481856,1.0,0.32243372044149704,0.2787831986477744,-0.2249478686686736,0.5257890558134689,0.32911838859308296,0.3437748140555771,-0.15628622101647052,-0.2380463648700949,0.24992280003567352,0.3254799505743112],[-0.47014925649567735,-0.7149657367217798,-0.001518535654854336,0.32243372044149704,1.0,-0.22497031333162024,-0.4092381560492232,-0.42454303934562077,-0.01981548512749373,-0.05843370123424749,-0.8656311187945,-0.42828035511869517,-0.2880323175448657,-0.32834957571740325],[0.137053674019873,0.5270515416901193,0.8511405175271288,0.2787831986477744,-0.22497031333162024,1.0,0.11928595198754699,0.4788797042836615,0.7486364205224867,0.7966301959517207,0.43739079088295485,0.11565131762283196,0.7529659275849359,0.8515441952438111],[0.9282573926375887,0.2729419969530203,0.03758894706812392,-0.2249478686686736,-0.4092381560492232,0.11928595198754699,1.0,0.09642750417711111,0.059689486352295346,0.07339138477661085,0.31401082961907156,0.9924416130266313,0.13987856750667066,0.1454153538017234],[0.1330504070433876,0.43724122370995155,0.3354761815341002,0.5257890558134689,-0.42454303934562077,0.4788797042836615,0.09642750417711111,1.0,0.393787341933963,0.42593739050954293,0.5394046564520711,0.09695737668434505,0.4451443238673782,0.6153692627804914],[0.048760262106225506,0.38088090895625887,0.8191666007985708,0.32911838859308296,-0.01981548512749373,0.7486364205224867,0.059689486352295346,0.393787341933963,1.0,0.9374830549828971,0.2589268722115271,0.05526753897048379,0.6547112968287964,0.7345078962477429],[0.07691086464756108,0.4592565468290069,0.8586730523444399,0.3437748140555771,-0.05843370123424749,0.7966301959517207,0.07339138477661085,0.42593739050954293,0.9374830549828971,1.0,0.32458422611754884,0.07032395061436718,0.7449668395727556,0.7971691786508239],[0.3795430806023572,0.9082823356750925,0.24329751201312427,-0.15628622101647052,-0.8656311187945,0.43739079088295485,0.31401082961907156,0.5394046564520711,0.2589268722115271,0.32458422611754884,1.0,0.32748982736141863,0.5290383865166096,0.5336792790998175],[0.9310393475921055,0.2832074434680938,0.03184260424864185,-0.2380463648700949,-0.42828035511869517,0.11565131762283196,0.9924416130266313,0.09695737668434505,0.05526753897048379,0.07032395061436718,0.32748982736141863,1.0,0.13868733979577053,0.14414160518285182],[0.18107026144345517,0.643793693682853,0.7393612108111478,0.24992280003567352,-0.2880323175448657,0.7529659275849359,0.13987856750667066,0.4451443238673782,0.6547112968287964,0.7449668395727556,0.5290383865166096,0.13868733979577053,1.0,0.8414200806088509],[0.17648702116110107,0.5801152902725139,0.7978010186063972,0.3254799505743112,-0.32834957571740325,0.8515441952438111,0.1454153538017234,0.6153692627804914,0.7345078962477429,0.7971691786508239,0.5336792790998175,0.14414160518285182,0.8414200806088509,1.0]],\"type\":\"heatmap\"}],                        {\"template\":{\"data\":{\"histogram2dcontour\":[{\"type\":\"histogram2dcontour\",\"colorbar\":{\"outlinewidth\":0,\"ticks\":\"\"},\"colorscale\":[[0.0,\"#0d0887\"],[0.1111111111111111,\"#46039f\"],[0.2222222222222222,\"#7201a8\"],[0.3333333333333333,\"#9c179e\"],[0.4444444444444444,\"#bd3786\"],[0.5555555555555556,\"#d8576b\"],[0.6666666666666666,\"#ed7953\"],[0.7777777777777778,\"#fb9f3a\"],[0.8888888888888888,\"#fdca26\"],[1.0,\"#f0f921\"]]}],\"choropleth\":[{\"type\":\"choropleth\",\"colorbar\":{\"outlinewidth\":0,\"ticks\":\"\"}}],\"histogram2d\":[{\"type\":\"histogram2d\",\"colorbar\":{\"outlinewidth\":0,\"ticks\":\"\"},\"colorscale\":[[0.0,\"#0d0887\"],[0.1111111111111111,\"#46039f\"],[0.2222222222222222,\"#7201a8\"],[0.3333333333333333,\"#9c179e\"],[0.4444444444444444,\"#bd3786\"],[0.5555555555555556,\"#d8576b\"],[0.6666666666666666,\"#ed7953\"],[0.7777777777777778,\"#fb9f3a\"],[0.8888888888888888,\"#fdca26\"],[1.0,\"#f0f921\"]]}],\"heatmap\":[{\"type\":\"heatmap\",\"colorbar\":{\"outlinewidth\":0,\"ticks\":\"\"},\"colorscale\":[[0.0,\"#0d0887\"],[0.1111111111111111,\"#46039f\"],[0.2222222222222222,\"#7201a8\"],[0.3333333333333333,\"#9c179e\"],[0.4444444444444444,\"#bd3786\"],[0.5555555555555556,\"#d8576b\"],[0.6666666666666666,\"#ed7953\"],[0.7777777777777778,\"#fb9f3a\"],[0.8888888888888888,\"#fdca26\"],[1.0,\"#f0f921\"]]}],\"heatmapgl\":[{\"type\":\"heatmapgl\",\"colorbar\":{\"outlinewidth\":0,\"ticks\":\"\"},\"colorscale\":[[0.0,\"#0d0887\"],[0.1111111111111111,\"#46039f\"],[0.2222222222222222,\"#7201a8\"],[0.3333333333333333,\"#9c179e\"],[0.4444444444444444,\"#bd3786\"],[0.5555555555555556,\"#d8576b\"],[0.6666666666666666,\"#ed7953\"],[0.7777777777777778,\"#fb9f3a\"],[0.8888888888888888,\"#fdca26\"],[1.0,\"#f0f921\"]]}],\"contourcarpet\":[{\"type\":\"contourcarpet\",\"colorbar\":{\"outlinewidth\":0,\"ticks\":\"\"}}],\"contour\":[{\"type\":\"contour\",\"colorbar\":{\"outlinewidth\":0,\"ticks\":\"\"},\"colorscale\":[[0.0,\"#0d0887\"],[0.1111111111111111,\"#46039f\"],[0.2222222222222222,\"#7201a8\"],[0.3333333333333333,\"#9c179e\"],[0.4444444444444444,\"#bd3786\"],[0.5555555555555556,\"#d8576b\"],[0.6666666666666666,\"#ed7953\"],[0.7777777777777778,\"#fb9f3a\"],[0.8888888888888888,\"#fdca26\"],[1.0,\"#f0f921\"]]}],\"surface\":[{\"type\":\"surface\",\"colorbar\":{\"outlinewidth\":0,\"ticks\":\"\"},\"colorscale\":[[0.0,\"#0d0887\"],[0.1111111111111111,\"#46039f\"],[0.2222222222222222,\"#7201a8\"],[0.3333333333333333,\"#9c179e\"],[0.4444444444444444,\"#bd3786\"],[0.5555555555555556,\"#d8576b\"],[0.6666666666666666,\"#ed7953\"],[0.7777777777777778,\"#fb9f3a\"],[0.8888888888888888,\"#fdca26\"],[1.0,\"#f0f921\"]]}],\"mesh3d\":[{\"type\":\"mesh3d\",\"colorbar\":{\"outlinewidth\":0,\"ticks\":\"\"}}],\"scatter\":[{\"fillpattern\":{\"fillmode\":\"overlay\",\"size\":10,\"solidity\":0.2},\"type\":\"scatter\"}],\"parcoords\":[{\"type\":\"parcoords\",\"line\":{\"colorbar\":{\"outlinewidth\":0,\"ticks\":\"\"}}}],\"scatterpolargl\":[{\"type\":\"scatterpolargl\",\"marker\":{\"colorbar\":{\"outlinewidth\":0,\"ticks\":\"\"}}}],\"bar\":[{\"error_x\":{\"color\":\"#2a3f5f\"},\"error_y\":{\"color\":\"#2a3f5f\"},\"marker\":{\"line\":{\"color\":\"#E5ECF6\",\"width\":0.5},\"pattern\":{\"fillmode\":\"overlay\",\"size\":10,\"solidity\":0.2}},\"type\":\"bar\"}],\"scattergeo\":[{\"type\":\"scattergeo\",\"marker\":{\"colorbar\":{\"outlinewidth\":0,\"ticks\":\"\"}}}],\"scatterpolar\":[{\"type\":\"scatterpolar\",\"marker\":{\"colorbar\":{\"outlinewidth\":0,\"ticks\":\"\"}}}],\"histogram\":[{\"marker\":{\"pattern\":{\"fillmode\":\"overlay\",\"size\":10,\"solidity\":0.2}},\"type\":\"histogram\"}],\"scattergl\":[{\"type\":\"scattergl\",\"marker\":{\"colorbar\":{\"outlinewidth\":0,\"ticks\":\"\"}}}],\"scatter3d\":[{\"type\":\"scatter3d\",\"line\":{\"colorbar\":{\"outlinewidth\":0,\"ticks\":\"\"}},\"marker\":{\"colorbar\":{\"outlinewidth\":0,\"ticks\":\"\"}}}],\"scattermapbox\":[{\"type\":\"scattermapbox\",\"marker\":{\"colorbar\":{\"outlinewidth\":0,\"ticks\":\"\"}}}],\"scatterternary\":[{\"type\":\"scatterternary\",\"marker\":{\"colorbar\":{\"outlinewidth\":0,\"ticks\":\"\"}}}],\"scattercarpet\":[{\"type\":\"scattercarpet\",\"marker\":{\"colorbar\":{\"outlinewidth\":0,\"ticks\":\"\"}}}],\"carpet\":[{\"aaxis\":{\"endlinecolor\":\"#2a3f5f\",\"gridcolor\":\"white\",\"linecolor\":\"white\",\"minorgridcolor\":\"white\",\"startlinecolor\":\"#2a3f5f\"},\"baxis\":{\"endlinecolor\":\"#2a3f5f\",\"gridcolor\":\"white\",\"linecolor\":\"white\",\"minorgridcolor\":\"white\",\"startlinecolor\":\"#2a3f5f\"},\"type\":\"carpet\"}],\"table\":[{\"cells\":{\"fill\":{\"color\":\"#EBF0F8\"},\"line\":{\"color\":\"white\"}},\"header\":{\"fill\":{\"color\":\"#C8D4E3\"},\"line\":{\"color\":\"white\"}},\"type\":\"table\"}],\"barpolar\":[{\"marker\":{\"line\":{\"color\":\"#E5ECF6\",\"width\":0.5},\"pattern\":{\"fillmode\":\"overlay\",\"size\":10,\"solidity\":0.2}},\"type\":\"barpolar\"}],\"pie\":[{\"automargin\":true,\"type\":\"pie\"}]},\"layout\":{\"autotypenumbers\":\"strict\",\"colorway\":[\"#636efa\",\"#EF553B\",\"#00cc96\",\"#ab63fa\",\"#FFA15A\",\"#19d3f3\",\"#FF6692\",\"#B6E880\",\"#FF97FF\",\"#FECB52\"],\"font\":{\"color\":\"#2a3f5f\"},\"hovermode\":\"closest\",\"hoverlabel\":{\"align\":\"left\"},\"paper_bgcolor\":\"white\",\"plot_bgcolor\":\"#E5ECF6\",\"polar\":{\"bgcolor\":\"#E5ECF6\",\"angularaxis\":{\"gridcolor\":\"white\",\"linecolor\":\"white\",\"ticks\":\"\"},\"radialaxis\":{\"gridcolor\":\"white\",\"linecolor\":\"white\",\"ticks\":\"\"}},\"ternary\":{\"bgcolor\":\"#E5ECF6\",\"aaxis\":{\"gridcolor\":\"white\",\"linecolor\":\"white\",\"ticks\":\"\"},\"baxis\":{\"gridcolor\":\"white\",\"linecolor\":\"white\",\"ticks\":\"\"},\"caxis\":{\"gridcolor\":\"white\",\"linecolor\":\"white\",\"ticks\":\"\"}},\"coloraxis\":{\"colorbar\":{\"outlinewidth\":0,\"ticks\":\"\"}},\"colorscale\":{\"sequential\":[[0.0,\"#0d0887\"],[0.1111111111111111,\"#46039f\"],[0.2222222222222222,\"#7201a8\"],[0.3333333333333333,\"#9c179e\"],[0.4444444444444444,\"#bd3786\"],[0.5555555555555556,\"#d8576b\"],[0.6666666666666666,\"#ed7953\"],[0.7777777777777778,\"#fb9f3a\"],[0.8888888888888888,\"#fdca26\"],[1.0,\"#f0f921\"]],\"sequentialminus\":[[0.0,\"#0d0887\"],[0.1111111111111111,\"#46039f\"],[0.2222222222222222,\"#7201a8\"],[0.3333333333333333,\"#9c179e\"],[0.4444444444444444,\"#bd3786\"],[0.5555555555555556,\"#d8576b\"],[0.6666666666666666,\"#ed7953\"],[0.7777777777777778,\"#fb9f3a\"],[0.8888888888888888,\"#fdca26\"],[1.0,\"#f0f921\"]],\"diverging\":[[0,\"#8e0152\"],[0.1,\"#c51b7d\"],[0.2,\"#de77ae\"],[0.3,\"#f1b6da\"],[0.4,\"#fde0ef\"],[0.5,\"#f7f7f7\"],[0.6,\"#e6f5d0\"],[0.7,\"#b8e186\"],[0.8,\"#7fbc41\"],[0.9,\"#4d9221\"],[1,\"#276419\"]]},\"xaxis\":{\"gridcolor\":\"white\",\"linecolor\":\"white\",\"ticks\":\"\",\"title\":{\"standoff\":15},\"zerolinecolor\":\"white\",\"automargin\":true,\"zerolinewidth\":2},\"yaxis\":{\"gridcolor\":\"white\",\"linecolor\":\"white\",\"ticks\":\"\",\"title\":{\"standoff\":15},\"zerolinecolor\":\"white\",\"automargin\":true,\"zerolinewidth\":2},\"scene\":{\"xaxis\":{\"backgroundcolor\":\"#E5ECF6\",\"gridcolor\":\"white\",\"linecolor\":\"white\",\"showbackground\":true,\"ticks\":\"\",\"zerolinecolor\":\"white\",\"gridwidth\":2},\"yaxis\":{\"backgroundcolor\":\"#E5ECF6\",\"gridcolor\":\"white\",\"linecolor\":\"white\",\"showbackground\":true,\"ticks\":\"\",\"zerolinecolor\":\"white\",\"gridwidth\":2},\"zaxis\":{\"backgroundcolor\":\"#E5ECF6\",\"gridcolor\":\"white\",\"linecolor\":\"white\",\"showbackground\":true,\"ticks\":\"\",\"zerolinecolor\":\"white\",\"gridwidth\":2}},\"shapedefaults\":{\"line\":{\"color\":\"#2a3f5f\"}},\"annotationdefaults\":{\"arrowcolor\":\"#2a3f5f\",\"arrowhead\":0,\"arrowwidth\":1},\"geo\":{\"bgcolor\":\"white\",\"landcolor\":\"#E5ECF6\",\"subunitcolor\":\"white\",\"showland\":true,\"showlakes\":true,\"lakecolor\":\"white\"},\"title\":{\"x\":0.05},\"mapbox\":{\"style\":\"light\"}}},\"title\":{\"text\":\"Mean Correlation Heatmap\"},\"xaxis\":{\"title\":{\"text\":\"Variable\"}},\"yaxis\":{\"title\":{\"text\":\"Variable\"}},\"width\":800,\"height\":600},                        {\"responsive\": true}                    ).then(function(){\n",
       "                            \n",
       "var gd = document.getElementById('ae79433f-232f-43dd-99d0-e49a92e35ed6');\n",
       "var x = new MutationObserver(function (mutations, observer) {{\n",
       "        var display = window.getComputedStyle(gd).display;\n",
       "        if (!display || display === 'none') {{\n",
       "            console.log([gd, 'removed!']);\n",
       "            Plotly.purge(gd);\n",
       "            observer.disconnect();\n",
       "        }}\n",
       "}});\n",
       "\n",
       "// Listen for the removal of the full notebook cells\n",
       "var notebookContainer = gd.closest('#notebook-container');\n",
       "if (notebookContainer) {{\n",
       "    x.observe(notebookContainer, {childList: true});\n",
       "}}\n",
       "\n",
       "// Listen for the clearing of the current output cell\n",
       "var outputEl = gd.closest('.output');\n",
       "if (outputEl) {{\n",
       "    x.observe(outputEl, {childList: true});\n",
       "}}\n",
       "\n",
       "                        })                };                });            </script>        </div>"
      ]
     },
     "metadata": {},
     "output_type": "display_data"
    }
   ],
   "source": [
    "# Create heatmap figure\n",
    "fig = go.Figure(data=go.Heatmap(\n",
    "    z=grouped_correlation.values,\n",
    "    x=grouped_correlation.columns,\n",
    "    y=grouped_correlation.index,\n",
    "    colorscale='Viridis'))\n",
    "\n",
    "# Update layout\n",
    "fig.update_layout(\n",
    "    title='Mean Correlation Heatmap',\n",
    "    xaxis=dict(title='Variable'),\n",
    "    yaxis=dict(title='Variable'),\n",
    "    width=800,\n",
    "    height=600)\n",
    "\n",
    "# Display the heatmap\n",
    "fig.show()"
   ]
  },
  {
   "cell_type": "code",
   "execution_count": 20,
   "id": "40496617-e2de-4021-b3d8-f083438bcdba",
   "metadata": {},
   "outputs": [
    {
     "data": {
      "application/vnd.plotly.v1+json": {
       "config": {
        "plotlyServerURL": "https://plot.ly"
       },
       "data": [
        {
         "colorbar": {
          "title": {
           "text": "Correlation"
          }
         },
         "colorscale": [
          [
           0,
           "#440154"
          ],
          [
           0.1111111111111111,
           "#482878"
          ],
          [
           0.2222222222222222,
           "#3e4989"
          ],
          [
           0.3333333333333333,
           "#31688e"
          ],
          [
           0.4444444444444444,
           "#26828e"
          ],
          [
           0.5555555555555556,
           "#1f9e89"
          ],
          [
           0.6666666666666666,
           "#35b779"
          ],
          [
           0.7777777777777778,
           "#6ece58"
          ],
          [
           0.8888888888888888,
           "#b5de2b"
          ],
          [
           1,
           "#fde725"
          ]
         ],
         "type": "heatmap",
         "x": [
          "lis_SWE",
          "lis_SurfMoist",
          "lis_dis",
          "meteo_rain",
          "meteo_tair",
          "obs",
          "pcr_SWE",
          "pcr_SurfMoist",
          "pcr_SurfStor",
          "pcr_dis",
          "wg3_RootMoist",
          "wg3_SWE",
          "wg3_SurfStor",
          "wg3_dis"
         ],
         "y": [
          "lis_SWE",
          "lis_SurfMoist",
          "lis_dis",
          "meteo_rain",
          "meteo_tair",
          "obs",
          "pcr_SWE",
          "pcr_SurfMoist",
          "pcr_SurfStor",
          "pcr_dis",
          "wg3_RootMoist",
          "wg3_SWE",
          "wg3_SurfStor",
          "wg3_dis"
         ],
         "z": [
          [
           1,
           0.33083707097824855,
           0.03857925389433336,
           -0.23887152863333705,
           -0.47014925649567735,
           0.137053674019873,
           0.9282573926375887,
           0.1330504070433876,
           0.048760262106225506,
           0.07691086464756108,
           0.3795430806023572,
           0.9310393475921055,
           0.18107026144345517,
           0.17648702116110107
          ],
          [
           0.33083707097824855,
           1,
           0.40208409050154587,
           -0.12388668949162694,
           -0.7149657367217798,
           0.5270515416901193,
           0.2729419969530203,
           0.43724122370995155,
           0.38088090895625887,
           0.4592565468290069,
           0.9082823356750925,
           0.2832074434680938,
           0.643793693682853,
           0.5801152902725139
          ],
          [
           0.03857925389433336,
           0.40208409050154587,
           1,
           0.29679688453481856,
           -0.001518535654854336,
           0.8511405175271288,
           0.03758894706812392,
           0.3354761815341002,
           0.8191666007985708,
           0.8586730523444399,
           0.24329751201312427,
           0.03184260424864185,
           0.7393612108111478,
           0.7978010186063972
          ],
          [
           -0.23887152863333705,
           -0.12388668949162694,
           0.29679688453481856,
           1,
           0.32243372044149704,
           0.2787831986477744,
           -0.2249478686686736,
           0.5257890558134689,
           0.32911838859308296,
           0.3437748140555771,
           -0.15628622101647052,
           -0.2380463648700949,
           0.24992280003567352,
           0.3254799505743112
          ],
          [
           -0.47014925649567735,
           -0.7149657367217798,
           -0.001518535654854336,
           0.32243372044149704,
           1,
           -0.22497031333162024,
           -0.4092381560492232,
           -0.42454303934562077,
           -0.01981548512749373,
           -0.05843370123424749,
           -0.8656311187945,
           -0.42828035511869517,
           -0.2880323175448657,
           -0.32834957571740325
          ],
          [
           0.137053674019873,
           0.5270515416901193,
           0.8511405175271288,
           0.2787831986477744,
           -0.22497031333162024,
           1,
           0.11928595198754699,
           0.4788797042836615,
           0.7486364205224867,
           0.7966301959517207,
           0.43739079088295485,
           0.11565131762283196,
           0.7529659275849359,
           0.8515441952438111
          ],
          [
           0.9282573926375887,
           0.2729419969530203,
           0.03758894706812392,
           -0.2249478686686736,
           -0.4092381560492232,
           0.11928595198754699,
           1,
           0.09642750417711111,
           0.059689486352295346,
           0.07339138477661085,
           0.31401082961907156,
           0.9924416130266313,
           0.13987856750667066,
           0.1454153538017234
          ],
          [
           0.1330504070433876,
           0.43724122370995155,
           0.3354761815341002,
           0.5257890558134689,
           -0.42454303934562077,
           0.4788797042836615,
           0.09642750417711111,
           1,
           0.393787341933963,
           0.42593739050954293,
           0.5394046564520711,
           0.09695737668434505,
           0.4451443238673782,
           0.6153692627804914
          ],
          [
           0.048760262106225506,
           0.38088090895625887,
           0.8191666007985708,
           0.32911838859308296,
           -0.01981548512749373,
           0.7486364205224867,
           0.059689486352295346,
           0.393787341933963,
           1,
           0.9374830549828971,
           0.2589268722115271,
           0.05526753897048379,
           0.6547112968287964,
           0.7345078962477429
          ],
          [
           0.07691086464756108,
           0.4592565468290069,
           0.8586730523444399,
           0.3437748140555771,
           -0.05843370123424749,
           0.7966301959517207,
           0.07339138477661085,
           0.42593739050954293,
           0.9374830549828971,
           1,
           0.32458422611754884,
           0.07032395061436718,
           0.7449668395727556,
           0.7971691786508239
          ],
          [
           0.3795430806023572,
           0.9082823356750925,
           0.24329751201312427,
           -0.15628622101647052,
           -0.8656311187945,
           0.43739079088295485,
           0.31401082961907156,
           0.5394046564520711,
           0.2589268722115271,
           0.32458422611754884,
           1,
           0.32748982736141863,
           0.5290383865166096,
           0.5336792790998175
          ],
          [
           0.9310393475921055,
           0.2832074434680938,
           0.03184260424864185,
           -0.2380463648700949,
           -0.42828035511869517,
           0.11565131762283196,
           0.9924416130266313,
           0.09695737668434505,
           0.05526753897048379,
           0.07032395061436718,
           0.32748982736141863,
           1,
           0.13868733979577053,
           0.14414160518285182
          ],
          [
           0.18107026144345517,
           0.643793693682853,
           0.7393612108111478,
           0.24992280003567352,
           -0.2880323175448657,
           0.7529659275849359,
           0.13987856750667066,
           0.4451443238673782,
           0.6547112968287964,
           0.7449668395727556,
           0.5290383865166096,
           0.13868733979577053,
           1,
           0.8414200806088509
          ],
          [
           0.17648702116110107,
           0.5801152902725139,
           0.7978010186063972,
           0.3254799505743112,
           -0.32834957571740325,
           0.8515441952438111,
           0.1454153538017234,
           0.6153692627804914,
           0.7345078962477429,
           0.7971691786508239,
           0.5336792790998175,
           0.14414160518285182,
           0.8414200806088509,
           1
          ]
         ]
        }
       ],
       "layout": {
        "annotations": [
         {
          "font": {
           "color": "white"
          },
          "showarrow": false,
          "text": "1.00",
          "x": "lis_SWE",
          "y": "lis_SWE"
         },
         {
          "font": {
           "color": "black"
          },
          "showarrow": false,
          "text": "0.33",
          "x": "lis_SurfMoist",
          "y": "lis_SWE"
         },
         {
          "font": {
           "color": "black"
          },
          "showarrow": false,
          "text": "0.04",
          "x": "lis_dis",
          "y": "lis_SWE"
         },
         {
          "font": {
           "color": "black"
          },
          "showarrow": false,
          "text": "-0.24",
          "x": "meteo_rain",
          "y": "lis_SWE"
         },
         {
          "font": {
           "color": "black"
          },
          "showarrow": false,
          "text": "-0.47",
          "x": "meteo_tair",
          "y": "lis_SWE"
         },
         {
          "font": {
           "color": "black"
          },
          "showarrow": false,
          "text": "0.14",
          "x": "obs",
          "y": "lis_SWE"
         },
         {
          "font": {
           "color": "white"
          },
          "showarrow": false,
          "text": "0.93",
          "x": "pcr_SWE",
          "y": "lis_SWE"
         },
         {
          "font": {
           "color": "black"
          },
          "showarrow": false,
          "text": "0.13",
          "x": "pcr_SurfMoist",
          "y": "lis_SWE"
         },
         {
          "font": {
           "color": "black"
          },
          "showarrow": false,
          "text": "0.05",
          "x": "pcr_SurfStor",
          "y": "lis_SWE"
         },
         {
          "font": {
           "color": "black"
          },
          "showarrow": false,
          "text": "0.08",
          "x": "pcr_dis",
          "y": "lis_SWE"
         },
         {
          "font": {
           "color": "black"
          },
          "showarrow": false,
          "text": "0.38",
          "x": "wg3_RootMoist",
          "y": "lis_SWE"
         },
         {
          "font": {
           "color": "white"
          },
          "showarrow": false,
          "text": "0.93",
          "x": "wg3_SWE",
          "y": "lis_SWE"
         },
         {
          "font": {
           "color": "black"
          },
          "showarrow": false,
          "text": "0.18",
          "x": "wg3_SurfStor",
          "y": "lis_SWE"
         },
         {
          "font": {
           "color": "black"
          },
          "showarrow": false,
          "text": "0.18",
          "x": "wg3_dis",
          "y": "lis_SWE"
         },
         {
          "font": {
           "color": "black"
          },
          "showarrow": false,
          "text": "0.33",
          "x": "lis_SWE",
          "y": "lis_SurfMoist"
         },
         {
          "font": {
           "color": "white"
          },
          "showarrow": false,
          "text": "1.00",
          "x": "lis_SurfMoist",
          "y": "lis_SurfMoist"
         },
         {
          "font": {
           "color": "black"
          },
          "showarrow": false,
          "text": "0.40",
          "x": "lis_dis",
          "y": "lis_SurfMoist"
         },
         {
          "font": {
           "color": "black"
          },
          "showarrow": false,
          "text": "-0.12",
          "x": "meteo_rain",
          "y": "lis_SurfMoist"
         },
         {
          "font": {
           "color": "black"
          },
          "showarrow": false,
          "text": "-0.71",
          "x": "meteo_tair",
          "y": "lis_SurfMoist"
         },
         {
          "font": {
           "color": "white"
          },
          "showarrow": false,
          "text": "0.53",
          "x": "obs",
          "y": "lis_SurfMoist"
         },
         {
          "font": {
           "color": "black"
          },
          "showarrow": false,
          "text": "0.27",
          "x": "pcr_SWE",
          "y": "lis_SurfMoist"
         },
         {
          "font": {
           "color": "black"
          },
          "showarrow": false,
          "text": "0.44",
          "x": "pcr_SurfMoist",
          "y": "lis_SurfMoist"
         },
         {
          "font": {
           "color": "black"
          },
          "showarrow": false,
          "text": "0.38",
          "x": "pcr_SurfStor",
          "y": "lis_SurfMoist"
         },
         {
          "font": {
           "color": "black"
          },
          "showarrow": false,
          "text": "0.46",
          "x": "pcr_dis",
          "y": "lis_SurfMoist"
         },
         {
          "font": {
           "color": "white"
          },
          "showarrow": false,
          "text": "0.91",
          "x": "wg3_RootMoist",
          "y": "lis_SurfMoist"
         },
         {
          "font": {
           "color": "black"
          },
          "showarrow": false,
          "text": "0.28",
          "x": "wg3_SWE",
          "y": "lis_SurfMoist"
         },
         {
          "font": {
           "color": "white"
          },
          "showarrow": false,
          "text": "0.64",
          "x": "wg3_SurfStor",
          "y": "lis_SurfMoist"
         },
         {
          "font": {
           "color": "white"
          },
          "showarrow": false,
          "text": "0.58",
          "x": "wg3_dis",
          "y": "lis_SurfMoist"
         },
         {
          "font": {
           "color": "black"
          },
          "showarrow": false,
          "text": "0.04",
          "x": "lis_SWE",
          "y": "lis_dis"
         },
         {
          "font": {
           "color": "black"
          },
          "showarrow": false,
          "text": "0.40",
          "x": "lis_SurfMoist",
          "y": "lis_dis"
         },
         {
          "font": {
           "color": "white"
          },
          "showarrow": false,
          "text": "1.00",
          "x": "lis_dis",
          "y": "lis_dis"
         },
         {
          "font": {
           "color": "black"
          },
          "showarrow": false,
          "text": "0.30",
          "x": "meteo_rain",
          "y": "lis_dis"
         },
         {
          "font": {
           "color": "black"
          },
          "showarrow": false,
          "text": "-0.00",
          "x": "meteo_tair",
          "y": "lis_dis"
         },
         {
          "font": {
           "color": "white"
          },
          "showarrow": false,
          "text": "0.85",
          "x": "obs",
          "y": "lis_dis"
         },
         {
          "font": {
           "color": "black"
          },
          "showarrow": false,
          "text": "0.04",
          "x": "pcr_SWE",
          "y": "lis_dis"
         },
         {
          "font": {
           "color": "black"
          },
          "showarrow": false,
          "text": "0.34",
          "x": "pcr_SurfMoist",
          "y": "lis_dis"
         },
         {
          "font": {
           "color": "white"
          },
          "showarrow": false,
          "text": "0.82",
          "x": "pcr_SurfStor",
          "y": "lis_dis"
         },
         {
          "font": {
           "color": "white"
          },
          "showarrow": false,
          "text": "0.86",
          "x": "pcr_dis",
          "y": "lis_dis"
         },
         {
          "font": {
           "color": "black"
          },
          "showarrow": false,
          "text": "0.24",
          "x": "wg3_RootMoist",
          "y": "lis_dis"
         },
         {
          "font": {
           "color": "black"
          },
          "showarrow": false,
          "text": "0.03",
          "x": "wg3_SWE",
          "y": "lis_dis"
         },
         {
          "font": {
           "color": "white"
          },
          "showarrow": false,
          "text": "0.74",
          "x": "wg3_SurfStor",
          "y": "lis_dis"
         },
         {
          "font": {
           "color": "white"
          },
          "showarrow": false,
          "text": "0.80",
          "x": "wg3_dis",
          "y": "lis_dis"
         },
         {
          "font": {
           "color": "black"
          },
          "showarrow": false,
          "text": "-0.24",
          "x": "lis_SWE",
          "y": "meteo_rain"
         },
         {
          "font": {
           "color": "black"
          },
          "showarrow": false,
          "text": "-0.12",
          "x": "lis_SurfMoist",
          "y": "meteo_rain"
         },
         {
          "font": {
           "color": "black"
          },
          "showarrow": false,
          "text": "0.30",
          "x": "lis_dis",
          "y": "meteo_rain"
         },
         {
          "font": {
           "color": "white"
          },
          "showarrow": false,
          "text": "1.00",
          "x": "meteo_rain",
          "y": "meteo_rain"
         },
         {
          "font": {
           "color": "black"
          },
          "showarrow": false,
          "text": "0.32",
          "x": "meteo_tair",
          "y": "meteo_rain"
         },
         {
          "font": {
           "color": "black"
          },
          "showarrow": false,
          "text": "0.28",
          "x": "obs",
          "y": "meteo_rain"
         },
         {
          "font": {
           "color": "black"
          },
          "showarrow": false,
          "text": "-0.22",
          "x": "pcr_SWE",
          "y": "meteo_rain"
         },
         {
          "font": {
           "color": "white"
          },
          "showarrow": false,
          "text": "0.53",
          "x": "pcr_SurfMoist",
          "y": "meteo_rain"
         },
         {
          "font": {
           "color": "black"
          },
          "showarrow": false,
          "text": "0.33",
          "x": "pcr_SurfStor",
          "y": "meteo_rain"
         },
         {
          "font": {
           "color": "black"
          },
          "showarrow": false,
          "text": "0.34",
          "x": "pcr_dis",
          "y": "meteo_rain"
         },
         {
          "font": {
           "color": "black"
          },
          "showarrow": false,
          "text": "-0.16",
          "x": "wg3_RootMoist",
          "y": "meteo_rain"
         },
         {
          "font": {
           "color": "black"
          },
          "showarrow": false,
          "text": "-0.24",
          "x": "wg3_SWE",
          "y": "meteo_rain"
         },
         {
          "font": {
           "color": "black"
          },
          "showarrow": false,
          "text": "0.25",
          "x": "wg3_SurfStor",
          "y": "meteo_rain"
         },
         {
          "font": {
           "color": "black"
          },
          "showarrow": false,
          "text": "0.33",
          "x": "wg3_dis",
          "y": "meteo_rain"
         },
         {
          "font": {
           "color": "black"
          },
          "showarrow": false,
          "text": "-0.47",
          "x": "lis_SWE",
          "y": "meteo_tair"
         },
         {
          "font": {
           "color": "black"
          },
          "showarrow": false,
          "text": "-0.71",
          "x": "lis_SurfMoist",
          "y": "meteo_tair"
         },
         {
          "font": {
           "color": "black"
          },
          "showarrow": false,
          "text": "-0.00",
          "x": "lis_dis",
          "y": "meteo_tair"
         },
         {
          "font": {
           "color": "black"
          },
          "showarrow": false,
          "text": "0.32",
          "x": "meteo_rain",
          "y": "meteo_tair"
         },
         {
          "font": {
           "color": "white"
          },
          "showarrow": false,
          "text": "1.00",
          "x": "meteo_tair",
          "y": "meteo_tair"
         },
         {
          "font": {
           "color": "black"
          },
          "showarrow": false,
          "text": "-0.22",
          "x": "obs",
          "y": "meteo_tair"
         },
         {
          "font": {
           "color": "black"
          },
          "showarrow": false,
          "text": "-0.41",
          "x": "pcr_SWE",
          "y": "meteo_tair"
         },
         {
          "font": {
           "color": "black"
          },
          "showarrow": false,
          "text": "-0.42",
          "x": "pcr_SurfMoist",
          "y": "meteo_tair"
         },
         {
          "font": {
           "color": "black"
          },
          "showarrow": false,
          "text": "-0.02",
          "x": "pcr_SurfStor",
          "y": "meteo_tair"
         },
         {
          "font": {
           "color": "black"
          },
          "showarrow": false,
          "text": "-0.06",
          "x": "pcr_dis",
          "y": "meteo_tair"
         },
         {
          "font": {
           "color": "black"
          },
          "showarrow": false,
          "text": "-0.87",
          "x": "wg3_RootMoist",
          "y": "meteo_tair"
         },
         {
          "font": {
           "color": "black"
          },
          "showarrow": false,
          "text": "-0.43",
          "x": "wg3_SWE",
          "y": "meteo_tair"
         },
         {
          "font": {
           "color": "black"
          },
          "showarrow": false,
          "text": "-0.29",
          "x": "wg3_SurfStor",
          "y": "meteo_tair"
         },
         {
          "font": {
           "color": "black"
          },
          "showarrow": false,
          "text": "-0.33",
          "x": "wg3_dis",
          "y": "meteo_tair"
         },
         {
          "font": {
           "color": "black"
          },
          "showarrow": false,
          "text": "0.14",
          "x": "lis_SWE",
          "y": "obs"
         },
         {
          "font": {
           "color": "white"
          },
          "showarrow": false,
          "text": "0.53",
          "x": "lis_SurfMoist",
          "y": "obs"
         },
         {
          "font": {
           "color": "white"
          },
          "showarrow": false,
          "text": "0.85",
          "x": "lis_dis",
          "y": "obs"
         },
         {
          "font": {
           "color": "black"
          },
          "showarrow": false,
          "text": "0.28",
          "x": "meteo_rain",
          "y": "obs"
         },
         {
          "font": {
           "color": "black"
          },
          "showarrow": false,
          "text": "-0.22",
          "x": "meteo_tair",
          "y": "obs"
         },
         {
          "font": {
           "color": "white"
          },
          "showarrow": false,
          "text": "1.00",
          "x": "obs",
          "y": "obs"
         },
         {
          "font": {
           "color": "black"
          },
          "showarrow": false,
          "text": "0.12",
          "x": "pcr_SWE",
          "y": "obs"
         },
         {
          "font": {
           "color": "black"
          },
          "showarrow": false,
          "text": "0.48",
          "x": "pcr_SurfMoist",
          "y": "obs"
         },
         {
          "font": {
           "color": "white"
          },
          "showarrow": false,
          "text": "0.75",
          "x": "pcr_SurfStor",
          "y": "obs"
         },
         {
          "font": {
           "color": "white"
          },
          "showarrow": false,
          "text": "0.80",
          "x": "pcr_dis",
          "y": "obs"
         },
         {
          "font": {
           "color": "black"
          },
          "showarrow": false,
          "text": "0.44",
          "x": "wg3_RootMoist",
          "y": "obs"
         },
         {
          "font": {
           "color": "black"
          },
          "showarrow": false,
          "text": "0.12",
          "x": "wg3_SWE",
          "y": "obs"
         },
         {
          "font": {
           "color": "white"
          },
          "showarrow": false,
          "text": "0.75",
          "x": "wg3_SurfStor",
          "y": "obs"
         },
         {
          "font": {
           "color": "white"
          },
          "showarrow": false,
          "text": "0.85",
          "x": "wg3_dis",
          "y": "obs"
         },
         {
          "font": {
           "color": "white"
          },
          "showarrow": false,
          "text": "0.93",
          "x": "lis_SWE",
          "y": "pcr_SWE"
         },
         {
          "font": {
           "color": "black"
          },
          "showarrow": false,
          "text": "0.27",
          "x": "lis_SurfMoist",
          "y": "pcr_SWE"
         },
         {
          "font": {
           "color": "black"
          },
          "showarrow": false,
          "text": "0.04",
          "x": "lis_dis",
          "y": "pcr_SWE"
         },
         {
          "font": {
           "color": "black"
          },
          "showarrow": false,
          "text": "-0.22",
          "x": "meteo_rain",
          "y": "pcr_SWE"
         },
         {
          "font": {
           "color": "black"
          },
          "showarrow": false,
          "text": "-0.41",
          "x": "meteo_tair",
          "y": "pcr_SWE"
         },
         {
          "font": {
           "color": "black"
          },
          "showarrow": false,
          "text": "0.12",
          "x": "obs",
          "y": "pcr_SWE"
         },
         {
          "font": {
           "color": "white"
          },
          "showarrow": false,
          "text": "1.00",
          "x": "pcr_SWE",
          "y": "pcr_SWE"
         },
         {
          "font": {
           "color": "black"
          },
          "showarrow": false,
          "text": "0.10",
          "x": "pcr_SurfMoist",
          "y": "pcr_SWE"
         },
         {
          "font": {
           "color": "black"
          },
          "showarrow": false,
          "text": "0.06",
          "x": "pcr_SurfStor",
          "y": "pcr_SWE"
         },
         {
          "font": {
           "color": "black"
          },
          "showarrow": false,
          "text": "0.07",
          "x": "pcr_dis",
          "y": "pcr_SWE"
         },
         {
          "font": {
           "color": "black"
          },
          "showarrow": false,
          "text": "0.31",
          "x": "wg3_RootMoist",
          "y": "pcr_SWE"
         },
         {
          "font": {
           "color": "white"
          },
          "showarrow": false,
          "text": "0.99",
          "x": "wg3_SWE",
          "y": "pcr_SWE"
         },
         {
          "font": {
           "color": "black"
          },
          "showarrow": false,
          "text": "0.14",
          "x": "wg3_SurfStor",
          "y": "pcr_SWE"
         },
         {
          "font": {
           "color": "black"
          },
          "showarrow": false,
          "text": "0.15",
          "x": "wg3_dis",
          "y": "pcr_SWE"
         },
         {
          "font": {
           "color": "black"
          },
          "showarrow": false,
          "text": "0.13",
          "x": "lis_SWE",
          "y": "pcr_SurfMoist"
         },
         {
          "font": {
           "color": "black"
          },
          "showarrow": false,
          "text": "0.44",
          "x": "lis_SurfMoist",
          "y": "pcr_SurfMoist"
         },
         {
          "font": {
           "color": "black"
          },
          "showarrow": false,
          "text": "0.34",
          "x": "lis_dis",
          "y": "pcr_SurfMoist"
         },
         {
          "font": {
           "color": "white"
          },
          "showarrow": false,
          "text": "0.53",
          "x": "meteo_rain",
          "y": "pcr_SurfMoist"
         },
         {
          "font": {
           "color": "black"
          },
          "showarrow": false,
          "text": "-0.42",
          "x": "meteo_tair",
          "y": "pcr_SurfMoist"
         },
         {
          "font": {
           "color": "black"
          },
          "showarrow": false,
          "text": "0.48",
          "x": "obs",
          "y": "pcr_SurfMoist"
         },
         {
          "font": {
           "color": "black"
          },
          "showarrow": false,
          "text": "0.10",
          "x": "pcr_SWE",
          "y": "pcr_SurfMoist"
         },
         {
          "font": {
           "color": "white"
          },
          "showarrow": false,
          "text": "1.00",
          "x": "pcr_SurfMoist",
          "y": "pcr_SurfMoist"
         },
         {
          "font": {
           "color": "black"
          },
          "showarrow": false,
          "text": "0.39",
          "x": "pcr_SurfStor",
          "y": "pcr_SurfMoist"
         },
         {
          "font": {
           "color": "black"
          },
          "showarrow": false,
          "text": "0.43",
          "x": "pcr_dis",
          "y": "pcr_SurfMoist"
         },
         {
          "font": {
           "color": "white"
          },
          "showarrow": false,
          "text": "0.54",
          "x": "wg3_RootMoist",
          "y": "pcr_SurfMoist"
         },
         {
          "font": {
           "color": "black"
          },
          "showarrow": false,
          "text": "0.10",
          "x": "wg3_SWE",
          "y": "pcr_SurfMoist"
         },
         {
          "font": {
           "color": "black"
          },
          "showarrow": false,
          "text": "0.45",
          "x": "wg3_SurfStor",
          "y": "pcr_SurfMoist"
         },
         {
          "font": {
           "color": "white"
          },
          "showarrow": false,
          "text": "0.62",
          "x": "wg3_dis",
          "y": "pcr_SurfMoist"
         },
         {
          "font": {
           "color": "black"
          },
          "showarrow": false,
          "text": "0.05",
          "x": "lis_SWE",
          "y": "pcr_SurfStor"
         },
         {
          "font": {
           "color": "black"
          },
          "showarrow": false,
          "text": "0.38",
          "x": "lis_SurfMoist",
          "y": "pcr_SurfStor"
         },
         {
          "font": {
           "color": "white"
          },
          "showarrow": false,
          "text": "0.82",
          "x": "lis_dis",
          "y": "pcr_SurfStor"
         },
         {
          "font": {
           "color": "black"
          },
          "showarrow": false,
          "text": "0.33",
          "x": "meteo_rain",
          "y": "pcr_SurfStor"
         },
         {
          "font": {
           "color": "black"
          },
          "showarrow": false,
          "text": "-0.02",
          "x": "meteo_tair",
          "y": "pcr_SurfStor"
         },
         {
          "font": {
           "color": "white"
          },
          "showarrow": false,
          "text": "0.75",
          "x": "obs",
          "y": "pcr_SurfStor"
         },
         {
          "font": {
           "color": "black"
          },
          "showarrow": false,
          "text": "0.06",
          "x": "pcr_SWE",
          "y": "pcr_SurfStor"
         },
         {
          "font": {
           "color": "black"
          },
          "showarrow": false,
          "text": "0.39",
          "x": "pcr_SurfMoist",
          "y": "pcr_SurfStor"
         },
         {
          "font": {
           "color": "white"
          },
          "showarrow": false,
          "text": "1.00",
          "x": "pcr_SurfStor",
          "y": "pcr_SurfStor"
         },
         {
          "font": {
           "color": "white"
          },
          "showarrow": false,
          "text": "0.94",
          "x": "pcr_dis",
          "y": "pcr_SurfStor"
         },
         {
          "font": {
           "color": "black"
          },
          "showarrow": false,
          "text": "0.26",
          "x": "wg3_RootMoist",
          "y": "pcr_SurfStor"
         },
         {
          "font": {
           "color": "black"
          },
          "showarrow": false,
          "text": "0.06",
          "x": "wg3_SWE",
          "y": "pcr_SurfStor"
         },
         {
          "font": {
           "color": "white"
          },
          "showarrow": false,
          "text": "0.65",
          "x": "wg3_SurfStor",
          "y": "pcr_SurfStor"
         },
         {
          "font": {
           "color": "white"
          },
          "showarrow": false,
          "text": "0.73",
          "x": "wg3_dis",
          "y": "pcr_SurfStor"
         },
         {
          "font": {
           "color": "black"
          },
          "showarrow": false,
          "text": "0.08",
          "x": "lis_SWE",
          "y": "pcr_dis"
         },
         {
          "font": {
           "color": "black"
          },
          "showarrow": false,
          "text": "0.46",
          "x": "lis_SurfMoist",
          "y": "pcr_dis"
         },
         {
          "font": {
           "color": "white"
          },
          "showarrow": false,
          "text": "0.86",
          "x": "lis_dis",
          "y": "pcr_dis"
         },
         {
          "font": {
           "color": "black"
          },
          "showarrow": false,
          "text": "0.34",
          "x": "meteo_rain",
          "y": "pcr_dis"
         },
         {
          "font": {
           "color": "black"
          },
          "showarrow": false,
          "text": "-0.06",
          "x": "meteo_tair",
          "y": "pcr_dis"
         },
         {
          "font": {
           "color": "white"
          },
          "showarrow": false,
          "text": "0.80",
          "x": "obs",
          "y": "pcr_dis"
         },
         {
          "font": {
           "color": "black"
          },
          "showarrow": false,
          "text": "0.07",
          "x": "pcr_SWE",
          "y": "pcr_dis"
         },
         {
          "font": {
           "color": "black"
          },
          "showarrow": false,
          "text": "0.43",
          "x": "pcr_SurfMoist",
          "y": "pcr_dis"
         },
         {
          "font": {
           "color": "white"
          },
          "showarrow": false,
          "text": "0.94",
          "x": "pcr_SurfStor",
          "y": "pcr_dis"
         },
         {
          "font": {
           "color": "white"
          },
          "showarrow": false,
          "text": "1.00",
          "x": "pcr_dis",
          "y": "pcr_dis"
         },
         {
          "font": {
           "color": "black"
          },
          "showarrow": false,
          "text": "0.32",
          "x": "wg3_RootMoist",
          "y": "pcr_dis"
         },
         {
          "font": {
           "color": "black"
          },
          "showarrow": false,
          "text": "0.07",
          "x": "wg3_SWE",
          "y": "pcr_dis"
         },
         {
          "font": {
           "color": "white"
          },
          "showarrow": false,
          "text": "0.74",
          "x": "wg3_SurfStor",
          "y": "pcr_dis"
         },
         {
          "font": {
           "color": "white"
          },
          "showarrow": false,
          "text": "0.80",
          "x": "wg3_dis",
          "y": "pcr_dis"
         },
         {
          "font": {
           "color": "black"
          },
          "showarrow": false,
          "text": "0.38",
          "x": "lis_SWE",
          "y": "wg3_RootMoist"
         },
         {
          "font": {
           "color": "white"
          },
          "showarrow": false,
          "text": "0.91",
          "x": "lis_SurfMoist",
          "y": "wg3_RootMoist"
         },
         {
          "font": {
           "color": "black"
          },
          "showarrow": false,
          "text": "0.24",
          "x": "lis_dis",
          "y": "wg3_RootMoist"
         },
         {
          "font": {
           "color": "black"
          },
          "showarrow": false,
          "text": "-0.16",
          "x": "meteo_rain",
          "y": "wg3_RootMoist"
         },
         {
          "font": {
           "color": "black"
          },
          "showarrow": false,
          "text": "-0.87",
          "x": "meteo_tair",
          "y": "wg3_RootMoist"
         },
         {
          "font": {
           "color": "black"
          },
          "showarrow": false,
          "text": "0.44",
          "x": "obs",
          "y": "wg3_RootMoist"
         },
         {
          "font": {
           "color": "black"
          },
          "showarrow": false,
          "text": "0.31",
          "x": "pcr_SWE",
          "y": "wg3_RootMoist"
         },
         {
          "font": {
           "color": "white"
          },
          "showarrow": false,
          "text": "0.54",
          "x": "pcr_SurfMoist",
          "y": "wg3_RootMoist"
         },
         {
          "font": {
           "color": "black"
          },
          "showarrow": false,
          "text": "0.26",
          "x": "pcr_SurfStor",
          "y": "wg3_RootMoist"
         },
         {
          "font": {
           "color": "black"
          },
          "showarrow": false,
          "text": "0.32",
          "x": "pcr_dis",
          "y": "wg3_RootMoist"
         },
         {
          "font": {
           "color": "white"
          },
          "showarrow": false,
          "text": "1.00",
          "x": "wg3_RootMoist",
          "y": "wg3_RootMoist"
         },
         {
          "font": {
           "color": "black"
          },
          "showarrow": false,
          "text": "0.33",
          "x": "wg3_SWE",
          "y": "wg3_RootMoist"
         },
         {
          "font": {
           "color": "white"
          },
          "showarrow": false,
          "text": "0.53",
          "x": "wg3_SurfStor",
          "y": "wg3_RootMoist"
         },
         {
          "font": {
           "color": "white"
          },
          "showarrow": false,
          "text": "0.53",
          "x": "wg3_dis",
          "y": "wg3_RootMoist"
         },
         {
          "font": {
           "color": "white"
          },
          "showarrow": false,
          "text": "0.93",
          "x": "lis_SWE",
          "y": "wg3_SWE"
         },
         {
          "font": {
           "color": "black"
          },
          "showarrow": false,
          "text": "0.28",
          "x": "lis_SurfMoist",
          "y": "wg3_SWE"
         },
         {
          "font": {
           "color": "black"
          },
          "showarrow": false,
          "text": "0.03",
          "x": "lis_dis",
          "y": "wg3_SWE"
         },
         {
          "font": {
           "color": "black"
          },
          "showarrow": false,
          "text": "-0.24",
          "x": "meteo_rain",
          "y": "wg3_SWE"
         },
         {
          "font": {
           "color": "black"
          },
          "showarrow": false,
          "text": "-0.43",
          "x": "meteo_tair",
          "y": "wg3_SWE"
         },
         {
          "font": {
           "color": "black"
          },
          "showarrow": false,
          "text": "0.12",
          "x": "obs",
          "y": "wg3_SWE"
         },
         {
          "font": {
           "color": "white"
          },
          "showarrow": false,
          "text": "0.99",
          "x": "pcr_SWE",
          "y": "wg3_SWE"
         },
         {
          "font": {
           "color": "black"
          },
          "showarrow": false,
          "text": "0.10",
          "x": "pcr_SurfMoist",
          "y": "wg3_SWE"
         },
         {
          "font": {
           "color": "black"
          },
          "showarrow": false,
          "text": "0.06",
          "x": "pcr_SurfStor",
          "y": "wg3_SWE"
         },
         {
          "font": {
           "color": "black"
          },
          "showarrow": false,
          "text": "0.07",
          "x": "pcr_dis",
          "y": "wg3_SWE"
         },
         {
          "font": {
           "color": "black"
          },
          "showarrow": false,
          "text": "0.33",
          "x": "wg3_RootMoist",
          "y": "wg3_SWE"
         },
         {
          "font": {
           "color": "white"
          },
          "showarrow": false,
          "text": "1.00",
          "x": "wg3_SWE",
          "y": "wg3_SWE"
         },
         {
          "font": {
           "color": "black"
          },
          "showarrow": false,
          "text": "0.14",
          "x": "wg3_SurfStor",
          "y": "wg3_SWE"
         },
         {
          "font": {
           "color": "black"
          },
          "showarrow": false,
          "text": "0.14",
          "x": "wg3_dis",
          "y": "wg3_SWE"
         },
         {
          "font": {
           "color": "black"
          },
          "showarrow": false,
          "text": "0.18",
          "x": "lis_SWE",
          "y": "wg3_SurfStor"
         },
         {
          "font": {
           "color": "white"
          },
          "showarrow": false,
          "text": "0.64",
          "x": "lis_SurfMoist",
          "y": "wg3_SurfStor"
         },
         {
          "font": {
           "color": "white"
          },
          "showarrow": false,
          "text": "0.74",
          "x": "lis_dis",
          "y": "wg3_SurfStor"
         },
         {
          "font": {
           "color": "black"
          },
          "showarrow": false,
          "text": "0.25",
          "x": "meteo_rain",
          "y": "wg3_SurfStor"
         },
         {
          "font": {
           "color": "black"
          },
          "showarrow": false,
          "text": "-0.29",
          "x": "meteo_tair",
          "y": "wg3_SurfStor"
         },
         {
          "font": {
           "color": "white"
          },
          "showarrow": false,
          "text": "0.75",
          "x": "obs",
          "y": "wg3_SurfStor"
         },
         {
          "font": {
           "color": "black"
          },
          "showarrow": false,
          "text": "0.14",
          "x": "pcr_SWE",
          "y": "wg3_SurfStor"
         },
         {
          "font": {
           "color": "black"
          },
          "showarrow": false,
          "text": "0.45",
          "x": "pcr_SurfMoist",
          "y": "wg3_SurfStor"
         },
         {
          "font": {
           "color": "white"
          },
          "showarrow": false,
          "text": "0.65",
          "x": "pcr_SurfStor",
          "y": "wg3_SurfStor"
         },
         {
          "font": {
           "color": "white"
          },
          "showarrow": false,
          "text": "0.74",
          "x": "pcr_dis",
          "y": "wg3_SurfStor"
         },
         {
          "font": {
           "color": "white"
          },
          "showarrow": false,
          "text": "0.53",
          "x": "wg3_RootMoist",
          "y": "wg3_SurfStor"
         },
         {
          "font": {
           "color": "black"
          },
          "showarrow": false,
          "text": "0.14",
          "x": "wg3_SWE",
          "y": "wg3_SurfStor"
         },
         {
          "font": {
           "color": "white"
          },
          "showarrow": false,
          "text": "1.00",
          "x": "wg3_SurfStor",
          "y": "wg3_SurfStor"
         },
         {
          "font": {
           "color": "white"
          },
          "showarrow": false,
          "text": "0.84",
          "x": "wg3_dis",
          "y": "wg3_SurfStor"
         },
         {
          "font": {
           "color": "black"
          },
          "showarrow": false,
          "text": "0.18",
          "x": "lis_SWE",
          "y": "wg3_dis"
         },
         {
          "font": {
           "color": "white"
          },
          "showarrow": false,
          "text": "0.58",
          "x": "lis_SurfMoist",
          "y": "wg3_dis"
         },
         {
          "font": {
           "color": "white"
          },
          "showarrow": false,
          "text": "0.80",
          "x": "lis_dis",
          "y": "wg3_dis"
         },
         {
          "font": {
           "color": "black"
          },
          "showarrow": false,
          "text": "0.33",
          "x": "meteo_rain",
          "y": "wg3_dis"
         },
         {
          "font": {
           "color": "black"
          },
          "showarrow": false,
          "text": "-0.33",
          "x": "meteo_tair",
          "y": "wg3_dis"
         },
         {
          "font": {
           "color": "white"
          },
          "showarrow": false,
          "text": "0.85",
          "x": "obs",
          "y": "wg3_dis"
         },
         {
          "font": {
           "color": "black"
          },
          "showarrow": false,
          "text": "0.15",
          "x": "pcr_SWE",
          "y": "wg3_dis"
         },
         {
          "font": {
           "color": "white"
          },
          "showarrow": false,
          "text": "0.62",
          "x": "pcr_SurfMoist",
          "y": "wg3_dis"
         },
         {
          "font": {
           "color": "white"
          },
          "showarrow": false,
          "text": "0.73",
          "x": "pcr_SurfStor",
          "y": "wg3_dis"
         },
         {
          "font": {
           "color": "white"
          },
          "showarrow": false,
          "text": "0.80",
          "x": "pcr_dis",
          "y": "wg3_dis"
         },
         {
          "font": {
           "color": "white"
          },
          "showarrow": false,
          "text": "0.53",
          "x": "wg3_RootMoist",
          "y": "wg3_dis"
         },
         {
          "font": {
           "color": "black"
          },
          "showarrow": false,
          "text": "0.14",
          "x": "wg3_SWE",
          "y": "wg3_dis"
         },
         {
          "font": {
           "color": "white"
          },
          "showarrow": false,
          "text": "0.84",
          "x": "wg3_SurfStor",
          "y": "wg3_dis"
         },
         {
          "font": {
           "color": "white"
          },
          "showarrow": false,
          "text": "1.00",
          "x": "wg3_dis",
          "y": "wg3_dis"
         }
        ],
        "height": 600,
        "template": {
         "data": {
          "bar": [
           {
            "error_x": {
             "color": "#2a3f5f"
            },
            "error_y": {
             "color": "#2a3f5f"
            },
            "marker": {
             "line": {
              "color": "#E5ECF6",
              "width": 0.5
             },
             "pattern": {
              "fillmode": "overlay",
              "size": 10,
              "solidity": 0.2
             }
            },
            "type": "bar"
           }
          ],
          "barpolar": [
           {
            "marker": {
             "line": {
              "color": "#E5ECF6",
              "width": 0.5
             },
             "pattern": {
              "fillmode": "overlay",
              "size": 10,
              "solidity": 0.2
             }
            },
            "type": "barpolar"
           }
          ],
          "carpet": [
           {
            "aaxis": {
             "endlinecolor": "#2a3f5f",
             "gridcolor": "white",
             "linecolor": "white",
             "minorgridcolor": "white",
             "startlinecolor": "#2a3f5f"
            },
            "baxis": {
             "endlinecolor": "#2a3f5f",
             "gridcolor": "white",
             "linecolor": "white",
             "minorgridcolor": "white",
             "startlinecolor": "#2a3f5f"
            },
            "type": "carpet"
           }
          ],
          "choropleth": [
           {
            "colorbar": {
             "outlinewidth": 0,
             "ticks": ""
            },
            "type": "choropleth"
           }
          ],
          "contour": [
           {
            "colorbar": {
             "outlinewidth": 0,
             "ticks": ""
            },
            "colorscale": [
             [
              0,
              "#0d0887"
             ],
             [
              0.1111111111111111,
              "#46039f"
             ],
             [
              0.2222222222222222,
              "#7201a8"
             ],
             [
              0.3333333333333333,
              "#9c179e"
             ],
             [
              0.4444444444444444,
              "#bd3786"
             ],
             [
              0.5555555555555556,
              "#d8576b"
             ],
             [
              0.6666666666666666,
              "#ed7953"
             ],
             [
              0.7777777777777778,
              "#fb9f3a"
             ],
             [
              0.8888888888888888,
              "#fdca26"
             ],
             [
              1,
              "#f0f921"
             ]
            ],
            "type": "contour"
           }
          ],
          "contourcarpet": [
           {
            "colorbar": {
             "outlinewidth": 0,
             "ticks": ""
            },
            "type": "contourcarpet"
           }
          ],
          "heatmap": [
           {
            "colorbar": {
             "outlinewidth": 0,
             "ticks": ""
            },
            "colorscale": [
             [
              0,
              "#0d0887"
             ],
             [
              0.1111111111111111,
              "#46039f"
             ],
             [
              0.2222222222222222,
              "#7201a8"
             ],
             [
              0.3333333333333333,
              "#9c179e"
             ],
             [
              0.4444444444444444,
              "#bd3786"
             ],
             [
              0.5555555555555556,
              "#d8576b"
             ],
             [
              0.6666666666666666,
              "#ed7953"
             ],
             [
              0.7777777777777778,
              "#fb9f3a"
             ],
             [
              0.8888888888888888,
              "#fdca26"
             ],
             [
              1,
              "#f0f921"
             ]
            ],
            "type": "heatmap"
           }
          ],
          "heatmapgl": [
           {
            "colorbar": {
             "outlinewidth": 0,
             "ticks": ""
            },
            "colorscale": [
             [
              0,
              "#0d0887"
             ],
             [
              0.1111111111111111,
              "#46039f"
             ],
             [
              0.2222222222222222,
              "#7201a8"
             ],
             [
              0.3333333333333333,
              "#9c179e"
             ],
             [
              0.4444444444444444,
              "#bd3786"
             ],
             [
              0.5555555555555556,
              "#d8576b"
             ],
             [
              0.6666666666666666,
              "#ed7953"
             ],
             [
              0.7777777777777778,
              "#fb9f3a"
             ],
             [
              0.8888888888888888,
              "#fdca26"
             ],
             [
              1,
              "#f0f921"
             ]
            ],
            "type": "heatmapgl"
           }
          ],
          "histogram": [
           {
            "marker": {
             "pattern": {
              "fillmode": "overlay",
              "size": 10,
              "solidity": 0.2
             }
            },
            "type": "histogram"
           }
          ],
          "histogram2d": [
           {
            "colorbar": {
             "outlinewidth": 0,
             "ticks": ""
            },
            "colorscale": [
             [
              0,
              "#0d0887"
             ],
             [
              0.1111111111111111,
              "#46039f"
             ],
             [
              0.2222222222222222,
              "#7201a8"
             ],
             [
              0.3333333333333333,
              "#9c179e"
             ],
             [
              0.4444444444444444,
              "#bd3786"
             ],
             [
              0.5555555555555556,
              "#d8576b"
             ],
             [
              0.6666666666666666,
              "#ed7953"
             ],
             [
              0.7777777777777778,
              "#fb9f3a"
             ],
             [
              0.8888888888888888,
              "#fdca26"
             ],
             [
              1,
              "#f0f921"
             ]
            ],
            "type": "histogram2d"
           }
          ],
          "histogram2dcontour": [
           {
            "colorbar": {
             "outlinewidth": 0,
             "ticks": ""
            },
            "colorscale": [
             [
              0,
              "#0d0887"
             ],
             [
              0.1111111111111111,
              "#46039f"
             ],
             [
              0.2222222222222222,
              "#7201a8"
             ],
             [
              0.3333333333333333,
              "#9c179e"
             ],
             [
              0.4444444444444444,
              "#bd3786"
             ],
             [
              0.5555555555555556,
              "#d8576b"
             ],
             [
              0.6666666666666666,
              "#ed7953"
             ],
             [
              0.7777777777777778,
              "#fb9f3a"
             ],
             [
              0.8888888888888888,
              "#fdca26"
             ],
             [
              1,
              "#f0f921"
             ]
            ],
            "type": "histogram2dcontour"
           }
          ],
          "mesh3d": [
           {
            "colorbar": {
             "outlinewidth": 0,
             "ticks": ""
            },
            "type": "mesh3d"
           }
          ],
          "parcoords": [
           {
            "line": {
             "colorbar": {
              "outlinewidth": 0,
              "ticks": ""
             }
            },
            "type": "parcoords"
           }
          ],
          "pie": [
           {
            "automargin": true,
            "type": "pie"
           }
          ],
          "scatter": [
           {
            "fillpattern": {
             "fillmode": "overlay",
             "size": 10,
             "solidity": 0.2
            },
            "type": "scatter"
           }
          ],
          "scatter3d": [
           {
            "line": {
             "colorbar": {
              "outlinewidth": 0,
              "ticks": ""
             }
            },
            "marker": {
             "colorbar": {
              "outlinewidth": 0,
              "ticks": ""
             }
            },
            "type": "scatter3d"
           }
          ],
          "scattercarpet": [
           {
            "marker": {
             "colorbar": {
              "outlinewidth": 0,
              "ticks": ""
             }
            },
            "type": "scattercarpet"
           }
          ],
          "scattergeo": [
           {
            "marker": {
             "colorbar": {
              "outlinewidth": 0,
              "ticks": ""
             }
            },
            "type": "scattergeo"
           }
          ],
          "scattergl": [
           {
            "marker": {
             "colorbar": {
              "outlinewidth": 0,
              "ticks": ""
             }
            },
            "type": "scattergl"
           }
          ],
          "scattermapbox": [
           {
            "marker": {
             "colorbar": {
              "outlinewidth": 0,
              "ticks": ""
             }
            },
            "type": "scattermapbox"
           }
          ],
          "scatterpolar": [
           {
            "marker": {
             "colorbar": {
              "outlinewidth": 0,
              "ticks": ""
             }
            },
            "type": "scatterpolar"
           }
          ],
          "scatterpolargl": [
           {
            "marker": {
             "colorbar": {
              "outlinewidth": 0,
              "ticks": ""
             }
            },
            "type": "scatterpolargl"
           }
          ],
          "scatterternary": [
           {
            "marker": {
             "colorbar": {
              "outlinewidth": 0,
              "ticks": ""
             }
            },
            "type": "scatterternary"
           }
          ],
          "surface": [
           {
            "colorbar": {
             "outlinewidth": 0,
             "ticks": ""
            },
            "colorscale": [
             [
              0,
              "#0d0887"
             ],
             [
              0.1111111111111111,
              "#46039f"
             ],
             [
              0.2222222222222222,
              "#7201a8"
             ],
             [
              0.3333333333333333,
              "#9c179e"
             ],
             [
              0.4444444444444444,
              "#bd3786"
             ],
             [
              0.5555555555555556,
              "#d8576b"
             ],
             [
              0.6666666666666666,
              "#ed7953"
             ],
             [
              0.7777777777777778,
              "#fb9f3a"
             ],
             [
              0.8888888888888888,
              "#fdca26"
             ],
             [
              1,
              "#f0f921"
             ]
            ],
            "type": "surface"
           }
          ],
          "table": [
           {
            "cells": {
             "fill": {
              "color": "#EBF0F8"
             },
             "line": {
              "color": "white"
             }
            },
            "header": {
             "fill": {
              "color": "#C8D4E3"
             },
             "line": {
              "color": "white"
             }
            },
            "type": "table"
           }
          ]
         },
         "layout": {
          "annotationdefaults": {
           "arrowcolor": "#2a3f5f",
           "arrowhead": 0,
           "arrowwidth": 1
          },
          "autotypenumbers": "strict",
          "coloraxis": {
           "colorbar": {
            "outlinewidth": 0,
            "ticks": ""
           }
          },
          "colorscale": {
           "diverging": [
            [
             0,
             "#8e0152"
            ],
            [
             0.1,
             "#c51b7d"
            ],
            [
             0.2,
             "#de77ae"
            ],
            [
             0.3,
             "#f1b6da"
            ],
            [
             0.4,
             "#fde0ef"
            ],
            [
             0.5,
             "#f7f7f7"
            ],
            [
             0.6,
             "#e6f5d0"
            ],
            [
             0.7,
             "#b8e186"
            ],
            [
             0.8,
             "#7fbc41"
            ],
            [
             0.9,
             "#4d9221"
            ],
            [
             1,
             "#276419"
            ]
           ],
           "sequential": [
            [
             0,
             "#0d0887"
            ],
            [
             0.1111111111111111,
             "#46039f"
            ],
            [
             0.2222222222222222,
             "#7201a8"
            ],
            [
             0.3333333333333333,
             "#9c179e"
            ],
            [
             0.4444444444444444,
             "#bd3786"
            ],
            [
             0.5555555555555556,
             "#d8576b"
            ],
            [
             0.6666666666666666,
             "#ed7953"
            ],
            [
             0.7777777777777778,
             "#fb9f3a"
            ],
            [
             0.8888888888888888,
             "#fdca26"
            ],
            [
             1,
             "#f0f921"
            ]
           ],
           "sequentialminus": [
            [
             0,
             "#0d0887"
            ],
            [
             0.1111111111111111,
             "#46039f"
            ],
            [
             0.2222222222222222,
             "#7201a8"
            ],
            [
             0.3333333333333333,
             "#9c179e"
            ],
            [
             0.4444444444444444,
             "#bd3786"
            ],
            [
             0.5555555555555556,
             "#d8576b"
            ],
            [
             0.6666666666666666,
             "#ed7953"
            ],
            [
             0.7777777777777778,
             "#fb9f3a"
            ],
            [
             0.8888888888888888,
             "#fdca26"
            ],
            [
             1,
             "#f0f921"
            ]
           ]
          },
          "colorway": [
           "#636efa",
           "#EF553B",
           "#00cc96",
           "#ab63fa",
           "#FFA15A",
           "#19d3f3",
           "#FF6692",
           "#B6E880",
           "#FF97FF",
           "#FECB52"
          ],
          "font": {
           "color": "#2a3f5f"
          },
          "geo": {
           "bgcolor": "white",
           "lakecolor": "white",
           "landcolor": "#E5ECF6",
           "showlakes": true,
           "showland": true,
           "subunitcolor": "white"
          },
          "hoverlabel": {
           "align": "left"
          },
          "hovermode": "closest",
          "mapbox": {
           "style": "light"
          },
          "paper_bgcolor": "white",
          "plot_bgcolor": "#E5ECF6",
          "polar": {
           "angularaxis": {
            "gridcolor": "white",
            "linecolor": "white",
            "ticks": ""
           },
           "bgcolor": "#E5ECF6",
           "radialaxis": {
            "gridcolor": "white",
            "linecolor": "white",
            "ticks": ""
           }
          },
          "scene": {
           "xaxis": {
            "backgroundcolor": "#E5ECF6",
            "gridcolor": "white",
            "gridwidth": 2,
            "linecolor": "white",
            "showbackground": true,
            "ticks": "",
            "zerolinecolor": "white"
           },
           "yaxis": {
            "backgroundcolor": "#E5ECF6",
            "gridcolor": "white",
            "gridwidth": 2,
            "linecolor": "white",
            "showbackground": true,
            "ticks": "",
            "zerolinecolor": "white"
           },
           "zaxis": {
            "backgroundcolor": "#E5ECF6",
            "gridcolor": "white",
            "gridwidth": 2,
            "linecolor": "white",
            "showbackground": true,
            "ticks": "",
            "zerolinecolor": "white"
           }
          },
          "shapedefaults": {
           "line": {
            "color": "#2a3f5f"
           }
          },
          "ternary": {
           "aaxis": {
            "gridcolor": "white",
            "linecolor": "white",
            "ticks": ""
           },
           "baxis": {
            "gridcolor": "white",
            "linecolor": "white",
            "ticks": ""
           },
           "bgcolor": "#E5ECF6",
           "caxis": {
            "gridcolor": "white",
            "linecolor": "white",
            "ticks": ""
           }
          },
          "title": {
           "x": 0.05
          },
          "xaxis": {
           "automargin": true,
           "gridcolor": "white",
           "linecolor": "white",
           "ticks": "",
           "title": {
            "standoff": 15
           },
           "zerolinecolor": "white",
           "zerolinewidth": 2
          },
          "yaxis": {
           "automargin": true,
           "gridcolor": "white",
           "linecolor": "white",
           "ticks": "",
           "title": {
            "standoff": 15
           },
           "zerolinecolor": "white",
           "zerolinewidth": 2
          }
         }
        },
        "title": {
         "text": "Mean Correlation Heatmap"
        },
        "width": 800,
        "xaxis": {
         "autorange": true,
         "range": [
          -0.5,
          13.5
         ],
         "title": {
          "text": "Variable"
         },
         "type": "category"
        },
        "yaxis": {
         "autorange": true,
         "range": [
          -0.5,
          13.5
         ],
         "title": {
          "text": "Variable"
         },
         "type": "category"
        }
       }
      },
      "image/png": "[encoded data removed]",
      "text/html": [
       "<div>                            <div id=\"81df9d13-8885-4c60-a1cf-9f25eea7ab88\" class=\"plotly-graph-div\" style=\"height:600px; width:800px;\"></div>            <script type=\"text/javascript\">                require([\"plotly\"], function(Plotly) {                    window.PLOTLYENV=window.PLOTLYENV || {};                                    if (document.getElementById(\"81df9d13-8885-4c60-a1cf-9f25eea7ab88\")) {                    Plotly.newPlot(                        \"81df9d13-8885-4c60-a1cf-9f25eea7ab88\",                        [{\"colorbar\":{\"title\":{\"text\":\"Correlation\"}},\"colorscale\":[[0.0,\"#440154\"],[0.1111111111111111,\"#482878\"],[0.2222222222222222,\"#3e4989\"],[0.3333333333333333,\"#31688e\"],[0.4444444444444444,\"#26828e\"],[0.5555555555555556,\"#1f9e89\"],[0.6666666666666666,\"#35b779\"],[0.7777777777777778,\"#6ece58\"],[0.8888888888888888,\"#b5de2b\"],[1.0,\"#fde725\"]],\"x\":[\"lis_SWE\",\"lis_SurfMoist\",\"lis_dis\",\"meteo_rain\",\"meteo_tair\",\"obs\",\"pcr_SWE\",\"pcr_SurfMoist\",\"pcr_SurfStor\",\"pcr_dis\",\"wg3_RootMoist\",\"wg3_SWE\",\"wg3_SurfStor\",\"wg3_dis\"],\"y\":[\"lis_SWE\",\"lis_SurfMoist\",\"lis_dis\",\"meteo_rain\",\"meteo_tair\",\"obs\",\"pcr_SWE\",\"pcr_SurfMoist\",\"pcr_SurfStor\",\"pcr_dis\",\"wg3_RootMoist\",\"wg3_SWE\",\"wg3_SurfStor\",\"wg3_dis\"],\"z\":[[1.0,0.33083707097824855,0.03857925389433336,-0.23887152863333705,-0.47014925649567735,0.137053674019873,0.9282573926375887,0.1330504070433876,0.048760262106225506,0.07691086464756108,0.3795430806023572,0.9310393475921055,0.18107026144345517,0.17648702116110107],[0.33083707097824855,1.0,0.40208409050154587,-0.12388668949162694,-0.7149657367217798,0.5270515416901193,0.2729419969530203,0.43724122370995155,0.38088090895625887,0.4592565468290069,0.9082823356750925,0.2832074434680938,0.643793693682853,0.5801152902725139],[0.03857925389433336,0.40208409050154587,1.0,0.29679688453481856,-0.001518535654854336,0.8511405175271288,0.03758894706812392,0.3354761815341002,0.8191666007985708,0.8586730523444399,0.24329751201312427,0.03184260424864185,0.7393612108111478,0.7978010186063972],[-0.23887152863333705,-0.12388668949162694,0.29679688453481856,1.0,0.32243372044149704,0.2787831986477744,-0.2249478686686736,0.5257890558134689,0.32911838859308296,0.3437748140555771,-0.15628622101647052,-0.2380463648700949,0.24992280003567352,0.3254799505743112],[-0.47014925649567735,-0.7149657367217798,-0.001518535654854336,0.32243372044149704,1.0,-0.22497031333162024,-0.4092381560492232,-0.42454303934562077,-0.01981548512749373,-0.05843370123424749,-0.8656311187945,-0.42828035511869517,-0.2880323175448657,-0.32834957571740325],[0.137053674019873,0.5270515416901193,0.8511405175271288,0.2787831986477744,-0.22497031333162024,1.0,0.11928595198754699,0.4788797042836615,0.7486364205224867,0.7966301959517207,0.43739079088295485,0.11565131762283196,0.7529659275849359,0.8515441952438111],[0.9282573926375887,0.2729419969530203,0.03758894706812392,-0.2249478686686736,-0.4092381560492232,0.11928595198754699,1.0,0.09642750417711111,0.059689486352295346,0.07339138477661085,0.31401082961907156,0.9924416130266313,0.13987856750667066,0.1454153538017234],[0.1330504070433876,0.43724122370995155,0.3354761815341002,0.5257890558134689,-0.42454303934562077,0.4788797042836615,0.09642750417711111,1.0,0.393787341933963,0.42593739050954293,0.5394046564520711,0.09695737668434505,0.4451443238673782,0.6153692627804914],[0.048760262106225506,0.38088090895625887,0.8191666007985708,0.32911838859308296,-0.01981548512749373,0.7486364205224867,0.059689486352295346,0.393787341933963,1.0,0.9374830549828971,0.2589268722115271,0.05526753897048379,0.6547112968287964,0.7345078962477429],[0.07691086464756108,0.4592565468290069,0.8586730523444399,0.3437748140555771,-0.05843370123424749,0.7966301959517207,0.07339138477661085,0.42593739050954293,0.9374830549828971,1.0,0.32458422611754884,0.07032395061436718,0.7449668395727556,0.7971691786508239],[0.3795430806023572,0.9082823356750925,0.24329751201312427,-0.15628622101647052,-0.8656311187945,0.43739079088295485,0.31401082961907156,0.5394046564520711,0.2589268722115271,0.32458422611754884,1.0,0.32748982736141863,0.5290383865166096,0.5336792790998175],[0.9310393475921055,0.2832074434680938,0.03184260424864185,-0.2380463648700949,-0.42828035511869517,0.11565131762283196,0.9924416130266313,0.09695737668434505,0.05526753897048379,0.07032395061436718,0.32748982736141863,1.0,0.13868733979577053,0.14414160518285182],[0.18107026144345517,0.643793693682853,0.7393612108111478,0.24992280003567352,-0.2880323175448657,0.7529659275849359,0.13987856750667066,0.4451443238673782,0.6547112968287964,0.7449668395727556,0.5290383865166096,0.13868733979577053,1.0,0.8414200806088509],[0.17648702116110107,0.5801152902725139,0.7978010186063972,0.3254799505743112,-0.32834957571740325,0.8515441952438111,0.1454153538017234,0.6153692627804914,0.7345078962477429,0.7971691786508239,0.5336792790998175,0.14414160518285182,0.8414200806088509,1.0]],\"type\":\"heatmap\"}],                        {\"template\":{\"data\":{\"histogram2dcontour\":[{\"type\":\"histogram2dcontour\",\"colorbar\":{\"outlinewidth\":0,\"ticks\":\"\"},\"colorscale\":[[0.0,\"#0d0887\"],[0.1111111111111111,\"#46039f\"],[0.2222222222222222,\"#7201a8\"],[0.3333333333333333,\"#9c179e\"],[0.4444444444444444,\"#bd3786\"],[0.5555555555555556,\"#d8576b\"],[0.6666666666666666,\"#ed7953\"],[0.7777777777777778,\"#fb9f3a\"],[0.8888888888888888,\"#fdca26\"],[1.0,\"#f0f921\"]]}],\"choropleth\":[{\"type\":\"choropleth\",\"colorbar\":{\"outlinewidth\":0,\"ticks\":\"\"}}],\"histogram2d\":[{\"type\":\"histogram2d\",\"colorbar\":{\"outlinewidth\":0,\"ticks\":\"\"},\"colorscale\":[[0.0,\"#0d0887\"],[0.1111111111111111,\"#46039f\"],[0.2222222222222222,\"#7201a8\"],[0.3333333333333333,\"#9c179e\"],[0.4444444444444444,\"#bd3786\"],[0.5555555555555556,\"#d8576b\"],[0.6666666666666666,\"#ed7953\"],[0.7777777777777778,\"#fb9f3a\"],[0.8888888888888888,\"#fdca26\"],[1.0,\"#f0f921\"]]}],\"heatmap\":[{\"type\":\"heatmap\",\"colorbar\":{\"outlinewidth\":0,\"ticks\":\"\"},\"colorscale\":[[0.0,\"#0d0887\"],[0.1111111111111111,\"#46039f\"],[0.2222222222222222,\"#7201a8\"],[0.3333333333333333,\"#9c179e\"],[0.4444444444444444,\"#bd3786\"],[0.5555555555555556,\"#d8576b\"],[0.6666666666666666,\"#ed7953\"],[0.7777777777777778,\"#fb9f3a\"],[0.8888888888888888,\"#fdca26\"],[1.0,\"#f0f921\"]]}],\"heatmapgl\":[{\"type\":\"heatmapgl\",\"colorbar\":{\"outlinewidth\":0,\"ticks\":\"\"},\"colorscale\":[[0.0,\"#0d0887\"],[0.1111111111111111,\"#46039f\"],[0.2222222222222222,\"#7201a8\"],[0.3333333333333333,\"#9c179e\"],[0.4444444444444444,\"#bd3786\"],[0.5555555555555556,\"#d8576b\"],[0.6666666666666666,\"#ed7953\"],[0.7777777777777778,\"#fb9f3a\"],[0.8888888888888888,\"#fdca26\"],[1.0,\"#f0f921\"]]}],\"contourcarpet\":[{\"type\":\"contourcarpet\",\"colorbar\":{\"outlinewidth\":0,\"ticks\":\"\"}}],\"contour\":[{\"type\":\"contour\",\"colorbar\":{\"outlinewidth\":0,\"ticks\":\"\"},\"colorscale\":[[0.0,\"#0d0887\"],[0.1111111111111111,\"#46039f\"],[0.2222222222222222,\"#7201a8\"],[0.3333333333333333,\"#9c179e\"],[0.4444444444444444,\"#bd3786\"],[0.5555555555555556,\"#d8576b\"],[0.6666666666666666,\"#ed7953\"],[0.7777777777777778,\"#fb9f3a\"],[0.8888888888888888,\"#fdca26\"],[1.0,\"#f0f921\"]]}],\"surface\":[{\"type\":\"surface\",\"colorbar\":{\"outlinewidth\":0,\"ticks\":\"\"},\"colorscale\":[[0.0,\"#0d0887\"],[0.1111111111111111,\"#46039f\"],[0.2222222222222222,\"#7201a8\"],[0.3333333333333333,\"#9c179e\"],[0.4444444444444444,\"#bd3786\"],[0.5555555555555556,\"#d8576b\"],[0.6666666666666666,\"#ed7953\"],[0.7777777777777778,\"#fb9f3a\"],[0.8888888888888888,\"#fdca26\"],[1.0,\"#f0f921\"]]}],\"mesh3d\":[{\"type\":\"mesh3d\",\"colorbar\":{\"outlinewidth\":0,\"ticks\":\"\"}}],\"scatter\":[{\"fillpattern\":{\"fillmode\":\"overlay\",\"size\":10,\"solidity\":0.2},\"type\":\"scatter\"}],\"parcoords\":[{\"type\":\"parcoords\",\"line\":{\"colorbar\":{\"outlinewidth\":0,\"ticks\":\"\"}}}],\"scatterpolargl\":[{\"type\":\"scatterpolargl\",\"marker\":{\"colorbar\":{\"outlinewidth\":0,\"ticks\":\"\"}}}],\"bar\":[{\"error_x\":{\"color\":\"#2a3f5f\"},\"error_y\":{\"color\":\"#2a3f5f\"},\"marker\":{\"line\":{\"color\":\"#E5ECF6\",\"width\":0.5},\"pattern\":{\"fillmode\":\"overlay\",\"size\":10,\"solidity\":0.2}},\"type\":\"bar\"}],\"scattergeo\":[{\"type\":\"scattergeo\",\"marker\":{\"colorbar\":{\"outlinewidth\":0,\"ticks\":\"\"}}}],\"scatterpolar\":[{\"type\":\"scatterpolar\",\"marker\":{\"colorbar\":{\"outlinewidth\":0,\"ticks\":\"\"}}}],\"histogram\":[{\"marker\":{\"pattern\":{\"fillmode\":\"overlay\",\"size\":10,\"solidity\":0.2}},\"type\":\"histogram\"}],\"scattergl\":[{\"type\":\"scattergl\",\"marker\":{\"colorbar\":{\"outlinewidth\":0,\"ticks\":\"\"}}}],\"scatter3d\":[{\"type\":\"scatter3d\",\"line\":{\"colorbar\":{\"outlinewidth\":0,\"ticks\":\"\"}},\"marker\":{\"colorbar\":{\"outlinewidth\":0,\"ticks\":\"\"}}}],\"scattermapbox\":[{\"type\":\"scattermapbox\",\"marker\":{\"colorbar\":{\"outlinewidth\":0,\"ticks\":\"\"}}}],\"scatterternary\":[{\"type\":\"scatterternary\",\"marker\":{\"colorbar\":{\"outlinewidth\":0,\"ticks\":\"\"}}}],\"scattercarpet\":[{\"type\":\"scattercarpet\",\"marker\":{\"colorbar\":{\"outlinewidth\":0,\"ticks\":\"\"}}}],\"carpet\":[{\"aaxis\":{\"endlinecolor\":\"#2a3f5f\",\"gridcolor\":\"white\",\"linecolor\":\"white\",\"minorgridcolor\":\"white\",\"startlinecolor\":\"#2a3f5f\"},\"baxis\":{\"endlinecolor\":\"#2a3f5f\",\"gridcolor\":\"white\",\"linecolor\":\"white\",\"minorgridcolor\":\"white\",\"startlinecolor\":\"#2a3f5f\"},\"type\":\"carpet\"}],\"table\":[{\"cells\":{\"fill\":{\"color\":\"#EBF0F8\"},\"line\":{\"color\":\"white\"}},\"header\":{\"fill\":{\"color\":\"#C8D4E3\"},\"line\":{\"color\":\"white\"}},\"type\":\"table\"}],\"barpolar\":[{\"marker\":{\"line\":{\"color\":\"#E5ECF6\",\"width\":0.5},\"pattern\":{\"fillmode\":\"overlay\",\"size\":10,\"solidity\":0.2}},\"type\":\"barpolar\"}],\"pie\":[{\"automargin\":true,\"type\":\"pie\"}]},\"layout\":{\"autotypenumbers\":\"strict\",\"colorway\":[\"#636efa\",\"#EF553B\",\"#00cc96\",\"#ab63fa\",\"#FFA15A\",\"#19d3f3\",\"#FF6692\",\"#B6E880\",\"#FF97FF\",\"#FECB52\"],\"font\":{\"color\":\"#2a3f5f\"},\"hovermode\":\"closest\",\"hoverlabel\":{\"align\":\"left\"},\"paper_bgcolor\":\"white\",\"plot_bgcolor\":\"#E5ECF6\",\"polar\":{\"bgcolor\":\"#E5ECF6\",\"angularaxis\":{\"gridcolor\":\"white\",\"linecolor\":\"white\",\"ticks\":\"\"},\"radialaxis\":{\"gridcolor\":\"white\",\"linecolor\":\"white\",\"ticks\":\"\"}},\"ternary\":{\"bgcolor\":\"#E5ECF6\",\"aaxis\":{\"gridcolor\":\"white\",\"linecolor\":\"white\",\"ticks\":\"\"},\"baxis\":{\"gridcolor\":\"white\",\"linecolor\":\"white\",\"ticks\":\"\"},\"caxis\":{\"gridcolor\":\"white\",\"linecolor\":\"white\",\"ticks\":\"\"}},\"coloraxis\":{\"colorbar\":{\"outlinewidth\":0,\"ticks\":\"\"}},\"colorscale\":{\"sequential\":[[0.0,\"#0d0887\"],[0.1111111111111111,\"#46039f\"],[0.2222222222222222,\"#7201a8\"],[0.3333333333333333,\"#9c179e\"],[0.4444444444444444,\"#bd3786\"],[0.5555555555555556,\"#d8576b\"],[0.6666666666666666,\"#ed7953\"],[0.7777777777777778,\"#fb9f3a\"],[0.8888888888888888,\"#fdca26\"],[1.0,\"#f0f921\"]],\"sequentialminus\":[[0.0,\"#0d0887\"],[0.1111111111111111,\"#46039f\"],[0.2222222222222222,\"#7201a8\"],[0.3333333333333333,\"#9c179e\"],[0.4444444444444444,\"#bd3786\"],[0.5555555555555556,\"#d8576b\"],[0.6666666666666666,\"#ed7953\"],[0.7777777777777778,\"#fb9f3a\"],[0.8888888888888888,\"#fdca26\"],[1.0,\"#f0f921\"]],\"diverging\":[[0,\"#8e0152\"],[0.1,\"#c51b7d\"],[0.2,\"#de77ae\"],[0.3,\"#f1b6da\"],[0.4,\"#fde0ef\"],[0.5,\"#f7f7f7\"],[0.6,\"#e6f5d0\"],[0.7,\"#b8e186\"],[0.8,\"#7fbc41\"],[0.9,\"#4d9221\"],[1,\"#276419\"]]},\"xaxis\":{\"gridcolor\":\"white\",\"linecolor\":\"white\",\"ticks\":\"\",\"title\":{\"standoff\":15},\"zerolinecolor\":\"white\",\"automargin\":true,\"zerolinewidth\":2},\"yaxis\":{\"gridcolor\":\"white\",\"linecolor\":\"white\",\"ticks\":\"\",\"title\":{\"standoff\":15},\"zerolinecolor\":\"white\",\"automargin\":true,\"zerolinewidth\":2},\"scene\":{\"xaxis\":{\"backgroundcolor\":\"#E5ECF6\",\"gridcolor\":\"white\",\"linecolor\":\"white\",\"showbackground\":true,\"ticks\":\"\",\"zerolinecolor\":\"white\",\"gridwidth\":2},\"yaxis\":{\"backgroundcolor\":\"#E5ECF6\",\"gridcolor\":\"white\",\"linecolor\":\"white\",\"showbackground\":true,\"ticks\":\"\",\"zerolinecolor\":\"white\",\"gridwidth\":2},\"zaxis\":{\"backgroundcolor\":\"#E5ECF6\",\"gridcolor\":\"white\",\"linecolor\":\"white\",\"showbackground\":true,\"ticks\":\"\",\"zerolinecolor\":\"white\",\"gridwidth\":2}},\"shapedefaults\":{\"line\":{\"color\":\"#2a3f5f\"}},\"annotationdefaults\":{\"arrowcolor\":\"#2a3f5f\",\"arrowhead\":0,\"arrowwidth\":1},\"geo\":{\"bgcolor\":\"white\",\"landcolor\":\"#E5ECF6\",\"subunitcolor\":\"white\",\"showland\":true,\"showlakes\":true,\"lakecolor\":\"white\"},\"title\":{\"x\":0.05},\"mapbox\":{\"style\":\"light\"}}},\"annotations\":[{\"font\":{\"color\":\"white\"},\"showarrow\":false,\"text\":\"1.00\",\"x\":\"lis_SWE\",\"y\":\"lis_SWE\"},{\"font\":{\"color\":\"black\"},\"showarrow\":false,\"text\":\"0.33\",\"x\":\"lis_SurfMoist\",\"y\":\"lis_SWE\"},{\"font\":{\"color\":\"black\"},\"showarrow\":false,\"text\":\"0.04\",\"x\":\"lis_dis\",\"y\":\"lis_SWE\"},{\"font\":{\"color\":\"black\"},\"showarrow\":false,\"text\":\"-0.24\",\"x\":\"meteo_rain\",\"y\":\"lis_SWE\"},{\"font\":{\"color\":\"black\"},\"showarrow\":false,\"text\":\"-0.47\",\"x\":\"meteo_tair\",\"y\":\"lis_SWE\"},{\"font\":{\"color\":\"black\"},\"showarrow\":false,\"text\":\"0.14\",\"x\":\"obs\",\"y\":\"lis_SWE\"},{\"font\":{\"color\":\"white\"},\"showarrow\":false,\"text\":\"0.93\",\"x\":\"pcr_SWE\",\"y\":\"lis_SWE\"},{\"font\":{\"color\":\"black\"},\"showarrow\":false,\"text\":\"0.13\",\"x\":\"pcr_SurfMoist\",\"y\":\"lis_SWE\"},{\"font\":{\"color\":\"black\"},\"showarrow\":false,\"text\":\"0.05\",\"x\":\"pcr_SurfStor\",\"y\":\"lis_SWE\"},{\"font\":{\"color\":\"black\"},\"showarrow\":false,\"text\":\"0.08\",\"x\":\"pcr_dis\",\"y\":\"lis_SWE\"},{\"font\":{\"color\":\"black\"},\"showarrow\":false,\"text\":\"0.38\",\"x\":\"wg3_RootMoist\",\"y\":\"lis_SWE\"},{\"font\":{\"color\":\"white\"},\"showarrow\":false,\"text\":\"0.93\",\"x\":\"wg3_SWE\",\"y\":\"lis_SWE\"},{\"font\":{\"color\":\"black\"},\"showarrow\":false,\"text\":\"0.18\",\"x\":\"wg3_SurfStor\",\"y\":\"lis_SWE\"},{\"font\":{\"color\":\"black\"},\"showarrow\":false,\"text\":\"0.18\",\"x\":\"wg3_dis\",\"y\":\"lis_SWE\"},{\"font\":{\"color\":\"black\"},\"showarrow\":false,\"text\":\"0.33\",\"x\":\"lis_SWE\",\"y\":\"lis_SurfMoist\"},{\"font\":{\"color\":\"white\"},\"showarrow\":false,\"text\":\"1.00\",\"x\":\"lis_SurfMoist\",\"y\":\"lis_SurfMoist\"},{\"font\":{\"color\":\"black\"},\"showarrow\":false,\"text\":\"0.40\",\"x\":\"lis_dis\",\"y\":\"lis_SurfMoist\"},{\"font\":{\"color\":\"black\"},\"showarrow\":false,\"text\":\"-0.12\",\"x\":\"meteo_rain\",\"y\":\"lis_SurfMoist\"},{\"font\":{\"color\":\"black\"},\"showarrow\":false,\"text\":\"-0.71\",\"x\":\"meteo_tair\",\"y\":\"lis_SurfMoist\"},{\"font\":{\"color\":\"white\"},\"showarrow\":false,\"text\":\"0.53\",\"x\":\"obs\",\"y\":\"lis_SurfMoist\"},{\"font\":{\"color\":\"black\"},\"showarrow\":false,\"text\":\"0.27\",\"x\":\"pcr_SWE\",\"y\":\"lis_SurfMoist\"},{\"font\":{\"color\":\"black\"},\"showarrow\":false,\"text\":\"0.44\",\"x\":\"pcr_SurfMoist\",\"y\":\"lis_SurfMoist\"},{\"font\":{\"color\":\"black\"},\"showarrow\":false,\"text\":\"0.38\",\"x\":\"pcr_SurfStor\",\"y\":\"lis_SurfMoist\"},{\"font\":{\"color\":\"black\"},\"showarrow\":false,\"text\":\"0.46\",\"x\":\"pcr_dis\",\"y\":\"lis_SurfMoist\"},{\"font\":{\"color\":\"white\"},\"showarrow\":false,\"text\":\"0.91\",\"x\":\"wg3_RootMoist\",\"y\":\"lis_SurfMoist\"},{\"font\":{\"color\":\"black\"},\"showarrow\":false,\"text\":\"0.28\",\"x\":\"wg3_SWE\",\"y\":\"lis_SurfMoist\"},{\"font\":{\"color\":\"white\"},\"showarrow\":false,\"text\":\"0.64\",\"x\":\"wg3_SurfStor\",\"y\":\"lis_SurfMoist\"},{\"font\":{\"color\":\"white\"},\"showarrow\":false,\"text\":\"0.58\",\"x\":\"wg3_dis\",\"y\":\"lis_SurfMoist\"},{\"font\":{\"color\":\"black\"},\"showarrow\":false,\"text\":\"0.04\",\"x\":\"lis_SWE\",\"y\":\"lis_dis\"},{\"font\":{\"color\":\"black\"},\"showarrow\":false,\"text\":\"0.40\",\"x\":\"lis_SurfMoist\",\"y\":\"lis_dis\"},{\"font\":{\"color\":\"white\"},\"showarrow\":false,\"text\":\"1.00\",\"x\":\"lis_dis\",\"y\":\"lis_dis\"},{\"font\":{\"color\":\"black\"},\"showarrow\":false,\"text\":\"0.30\",\"x\":\"meteo_rain\",\"y\":\"lis_dis\"},{\"font\":{\"color\":\"black\"},\"showarrow\":false,\"text\":\"-0.00\",\"x\":\"meteo_tair\",\"y\":\"lis_dis\"},{\"font\":{\"color\":\"white\"},\"showarrow\":false,\"text\":\"0.85\",\"x\":\"obs\",\"y\":\"lis_dis\"},{\"font\":{\"color\":\"black\"},\"showarrow\":false,\"text\":\"0.04\",\"x\":\"pcr_SWE\",\"y\":\"lis_dis\"},{\"font\":{\"color\":\"black\"},\"showarrow\":false,\"text\":\"0.34\",\"x\":\"pcr_SurfMoist\",\"y\":\"lis_dis\"},{\"font\":{\"color\":\"white\"},\"showarrow\":false,\"text\":\"0.82\",\"x\":\"pcr_SurfStor\",\"y\":\"lis_dis\"},{\"font\":{\"color\":\"white\"},\"showarrow\":false,\"text\":\"0.86\",\"x\":\"pcr_dis\",\"y\":\"lis_dis\"},{\"font\":{\"color\":\"black\"},\"showarrow\":false,\"text\":\"0.24\",\"x\":\"wg3_RootMoist\",\"y\":\"lis_dis\"},{\"font\":{\"color\":\"black\"},\"showarrow\":false,\"text\":\"0.03\",\"x\":\"wg3_SWE\",\"y\":\"lis_dis\"},{\"font\":{\"color\":\"white\"},\"showarrow\":false,\"text\":\"0.74\",\"x\":\"wg3_SurfStor\",\"y\":\"lis_dis\"},{\"font\":{\"color\":\"white\"},\"showarrow\":false,\"text\":\"0.80\",\"x\":\"wg3_dis\",\"y\":\"lis_dis\"},{\"font\":{\"color\":\"black\"},\"showarrow\":false,\"text\":\"-0.24\",\"x\":\"lis_SWE\",\"y\":\"meteo_rain\"},{\"font\":{\"color\":\"black\"},\"showarrow\":false,\"text\":\"-0.12\",\"x\":\"lis_SurfMoist\",\"y\":\"meteo_rain\"},{\"font\":{\"color\":\"black\"},\"showarrow\":false,\"text\":\"0.30\",\"x\":\"lis_dis\",\"y\":\"meteo_rain\"},{\"font\":{\"color\":\"white\"},\"showarrow\":false,\"text\":\"1.00\",\"x\":\"meteo_rain\",\"y\":\"meteo_rain\"},{\"font\":{\"color\":\"black\"},\"showarrow\":false,\"text\":\"0.32\",\"x\":\"meteo_tair\",\"y\":\"meteo_rain\"},{\"font\":{\"color\":\"black\"},\"showarrow\":false,\"text\":\"0.28\",\"x\":\"obs\",\"y\":\"meteo_rain\"},{\"font\":{\"color\":\"black\"},\"showarrow\":false,\"text\":\"-0.22\",\"x\":\"pcr_SWE\",\"y\":\"meteo_rain\"},{\"font\":{\"color\":\"white\"},\"showarrow\":false,\"text\":\"0.53\",\"x\":\"pcr_SurfMoist\",\"y\":\"meteo_rain\"},{\"font\":{\"color\":\"black\"},\"showarrow\":false,\"text\":\"0.33\",\"x\":\"pcr_SurfStor\",\"y\":\"meteo_rain\"},{\"font\":{\"color\":\"black\"},\"showarrow\":false,\"text\":\"0.34\",\"x\":\"pcr_dis\",\"y\":\"meteo_rain\"},{\"font\":{\"color\":\"black\"},\"showarrow\":false,\"text\":\"-0.16\",\"x\":\"wg3_RootMoist\",\"y\":\"meteo_rain\"},{\"font\":{\"color\":\"black\"},\"showarrow\":false,\"text\":\"-0.24\",\"x\":\"wg3_SWE\",\"y\":\"meteo_rain\"},{\"font\":{\"color\":\"black\"},\"showarrow\":false,\"text\":\"0.25\",\"x\":\"wg3_SurfStor\",\"y\":\"meteo_rain\"},{\"font\":{\"color\":\"black\"},\"showarrow\":false,\"text\":\"0.33\",\"x\":\"wg3_dis\",\"y\":\"meteo_rain\"},{\"font\":{\"color\":\"black\"},\"showarrow\":false,\"text\":\"-0.47\",\"x\":\"lis_SWE\",\"y\":\"meteo_tair\"},{\"font\":{\"color\":\"black\"},\"showarrow\":false,\"text\":\"-0.71\",\"x\":\"lis_SurfMoist\",\"y\":\"meteo_tair\"},{\"font\":{\"color\":\"black\"},\"showarrow\":false,\"text\":\"-0.00\",\"x\":\"lis_dis\",\"y\":\"meteo_tair\"},{\"font\":{\"color\":\"black\"},\"showarrow\":false,\"text\":\"0.32\",\"x\":\"meteo_rain\",\"y\":\"meteo_tair\"},{\"font\":{\"color\":\"white\"},\"showarrow\":false,\"text\":\"1.00\",\"x\":\"meteo_tair\",\"y\":\"meteo_tair\"},{\"font\":{\"color\":\"black\"},\"showarrow\":false,\"text\":\"-0.22\",\"x\":\"obs\",\"y\":\"meteo_tair\"},{\"font\":{\"color\":\"black\"},\"showarrow\":false,\"text\":\"-0.41\",\"x\":\"pcr_SWE\",\"y\":\"meteo_tair\"},{\"font\":{\"color\":\"black\"},\"showarrow\":false,\"text\":\"-0.42\",\"x\":\"pcr_SurfMoist\",\"y\":\"meteo_tair\"},{\"font\":{\"color\":\"black\"},\"showarrow\":false,\"text\":\"-0.02\",\"x\":\"pcr_SurfStor\",\"y\":\"meteo_tair\"},{\"font\":{\"color\":\"black\"},\"showarrow\":false,\"text\":\"-0.06\",\"x\":\"pcr_dis\",\"y\":\"meteo_tair\"},{\"font\":{\"color\":\"black\"},\"showarrow\":false,\"text\":\"-0.87\",\"x\":\"wg3_RootMoist\",\"y\":\"meteo_tair\"},{\"font\":{\"color\":\"black\"},\"showarrow\":false,\"text\":\"-0.43\",\"x\":\"wg3_SWE\",\"y\":\"meteo_tair\"},{\"font\":{\"color\":\"black\"},\"showarrow\":false,\"text\":\"-0.29\",\"x\":\"wg3_SurfStor\",\"y\":\"meteo_tair\"},{\"font\":{\"color\":\"black\"},\"showarrow\":false,\"text\":\"-0.33\",\"x\":\"wg3_dis\",\"y\":\"meteo_tair\"},{\"font\":{\"color\":\"black\"},\"showarrow\":false,\"text\":\"0.14\",\"x\":\"lis_SWE\",\"y\":\"obs\"},{\"font\":{\"color\":\"white\"},\"showarrow\":false,\"text\":\"0.53\",\"x\":\"lis_SurfMoist\",\"y\":\"obs\"},{\"font\":{\"color\":\"white\"},\"showarrow\":false,\"text\":\"0.85\",\"x\":\"lis_dis\",\"y\":\"obs\"},{\"font\":{\"color\":\"black\"},\"showarrow\":false,\"text\":\"0.28\",\"x\":\"meteo_rain\",\"y\":\"obs\"},{\"font\":{\"color\":\"black\"},\"showarrow\":false,\"text\":\"-0.22\",\"x\":\"meteo_tair\",\"y\":\"obs\"},{\"font\":{\"color\":\"white\"},\"showarrow\":false,\"text\":\"1.00\",\"x\":\"obs\",\"y\":\"obs\"},{\"font\":{\"color\":\"black\"},\"showarrow\":false,\"text\":\"0.12\",\"x\":\"pcr_SWE\",\"y\":\"obs\"},{\"font\":{\"color\":\"black\"},\"showarrow\":false,\"text\":\"0.48\",\"x\":\"pcr_SurfMoist\",\"y\":\"obs\"},{\"font\":{\"color\":\"white\"},\"showarrow\":false,\"text\":\"0.75\",\"x\":\"pcr_SurfStor\",\"y\":\"obs\"},{\"font\":{\"color\":\"white\"},\"showarrow\":false,\"text\":\"0.80\",\"x\":\"pcr_dis\",\"y\":\"obs\"},{\"font\":{\"color\":\"black\"},\"showarrow\":false,\"text\":\"0.44\",\"x\":\"wg3_RootMoist\",\"y\":\"obs\"},{\"font\":{\"color\":\"black\"},\"showarrow\":false,\"text\":\"0.12\",\"x\":\"wg3_SWE\",\"y\":\"obs\"},{\"font\":{\"color\":\"white\"},\"showarrow\":false,\"text\":\"0.75\",\"x\":\"wg3_SurfStor\",\"y\":\"obs\"},{\"font\":{\"color\":\"white\"},\"showarrow\":false,\"text\":\"0.85\",\"x\":\"wg3_dis\",\"y\":\"obs\"},{\"font\":{\"color\":\"white\"},\"showarrow\":false,\"text\":\"0.93\",\"x\":\"lis_SWE\",\"y\":\"pcr_SWE\"},{\"font\":{\"color\":\"black\"},\"showarrow\":false,\"text\":\"0.27\",\"x\":\"lis_SurfMoist\",\"y\":\"pcr_SWE\"},{\"font\":{\"color\":\"black\"},\"showarrow\":false,\"text\":\"0.04\",\"x\":\"lis_dis\",\"y\":\"pcr_SWE\"},{\"font\":{\"color\":\"black\"},\"showarrow\":false,\"text\":\"-0.22\",\"x\":\"meteo_rain\",\"y\":\"pcr_SWE\"},{\"font\":{\"color\":\"black\"},\"showarrow\":false,\"text\":\"-0.41\",\"x\":\"meteo_tair\",\"y\":\"pcr_SWE\"},{\"font\":{\"color\":\"black\"},\"showarrow\":false,\"text\":\"0.12\",\"x\":\"obs\",\"y\":\"pcr_SWE\"},{\"font\":{\"color\":\"white\"},\"showarrow\":false,\"text\":\"1.00\",\"x\":\"pcr_SWE\",\"y\":\"pcr_SWE\"},{\"font\":{\"color\":\"black\"},\"showarrow\":false,\"text\":\"0.10\",\"x\":\"pcr_SurfMoist\",\"y\":\"pcr_SWE\"},{\"font\":{\"color\":\"black\"},\"showarrow\":false,\"text\":\"0.06\",\"x\":\"pcr_SurfStor\",\"y\":\"pcr_SWE\"},{\"font\":{\"color\":\"black\"},\"showarrow\":false,\"text\":\"0.07\",\"x\":\"pcr_dis\",\"y\":\"pcr_SWE\"},{\"font\":{\"color\":\"black\"},\"showarrow\":false,\"text\":\"0.31\",\"x\":\"wg3_RootMoist\",\"y\":\"pcr_SWE\"},{\"font\":{\"color\":\"white\"},\"showarrow\":false,\"text\":\"0.99\",\"x\":\"wg3_SWE\",\"y\":\"pcr_SWE\"},{\"font\":{\"color\":\"black\"},\"showarrow\":false,\"text\":\"0.14\",\"x\":\"wg3_SurfStor\",\"y\":\"pcr_SWE\"},{\"font\":{\"color\":\"black\"},\"showarrow\":false,\"text\":\"0.15\",\"x\":\"wg3_dis\",\"y\":\"pcr_SWE\"},{\"font\":{\"color\":\"black\"},\"showarrow\":false,\"text\":\"0.13\",\"x\":\"lis_SWE\",\"y\":\"pcr_SurfMoist\"},{\"font\":{\"color\":\"black\"},\"showarrow\":false,\"text\":\"0.44\",\"x\":\"lis_SurfMoist\",\"y\":\"pcr_SurfMoist\"},{\"font\":{\"color\":\"black\"},\"showarrow\":false,\"text\":\"0.34\",\"x\":\"lis_dis\",\"y\":\"pcr_SurfMoist\"},{\"font\":{\"color\":\"white\"},\"showarrow\":false,\"text\":\"0.53\",\"x\":\"meteo_rain\",\"y\":\"pcr_SurfMoist\"},{\"font\":{\"color\":\"black\"},\"showarrow\":false,\"text\":\"-0.42\",\"x\":\"meteo_tair\",\"y\":\"pcr_SurfMoist\"},{\"font\":{\"color\":\"black\"},\"showarrow\":false,\"text\":\"0.48\",\"x\":\"obs\",\"y\":\"pcr_SurfMoist\"},{\"font\":{\"color\":\"black\"},\"showarrow\":false,\"text\":\"0.10\",\"x\":\"pcr_SWE\",\"y\":\"pcr_SurfMoist\"},{\"font\":{\"color\":\"white\"},\"showarrow\":false,\"text\":\"1.00\",\"x\":\"pcr_SurfMoist\",\"y\":\"pcr_SurfMoist\"},{\"font\":{\"color\":\"black\"},\"showarrow\":false,\"text\":\"0.39\",\"x\":\"pcr_SurfStor\",\"y\":\"pcr_SurfMoist\"},{\"font\":{\"color\":\"black\"},\"showarrow\":false,\"text\":\"0.43\",\"x\":\"pcr_dis\",\"y\":\"pcr_SurfMoist\"},{\"font\":{\"color\":\"white\"},\"showarrow\":false,\"text\":\"0.54\",\"x\":\"wg3_RootMoist\",\"y\":\"pcr_SurfMoist\"},{\"font\":{\"color\":\"black\"},\"showarrow\":false,\"text\":\"0.10\",\"x\":\"wg3_SWE\",\"y\":\"pcr_SurfMoist\"},{\"font\":{\"color\":\"black\"},\"showarrow\":false,\"text\":\"0.45\",\"x\":\"wg3_SurfStor\",\"y\":\"pcr_SurfMoist\"},{\"font\":{\"color\":\"white\"},\"showarrow\":false,\"text\":\"0.62\",\"x\":\"wg3_dis\",\"y\":\"pcr_SurfMoist\"},{\"font\":{\"color\":\"black\"},\"showarrow\":false,\"text\":\"0.05\",\"x\":\"lis_SWE\",\"y\":\"pcr_SurfStor\"},{\"font\":{\"color\":\"black\"},\"showarrow\":false,\"text\":\"0.38\",\"x\":\"lis_SurfMoist\",\"y\":\"pcr_SurfStor\"},{\"font\":{\"color\":\"white\"},\"showarrow\":false,\"text\":\"0.82\",\"x\":\"lis_dis\",\"y\":\"pcr_SurfStor\"},{\"font\":{\"color\":\"black\"},\"showarrow\":false,\"text\":\"0.33\",\"x\":\"meteo_rain\",\"y\":\"pcr_SurfStor\"},{\"font\":{\"color\":\"black\"},\"showarrow\":false,\"text\":\"-0.02\",\"x\":\"meteo_tair\",\"y\":\"pcr_SurfStor\"},{\"font\":{\"color\":\"white\"},\"showarrow\":false,\"text\":\"0.75\",\"x\":\"obs\",\"y\":\"pcr_SurfStor\"},{\"font\":{\"color\":\"black\"},\"showarrow\":false,\"text\":\"0.06\",\"x\":\"pcr_SWE\",\"y\":\"pcr_SurfStor\"},{\"font\":{\"color\":\"black\"},\"showarrow\":false,\"text\":\"0.39\",\"x\":\"pcr_SurfMoist\",\"y\":\"pcr_SurfStor\"},{\"font\":{\"color\":\"white\"},\"showarrow\":false,\"text\":\"1.00\",\"x\":\"pcr_SurfStor\",\"y\":\"pcr_SurfStor\"},{\"font\":{\"color\":\"white\"},\"showarrow\":false,\"text\":\"0.94\",\"x\":\"pcr_dis\",\"y\":\"pcr_SurfStor\"},{\"font\":{\"color\":\"black\"},\"showarrow\":false,\"text\":\"0.26\",\"x\":\"wg3_RootMoist\",\"y\":\"pcr_SurfStor\"},{\"font\":{\"color\":\"black\"},\"showarrow\":false,\"text\":\"0.06\",\"x\":\"wg3_SWE\",\"y\":\"pcr_SurfStor\"},{\"font\":{\"color\":\"white\"},\"showarrow\":false,\"text\":\"0.65\",\"x\":\"wg3_SurfStor\",\"y\":\"pcr_SurfStor\"},{\"font\":{\"color\":\"white\"},\"showarrow\":false,\"text\":\"0.73\",\"x\":\"wg3_dis\",\"y\":\"pcr_SurfStor\"},{\"font\":{\"color\":\"black\"},\"showarrow\":false,\"text\":\"0.08\",\"x\":\"lis_SWE\",\"y\":\"pcr_dis\"},{\"font\":{\"color\":\"black\"},\"showarrow\":false,\"text\":\"0.46\",\"x\":\"lis_SurfMoist\",\"y\":\"pcr_dis\"},{\"font\":{\"color\":\"white\"},\"showarrow\":false,\"text\":\"0.86\",\"x\":\"lis_dis\",\"y\":\"pcr_dis\"},{\"font\":{\"color\":\"black\"},\"showarrow\":false,\"text\":\"0.34\",\"x\":\"meteo_rain\",\"y\":\"pcr_dis\"},{\"font\":{\"color\":\"black\"},\"showarrow\":false,\"text\":\"-0.06\",\"x\":\"meteo_tair\",\"y\":\"pcr_dis\"},{\"font\":{\"color\":\"white\"},\"showarrow\":false,\"text\":\"0.80\",\"x\":\"obs\",\"y\":\"pcr_dis\"},{\"font\":{\"color\":\"black\"},\"showarrow\":false,\"text\":\"0.07\",\"x\":\"pcr_SWE\",\"y\":\"pcr_dis\"},{\"font\":{\"color\":\"black\"},\"showarrow\":false,\"text\":\"0.43\",\"x\":\"pcr_SurfMoist\",\"y\":\"pcr_dis\"},{\"font\":{\"color\":\"white\"},\"showarrow\":false,\"text\":\"0.94\",\"x\":\"pcr_SurfStor\",\"y\":\"pcr_dis\"},{\"font\":{\"color\":\"white\"},\"showarrow\":false,\"text\":\"1.00\",\"x\":\"pcr_dis\",\"y\":\"pcr_dis\"},{\"font\":{\"color\":\"black\"},\"showarrow\":false,\"text\":\"0.32\",\"x\":\"wg3_RootMoist\",\"y\":\"pcr_dis\"},{\"font\":{\"color\":\"black\"},\"showarrow\":false,\"text\":\"0.07\",\"x\":\"wg3_SWE\",\"y\":\"pcr_dis\"},{\"font\":{\"color\":\"white\"},\"showarrow\":false,\"text\":\"0.74\",\"x\":\"wg3_SurfStor\",\"y\":\"pcr_dis\"},{\"font\":{\"color\":\"white\"},\"showarrow\":false,\"text\":\"0.80\",\"x\":\"wg3_dis\",\"y\":\"pcr_dis\"},{\"font\":{\"color\":\"black\"},\"showarrow\":false,\"text\":\"0.38\",\"x\":\"lis_SWE\",\"y\":\"wg3_RootMoist\"},{\"font\":{\"color\":\"white\"},\"showarrow\":false,\"text\":\"0.91\",\"x\":\"lis_SurfMoist\",\"y\":\"wg3_RootMoist\"},{\"font\":{\"color\":\"black\"},\"showarrow\":false,\"text\":\"0.24\",\"x\":\"lis_dis\",\"y\":\"wg3_RootMoist\"},{\"font\":{\"color\":\"black\"},\"showarrow\":false,\"text\":\"-0.16\",\"x\":\"meteo_rain\",\"y\":\"wg3_RootMoist\"},{\"font\":{\"color\":\"black\"},\"showarrow\":false,\"text\":\"-0.87\",\"x\":\"meteo_tair\",\"y\":\"wg3_RootMoist\"},{\"font\":{\"color\":\"black\"},\"showarrow\":false,\"text\":\"0.44\",\"x\":\"obs\",\"y\":\"wg3_RootMoist\"},{\"font\":{\"color\":\"black\"},\"showarrow\":false,\"text\":\"0.31\",\"x\":\"pcr_SWE\",\"y\":\"wg3_RootMoist\"},{\"font\":{\"color\":\"white\"},\"showarrow\":false,\"text\":\"0.54\",\"x\":\"pcr_SurfMoist\",\"y\":\"wg3_RootMoist\"},{\"font\":{\"color\":\"black\"},\"showarrow\":false,\"text\":\"0.26\",\"x\":\"pcr_SurfStor\",\"y\":\"wg3_RootMoist\"},{\"font\":{\"color\":\"black\"},\"showarrow\":false,\"text\":\"0.32\",\"x\":\"pcr_dis\",\"y\":\"wg3_RootMoist\"},{\"font\":{\"color\":\"white\"},\"showarrow\":false,\"text\":\"1.00\",\"x\":\"wg3_RootMoist\",\"y\":\"wg3_RootMoist\"},{\"font\":{\"color\":\"black\"},\"showarrow\":false,\"text\":\"0.33\",\"x\":\"wg3_SWE\",\"y\":\"wg3_RootMoist\"},{\"font\":{\"color\":\"white\"},\"showarrow\":false,\"text\":\"0.53\",\"x\":\"wg3_SurfStor\",\"y\":\"wg3_RootMoist\"},{\"font\":{\"color\":\"white\"},\"showarrow\":false,\"text\":\"0.53\",\"x\":\"wg3_dis\",\"y\":\"wg3_RootMoist\"},{\"font\":{\"color\":\"white\"},\"showarrow\":false,\"text\":\"0.93\",\"x\":\"lis_SWE\",\"y\":\"wg3_SWE\"},{\"font\":{\"color\":\"black\"},\"showarrow\":false,\"text\":\"0.28\",\"x\":\"lis_SurfMoist\",\"y\":\"wg3_SWE\"},{\"font\":{\"color\":\"black\"},\"showarrow\":false,\"text\":\"0.03\",\"x\":\"lis_dis\",\"y\":\"wg3_SWE\"},{\"font\":{\"color\":\"black\"},\"showarrow\":false,\"text\":\"-0.24\",\"x\":\"meteo_rain\",\"y\":\"wg3_SWE\"},{\"font\":{\"color\":\"black\"},\"showarrow\":false,\"text\":\"-0.43\",\"x\":\"meteo_tair\",\"y\":\"wg3_SWE\"},{\"font\":{\"color\":\"black\"},\"showarrow\":false,\"text\":\"0.12\",\"x\":\"obs\",\"y\":\"wg3_SWE\"},{\"font\":{\"color\":\"white\"},\"showarrow\":false,\"text\":\"0.99\",\"x\":\"pcr_SWE\",\"y\":\"wg3_SWE\"},{\"font\":{\"color\":\"black\"},\"showarrow\":false,\"text\":\"0.10\",\"x\":\"pcr_SurfMoist\",\"y\":\"wg3_SWE\"},{\"font\":{\"color\":\"black\"},\"showarrow\":false,\"text\":\"0.06\",\"x\":\"pcr_SurfStor\",\"y\":\"wg3_SWE\"},{\"font\":{\"color\":\"black\"},\"showarrow\":false,\"text\":\"0.07\",\"x\":\"pcr_dis\",\"y\":\"wg3_SWE\"},{\"font\":{\"color\":\"black\"},\"showarrow\":false,\"text\":\"0.33\",\"x\":\"wg3_RootMoist\",\"y\":\"wg3_SWE\"},{\"font\":{\"color\":\"white\"},\"showarrow\":false,\"text\":\"1.00\",\"x\":\"wg3_SWE\",\"y\":\"wg3_SWE\"},{\"font\":{\"color\":\"black\"},\"showarrow\":false,\"text\":\"0.14\",\"x\":\"wg3_SurfStor\",\"y\":\"wg3_SWE\"},{\"font\":{\"color\":\"black\"},\"showarrow\":false,\"text\":\"0.14\",\"x\":\"wg3_dis\",\"y\":\"wg3_SWE\"},{\"font\":{\"color\":\"black\"},\"showarrow\":false,\"text\":\"0.18\",\"x\":\"lis_SWE\",\"y\":\"wg3_SurfStor\"},{\"font\":{\"color\":\"white\"},\"showarrow\":false,\"text\":\"0.64\",\"x\":\"lis_SurfMoist\",\"y\":\"wg3_SurfStor\"},{\"font\":{\"color\":\"white\"},\"showarrow\":false,\"text\":\"0.74\",\"x\":\"lis_dis\",\"y\":\"wg3_SurfStor\"},{\"font\":{\"color\":\"black\"},\"showarrow\":false,\"text\":\"0.25\",\"x\":\"meteo_rain\",\"y\":\"wg3_SurfStor\"},{\"font\":{\"color\":\"black\"},\"showarrow\":false,\"text\":\"-0.29\",\"x\":\"meteo_tair\",\"y\":\"wg3_SurfStor\"},{\"font\":{\"color\":\"white\"},\"showarrow\":false,\"text\":\"0.75\",\"x\":\"obs\",\"y\":\"wg3_SurfStor\"},{\"font\":{\"color\":\"black\"},\"showarrow\":false,\"text\":\"0.14\",\"x\":\"pcr_SWE\",\"y\":\"wg3_SurfStor\"},{\"font\":{\"color\":\"black\"},\"showarrow\":false,\"text\":\"0.45\",\"x\":\"pcr_SurfMoist\",\"y\":\"wg3_SurfStor\"},{\"font\":{\"color\":\"white\"},\"showarrow\":false,\"text\":\"0.65\",\"x\":\"pcr_SurfStor\",\"y\":\"wg3_SurfStor\"},{\"font\":{\"color\":\"white\"},\"showarrow\":false,\"text\":\"0.74\",\"x\":\"pcr_dis\",\"y\":\"wg3_SurfStor\"},{\"font\":{\"color\":\"white\"},\"showarrow\":false,\"text\":\"0.53\",\"x\":\"wg3_RootMoist\",\"y\":\"wg3_SurfStor\"},{\"font\":{\"color\":\"black\"},\"showarrow\":false,\"text\":\"0.14\",\"x\":\"wg3_SWE\",\"y\":\"wg3_SurfStor\"},{\"font\":{\"color\":\"white\"},\"showarrow\":false,\"text\":\"1.00\",\"x\":\"wg3_SurfStor\",\"y\":\"wg3_SurfStor\"},{\"font\":{\"color\":\"white\"},\"showarrow\":false,\"text\":\"0.84\",\"x\":\"wg3_dis\",\"y\":\"wg3_SurfStor\"},{\"font\":{\"color\":\"black\"},\"showarrow\":false,\"text\":\"0.18\",\"x\":\"lis_SWE\",\"y\":\"wg3_dis\"},{\"font\":{\"color\":\"white\"},\"showarrow\":false,\"text\":\"0.58\",\"x\":\"lis_SurfMoist\",\"y\":\"wg3_dis\"},{\"font\":{\"color\":\"white\"},\"showarrow\":false,\"text\":\"0.80\",\"x\":\"lis_dis\",\"y\":\"wg3_dis\"},{\"font\":{\"color\":\"black\"},\"showarrow\":false,\"text\":\"0.33\",\"x\":\"meteo_rain\",\"y\":\"wg3_dis\"},{\"font\":{\"color\":\"black\"},\"showarrow\":false,\"text\":\"-0.33\",\"x\":\"meteo_tair\",\"y\":\"wg3_dis\"},{\"font\":{\"color\":\"white\"},\"showarrow\":false,\"text\":\"0.85\",\"x\":\"obs\",\"y\":\"wg3_dis\"},{\"font\":{\"color\":\"black\"},\"showarrow\":false,\"text\":\"0.15\",\"x\":\"pcr_SWE\",\"y\":\"wg3_dis\"},{\"font\":{\"color\":\"white\"},\"showarrow\":false,\"text\":\"0.62\",\"x\":\"pcr_SurfMoist\",\"y\":\"wg3_dis\"},{\"font\":{\"color\":\"white\"},\"showarrow\":false,\"text\":\"0.73\",\"x\":\"pcr_SurfStor\",\"y\":\"wg3_dis\"},{\"font\":{\"color\":\"white\"},\"showarrow\":false,\"text\":\"0.80\",\"x\":\"pcr_dis\",\"y\":\"wg3_dis\"},{\"font\":{\"color\":\"white\"},\"showarrow\":false,\"text\":\"0.53\",\"x\":\"wg3_RootMoist\",\"y\":\"wg3_dis\"},{\"font\":{\"color\":\"black\"},\"showarrow\":false,\"text\":\"0.14\",\"x\":\"wg3_SWE\",\"y\":\"wg3_dis\"},{\"font\":{\"color\":\"white\"},\"showarrow\":false,\"text\":\"0.84\",\"x\":\"wg3_SurfStor\",\"y\":\"wg3_dis\"},{\"font\":{\"color\":\"white\"},\"showarrow\":false,\"text\":\"1.00\",\"x\":\"wg3_dis\",\"y\":\"wg3_dis\"}],\"title\":{\"text\":\"Mean Correlation Heatmap\"},\"xaxis\":{\"title\":{\"text\":\"Variable\"}},\"yaxis\":{\"title\":{\"text\":\"Variable\"}},\"width\":800,\"height\":600},                        {\"responsive\": true}                    ).then(function(){\n",
       "                            \n",
       "var gd = document.getElementById('81df9d13-8885-4c60-a1cf-9f25eea7ab88');\n",
       "var x = new MutationObserver(function (mutations, observer) {{\n",
       "        var display = window.getComputedStyle(gd).display;\n",
       "        if (!display || display === 'none') {{\n",
       "            console.log([gd, 'removed!']);\n",
       "            Plotly.purge(gd);\n",
       "            observer.disconnect();\n",
       "        }}\n",
       "}});\n",
       "\n",
       "// Listen for the removal of the full notebook cells\n",
       "var notebookContainer = gd.closest('#notebook-container');\n",
       "if (notebookContainer) {{\n",
       "    x.observe(notebookContainer, {childList: true});\n",
       "}}\n",
       "\n",
       "// Listen for the clearing of the current output cell\n",
       "var outputEl = gd.closest('.output');\n",
       "if (outputEl) {{\n",
       "    x.observe(outputEl, {childList: true});\n",
       "}}\n",
       "\n",
       "                        })                };                });            </script>        </div>"
      ]
     },
     "metadata": {},
     "output_type": "display_data"
    }
   ],
   "source": [
    "# Create heatmap figure\n",
    "fig = go.Figure(data=go.Heatmap(\n",
    "    z=grouped_correlation.values,\n",
    "    x=grouped_correlation.columns,\n",
    "    y=grouped_correlation.index,\n",
    "    colorscale='Viridis',\n",
    "    colorbar=dict(title='Correlation')))\n",
    "\n",
    "# Add text annotations for correlation values\n",
    "for i, row in enumerate(grouped_correlation.values):\n",
    "    for j, value in enumerate(row):\n",
    "        fig.add_annotation(\n",
    "            x=grouped_correlation.columns[j],\n",
    "            y=grouped_correlation.index[i],\n",
    "            text=f'{value:.2f}',  # Format correlation value as a number with two decimal places\n",
    "            showarrow=False,\n",
    "            font=dict(color='white' if value > 0.5 else 'black'))  # Adjust font color based on value\n",
    "\n",
    "# Update layout\n",
    "fig.update_layout(\n",
    "    title='Mean Correlation Heatmap',\n",
    "    xaxis=dict(title='Variable'),\n",
    "    yaxis=dict(title='Variable'),\n",
    "    width=800,\n",
    "    height=600)\n",
    "\n",
    "# Display the heatmap\n",
    "fig.show()\n"
   ]
  },
  {
   "cell_type": "code",
   "execution_count": 16,
   "id": "c9239d99-3b20-4cb2-bca6-15bece1dd014",
   "metadata": {},
   "outputs": [
    {
     "data": {
      "text/html": [
       "<div>\n",
       "<style scoped>\n",
       "    .dataframe tbody tr th:only-of-type {\n",
       "        vertical-align: middle;\n",
       "    }\n",
       "\n",
       "    .dataframe tbody tr th {\n",
       "        vertical-align: top;\n",
       "    }\n",
       "\n",
       "    .dataframe thead th {\n",
       "        text-align: right;\n",
       "    }\n",
       "</style>\n",
       "<table border=\"1\" class=\"dataframe\">\n",
       "  <thead>\n",
       "    <tr style=\"text-align: right;\">\n",
       "      <th></th>\n",
       "      <th>Variable</th>\n",
       "      <th>Mean Correlation</th>\n",
       "    </tr>\n",
       "  </thead>\n",
       "  <tbody>\n",
       "    <tr>\n",
       "      <th>wg3_dis</th>\n",
       "      <td>wg3_dis</td>\n",
       "      <td>0.515341</td>\n",
       "    </tr>\n",
       "    <tr>\n",
       "      <th>obs</th>\n",
       "      <td>obs</td>\n",
       "      <td>0.490717</td>\n",
       "    </tr>\n",
       "    <tr>\n",
       "      <th>pcr_dis</th>\n",
       "      <td>pcr_dis</td>\n",
       "      <td>0.489333</td>\n",
       "    </tr>\n",
       "    <tr>\n",
       "      <th>wg3_SurfStor</th>\n",
       "      <td>wg3_SurfStor</td>\n",
       "      <td>0.483781</td>\n",
       "    </tr>\n",
       "    <tr>\n",
       "      <th>lis_dis</th>\n",
       "      <td>lis_dis</td>\n",
       "      <td>0.460735</td>\n",
       "    </tr>\n",
       "    <tr>\n",
       "      <th>pcr_SurfStor</th>\n",
       "      <td>pcr_SurfStor</td>\n",
       "      <td>0.457223</td>\n",
       "    </tr>\n",
       "    <tr>\n",
       "      <th>lis_SurfMoist</th>\n",
       "      <td>lis_SurfMoist</td>\n",
       "      <td>0.384774</td>\n",
       "    </tr>\n",
       "    <tr>\n",
       "      <th>pcr_SurfMoist</th>\n",
       "      <td>pcr_SurfMoist</td>\n",
       "      <td>0.364209</td>\n",
       "    </tr>\n",
       "    <tr>\n",
       "      <th>wg3_RootMoist</th>\n",
       "      <td>wg3_RootMoist</td>\n",
       "      <td>0.340981</td>\n",
       "    </tr>\n",
       "    <tr>\n",
       "      <th>lis_SWE</th>\n",
       "      <td>lis_SWE</td>\n",
       "      <td>0.260898</td>\n",
       "    </tr>\n",
       "    <tr>\n",
       "      <th>pcr_SWE</th>\n",
       "      <td>pcr_SWE</td>\n",
       "      <td>0.253225</td>\n",
       "    </tr>\n",
       "    <tr>\n",
       "      <th>wg3_SWE</th>\n",
       "      <td>wg3_SWE</td>\n",
       "      <td>0.251480</td>\n",
       "    </tr>\n",
       "    <tr>\n",
       "      <th>meteo_rain</th>\n",
       "      <td>meteo_rain</td>\n",
       "      <td>0.192147</td>\n",
       "    </tr>\n",
       "    <tr>\n",
       "      <th>meteo_tair</th>\n",
       "      <td>meteo_tair</td>\n",
       "      <td>-0.207964</td>\n",
       "    </tr>\n",
       "  </tbody>\n",
       "</table>\n",
       "</div>"
      ],
      "text/plain": [
       "                    Variable  Mean Correlation\n",
       "wg3_dis              wg3_dis          0.515341\n",
       "obs                      obs          0.490717\n",
       "pcr_dis              pcr_dis          0.489333\n",
       "wg3_SurfStor    wg3_SurfStor          0.483781\n",
       "lis_dis              lis_dis          0.460735\n",
       "pcr_SurfStor    pcr_SurfStor          0.457223\n",
       "lis_SurfMoist  lis_SurfMoist          0.384774\n",
       "pcr_SurfMoist  pcr_SurfMoist          0.364209\n",
       "wg3_RootMoist  wg3_RootMoist          0.340981\n",
       "lis_SWE              lis_SWE          0.260898\n",
       "pcr_SWE              pcr_SWE          0.253225\n",
       "wg3_SWE              wg3_SWE          0.251480\n",
       "meteo_rain        meteo_rain          0.192147\n",
       "meteo_tair        meteo_tair         -0.207964"
      ]
     },
     "execution_count": 16,
     "metadata": {},
     "output_type": "execute_result"
    }
   ],
   "source": [
    "# Plot the correlation heatmap\n",
    "plt.figure(figsize=(10, 8))\n",
    "sns.heatmap(correlation_matrix, cmap='coolwarm', annot=True, fmt=\".2f\", linewidths=0.5)\n",
    "plt.title('Variable Correlations')\n",
    "plt.show()"
   ]
  }
 ],
 "metadata": {
  "kernelspec": {
   "display_name": "Python 3 (ipykernel)",
   "language": "python",
   "name": "python3"
  },
  "language_info": {
   "codemirror_mode": {
    "name": "ipython",
    "version": 3
   },
   "file_extension": ".py",
   "mimetype": "text/x-python",
   "name": "python",
   "nbconvert_exporter": "python",
   "pygments_lexer": "ipython3",
   "version": "3.11.3"
  }
 },
 "nbformat": 4,
 "nbformat_minor": 5
}
