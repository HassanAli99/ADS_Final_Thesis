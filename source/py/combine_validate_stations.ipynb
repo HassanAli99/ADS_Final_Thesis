{
 "cells": [
  {
   "cell_type": "code",
   "execution_count": 16,
   "id": "b2ed9c65-b0da-406a-a3c3-e3dc26f6c85b",
   "metadata": {},
   "outputs": [],
   "source": [
    "import pandas as pd\n",
    "import matplotlib.pyplot as plt\n",
    "import os\n",
    "import seaborn as sns\n",
    "import glob"
   ]
  },
  {
   "cell_type": "code",
   "execution_count": 47,
   "id": "d143a597-7c6c-457f-a3f7-42255778b6fe",
   "metadata": {},
   "outputs": [],
   "source": [
    "csv_file =  '../R/data/stations_rhine_elbe.csv'\n",
    "df_stations = pd.read_csv(csv_file)"
   ]
  },
  {
   "cell_type": "code",
   "execution_count": 22,
   "id": "3c58d5b7-4e2d-445a-88b4-19532b1c4f6e",
   "metadata": {},
   "outputs": [],
   "source": [
    "data_setup = \"Elbe\"\n",
    "folder = f\"../R/RF_output/validate/{data_setup}\"\n",
    "setup= [\"all_dis\", \"all_dis_meteo\", \"allpredictors\"]"
   ]
  },
  {
   "cell_type": "code",
   "execution_count": 56,
   "id": "48b60c4f-a697-498a-8a47-8ce721138baf",
   "metadata": {},
   "outputs": [],
   "source": [
    "folder_list = glob.glob(os.path.join(folder, \"*.csv\"))\n",
    "\n",
    "for path in folder_list:\n",
    "    filename = os.path.split(path)[1][4:-3]\n",
    "    df1 = pd.read_csv(path)\n",
    "    \n",
    "    df_merged = pd.merge(df_stations, df1, on=['grdc_no'])\n",
    "\n",
    "  "
   ]
  },
  {
   "cell_type": "code",
   "execution_count": null,
   "id": "6c9140e4-8ece-4a04-ae29-377d6c83f510",
   "metadata": {},
   "outputs": [],
   "source": [
    "file = f'{folder}{data_setup}/KGE_{setup[i]}"
   ]
  },
  {
   "cell_type": "code",
   "execution_count": 50,
   "id": "adad5fe6-0e55-491a-a021-2660e78f8615",
   "metadata": {},
   "outputs": [
    {
     "data": {
      "text/plain": [
       "Index(['grdc_no', 'KGE', 'KGE_pcr', 'KGE_lis', 'KGE_wg3', 'KGE_corrected',\n",
       "       'KGE_r', 'KGE_alpha', 'KGE_beta', 'KGE_r_pcr', 'KGE_alpha_pcr',\n",
       "       'KGE_beta_pcr', 'KGE_r_wg3', 'KGE_alpha_wg3', 'KGE_beta_wg3',\n",
       "       'KGE_r_lis', 'KGE_alpha_lis', 'KGE_beta_lis', 'KGE_r_corrected',\n",
       "       'KGE_alpha_corrected', 'KGE_beta_corrected', 'NSE', 'NSE_corrected',\n",
       "       'RMSE', 'RMSE_corrected', 'MAE', 'MAE_corrected', 'nRMSE',\n",
       "       'nRMSE_corrected', 'nMAE', 'nMAE_corrected'],\n",
       "      dtype='object')"
      ]
     },
     "execution_count": 50,
     "metadata": {},
     "output_type": "execute_result"
    }
   ],
   "source": [
    "df1.columns"
   ]
  },
  {
   "cell_type": "code",
   "execution_count": 59,
   "id": "96ef6841-200c-40de-9100-e9aeef6663c3",
   "metadata": {},
   "outputs": [],
   "source": [
    "df_merged.to_csv(\"df_merged.csv\")"
   ]
  },
  {
   "cell_type": "code",
   "execution_count": null,
   "id": "3d25611d-17a7-4beb-be63-89606a70ba40",
   "metadata": {},
   "outputs": [],
   "source": []
  }
 ],
 "metadata": {
  "kernelspec": {
   "display_name": "Python 3 (ipykernel)",
   "language": "python",
   "name": "python3"
  },
  "language_info": {
   "codemirror_mode": {
    "name": "ipython",
    "version": 3
   },
   "file_extension": ".py",
   "mimetype": "text/x-python",
   "name": "python",
   "nbconvert_exporter": "python",
   "pygments_lexer": "ipython3",
   "version": "3.11.3"
  }
 },
 "nbformat": 4,
 "nbformat_minor": 5
}
