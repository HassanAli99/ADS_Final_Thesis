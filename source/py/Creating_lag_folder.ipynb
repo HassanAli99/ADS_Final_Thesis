{
 "cells": [
  {
   "cell_type": "markdown",
   "metadata": {},
   "source": [
    "# Adding lagged variables\n",
    "\n",
    "Only necessary for precipitation, temperature, and referencePOT"
   ]
  },
  {
   "cell_type": "code",
   "execution_count": 13,
   "metadata": {
    "tags": []
   },
   "outputs": [],
   "source": [
    "import pandas as pd\n",
    "import numpy as np\n",
    "import matplotlib.pyplot as plt\n",
    "import os\n",
    "import glob\n",
    "import itertools"
   ]
  },
  {
   "cell_type": "code",
   "execution_count": 14,
   "metadata": {
    "tags": []
   },
   "outputs": [],
   "source": [
    "# lag 4 folder\n",
    "old_folder = '../R/data/allpredictors/'\n",
    "new_folder = '../R/data/allpredictors_pca/'\n",
    "\n",
    "# create a loop that will go through all the files in the folder and create lagged variables\n",
    "for filename in glob.glob(os.path.join(old_folder, '*.csv')):\n",
    "    df = pd.read_csv(filename)"
   ]
  },
  {
   "cell_type": "markdown",
   "metadata": {},
   "source": [
    "## reading all training tables"
   ]
  },
  {
   "cell_type": "code",
   "execution_count": 16,
   "metadata": {
    "tags": []
   },
   "outputs": [],
   "source": [
    "\n",
    "# create a loop that will go through all the files in the folder and create lagged variables\n",
    "for filename in glob.glob(os.path.join(old_folder, '*.csv')):\n",
    "    df = pd.read_csv(filename)\n",
    "    \n",
    "    df['meteo_rain_lag1'] = df['meteo_rain'].shift(1)\n",
    "    df['meteo_rain_lag2'] = df['meteo_rain'].shift(2)\n",
    "    df['meteo_rain_lag3'] = df['meteo_rain'].shift(3)\n",
    "    df['meteo_rain_lag4'] = df['meteo_rain'].shift(4)\n",
    "    df['meteo_rain_lag5'] = df['meteo_rain'].shift(5)\n",
    "    df['meteo_rain_lag6'] = df['meteo_rain'].shift(6)\n",
    "\n",
    "\n",
    "\n",
    "    df['meteo_tair_lag1'] = df['meteo_tair'].shift(1)\n",
    "    df['meteo_tair_lag2'] = df['meteo_tair'].shift(2)\n",
    "    df['meteo_tair_lag3'] = df['meteo_tair'].shift(3)\n",
    "    df['meteo_tair_lag4'] = df['meteo_tair'].shift(4)\n",
    "    df['meteo_tair_lag5'] = df['meteo_tair'].shift(5)\n",
    "    df['meteo_tair_lag6'] = df['meteo_tair'].shift(6)\n",
    "\n",
    "    \n",
    "    # delete first 5 rows because of lagged variables\n",
    "    df = df.iloc[6:]\n",
    "    \n",
    "    # save file\n",
    "    df.to_csv(new_folder + filename[-25:], index=False)"
   ]
  },
  {
   "cell_type": "code",
   "execution_count": 23,
   "metadata": {},
   "outputs": [],
   "source": [
    "# lag 8 folder\n",
    "old_folder='/Users/thijskalshoven/Documents/UU_data_science/6_THESIS_Streamflow_predictions/Data/GitHub/Magni-PCR-GLOBWB-RF-NEW/source/data/predictors/pcr_allpredictors_ALL_low/'\n",
    "new_folder='/Users/thijskalshoven/Documents/UU_data_science/6_THESIS_Streamflow_predictions/Data/GitHub/Magni-PCR-GLOBWB-RF-NEW/source/data/predictors/pcr_allpredictors_low_lag8/'\n",
    "\n",
    "# create a loop that will go through all the files in the folder and create lagged variables\n",
    "for filename in glob.glob(os.path.join(old_folder, '*.csv')):\n",
    "    df = pd.read_csv(filename)\n",
    "    df['precipitation_lag1'] = df['precipitation'].shift(1)\n",
    "    df['precipitation_lag2'] = df['precipitation'].shift(2)\n",
    "    df['precipitation_lag3'] = df['precipitation'].shift(3)\n",
    "    df['precipitation_lag4'] = df['precipitation'].shift(4)\n",
    "    df['precipitation_lag5'] = df['precipitation'].shift(5)\n",
    "    df['precipitation_lag6'] = df['precipitation'].shift(6)\n",
    "    df['precipitation_lag7'] = df['precipitation'].shift(7)\n",
    "    df['precipitation_lag8'] = df['precipitation'].shift(8)\n",
    "\n",
    "    df['referencePotET_lag1'] = df['referencePotET'].shift(1)\n",
    "    df['referencePotET_lag2'] = df['referencePotET'].shift(2)\n",
    "    df['referencePotET_lag3'] = df['referencePotET'].shift(3)\n",
    "    df['referencePotET_lag4'] = df['referencePotET'].shift(4)\n",
    "    df['referencePotET_lag5'] = df['referencePotET'].shift(5)\n",
    "    df['referencePotET_lag6'] = df['referencePotET'].shift(6)\n",
    "    df['referencePotET_lag7'] = df['referencePotET'].shift(7)\n",
    "    df['referencePotET_lag8'] = df['referencePotET'].shift(8)\n",
    "\n",
    "    df['temperature_lag1'] = df['temperature'].shift(1)\n",
    "    df['temperature_lag2'] = df['temperature'].shift(2)\n",
    "    df['temperature_lag3'] = df['temperature'].shift(3)\n",
    "    df['temperature_lag4'] = df['temperature'].shift(4)\n",
    "    df['temperature_lag5'] = df['temperature'].shift(5)\n",
    "    df['temperature_lag6'] = df['temperature'].shift(6)\n",
    "    df['temperature_lag7'] = df['temperature'].shift(7)\n",
    "    df['temperature_lag8'] = df['temperature'].shift(8)\n",
    "    \n",
    "    # delete first 9 rows because of lagged variables\n",
    "    df = df.iloc[9:]\n",
    "\n",
    "    # save file\n",
    "    df.to_csv(new_folder + filename[-29:], index=False)"
   ]
  },
  {
   "cell_type": "code",
   "execution_count": 24,
   "metadata": {},
   "outputs": [],
   "source": [
    "# lag 12 folder\n",
    "old_folder='/Users/thijskalshoven/Documents/UU_data_science/6_THESIS_Streamflow_predictions/Data/GitHub/Magni-PCR-GLOBWB-RF-NEW/source/data/predictors/pcr_allpredictors_ALL_low/'\n",
    "new_folder='/Users/thijskalshoven/Documents/UU_data_science/6_THESIS_Streamflow_predictions/Data/GitHub/Magni-PCR-GLOBWB-RF-NEW/source/data/predictors/pcr_allpredictors_low_lag12/'\n",
    "\n",
    "# create a loop that will go through all the files in the folder and create lagged variables\n",
    "for filename in glob.glob(os.path.join(old_folder, '*.csv')):\n",
    "    df = pd.read_csv(filename)\n",
    "    df['precipitation_lag1'] = df['precipitation'].shift(1)\n",
    "    df['precipitation_lag2'] = df['precipitation'].shift(2)\n",
    "    df['precipitation_lag3'] = df['precipitation'].shift(3)\n",
    "    df['precipitation_lag4'] = df['precipitation'].shift(4)\n",
    "    df['precipitation_lag5'] = df['precipitation'].shift(5)\n",
    "    df['precipitation_lag6'] = df['precipitation'].shift(6)\n",
    "    df['precipitation_lag7'] = df['precipitation'].shift(7)\n",
    "    df['precipitation_lag8'] = df['precipitation'].shift(8)\n",
    "    df['precipitation_lag9'] = df['precipitation'].shift(9)\n",
    "    df['precipitation_lag10'] = df['precipitation'].shift(10)\n",
    "    df['precipitation_lag11'] = df['precipitation'].shift(11)\n",
    "    df['precipitation_lag12'] = df['precipitation'].shift(12)\n",
    "\n",
    "    df['referencePotET_lag1'] = df['referencePotET'].shift(1)\n",
    "    df['referencePotET_lag2'] = df['referencePotET'].shift(2)\n",
    "    df['referencePotET_lag3'] = df['referencePotET'].shift(3)\n",
    "    df['referencePotET_lag4'] = df['referencePotET'].shift(4)\n",
    "    df['referencePotET_lag5'] = df['referencePotET'].shift(5)\n",
    "    df['referencePotET_lag6'] = df['referencePotET'].shift(6)\n",
    "    df['referencePotET_lag7'] = df['referencePotET'].shift(7)\n",
    "    df['referencePotET_lag8'] = df['referencePotET'].shift(8)\n",
    "    df['referencePotET_lag9'] = df['referencePotET'].shift(9)\n",
    "    df['referencePotET_lag10'] = df['referencePotET'].shift(10)\n",
    "    df['referencePotET_lag11'] = df['referencePotET'].shift(11)\n",
    "    df['referencePotET_lag12'] = df['referencePotET'].shift(12)\n",
    "\n",
    "    df['temperature_lag1'] = df['temperature'].shift(1)\n",
    "    df['temperature_lag2'] = df['temperature'].shift(2)\n",
    "    df['temperature_lag3'] = df['temperature'].shift(3)\n",
    "    df['temperature_lag4'] = df['temperature'].shift(4)\n",
    "    df['temperature_lag5'] = df['temperature'].shift(5)\n",
    "    df['temperature_lag6'] = df['temperature'].shift(6)\n",
    "    df['temperature_lag7'] = df['temperature'].shift(7)\n",
    "    df['temperature_lag8'] = df['temperature'].shift(8)\n",
    "    df['temperature_lag9'] = df['temperature'].shift(9)\n",
    "    df['temperature_lag10'] = df['temperature'].shift(10)\n",
    "    df['temperature_lag11'] = df['temperature'].shift(11)\n",
    "    df['temperature_lag12'] = df['temperature'].shift(12)\n",
    "\n",
    "    # delete first 13 rows because of lagged variables\n",
    "    df = df.iloc[13:]\n",
    "\n",
    "    # save file\n",
    "    df.to_csv(new_folder + filename[-29:], index=False)"
   ]
  }
 ],
 "metadata": {
  "kernelspec": {
   "display_name": "Python 3 (ipykernel)",
   "language": "python",
   "name": "python3"
  },
  "language_info": {
   "codemirror_mode": {
    "name": "ipython",
    "version": 3
   },
   "file_extension": ".py",
   "mimetype": "text/x-python",
   "name": "python",
   "nbconvert_exporter": "python",
   "pygments_lexer": "ipython3",
   "version": "3.11.3"
  }
 },
 "nbformat": 4,
 "nbformat_minor": 4
}
