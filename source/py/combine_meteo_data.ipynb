{
 "cells": [
  {
   "cell_type": "markdown",
   "id": "5bd53262-cd0a-49d0-8de6-de6cfa020b71",
   "metadata": {
    "tags": []
   },
   "source": [
    "# Read multiple netCDF files of the same variable and combine them\n",
    "This is done only for the meteorological variables which have been downloaded in two parts. The netcdf files containing daily"
   ]
  },
  {
   "cell_type": "markdown",
   "id": "9cbd4f68-d962-478c-a39a-e59843d05073",
   "metadata": {},
   "source": [
    "## Importing the packages"
   ]
  },
  {
   "cell_type": "code",
   "execution_count": 1,
   "id": "5f38dbb3-aa52-4cc4-b462-41843f48c454",
   "metadata": {
    "tags": []
   },
   "outputs": [],
   "source": [
    "# Import packages\n",
    "from os.path import join as pjoin\n",
    "from scipy.io import netcdf\n",
    "import numpy as np\n",
    "import os\n",
    "\n",
    "import cartopy.feature as cfeature\n",
    "import cartopy.crs as ccrs\n",
    "\n",
    "import matplotlib.pyplot as plt\n",
    "import xarray as xr\n",
    "# Any import of metpy will activate the accessors\n",
    "from metpy.cbook import get_test_data\n",
    "import pandas as pd"
   ]
  },
  {
   "cell_type": "markdown",
   "id": "d77694fd-9ba9-469b-8435-92d49ac0e59b",
   "metadata": {
    "tags": []
   },
   "source": [
    "## Set the directory and read the netCDF file"
   ]
  },
  {
   "cell_type": "code",
   "execution_count": 2,
   "id": "39136349-b492-4916-b1c0-a05fef3a944b",
   "metadata": {},
   "outputs": [],
   "source": [
    "directory = 'data'\n",
    "os.chdir(directory)"
   ]
  },
  {
   "cell_type": "code",
   "execution_count": 23,
   "id": "0f45575b-8add-4228-bf61-5e0c1da1d974",
   "metadata": {},
   "outputs": [],
   "source": [
    "folder = \"meteo_daily\"\n",
    "output_folder = \"meteo\"\n",
    "file = \"rain\"\n",
    "\n",
    "\n",
    "path_nc_file1 = pjoin(folder, \"{}_daily_{}.nc\".format(file, 1))\n",
    "path_nc_file2 = pjoin(folder, \"{}_daily_{}.nc\".format(file, 2))"
   ]
  },
  {
   "cell_type": "code",
   "execution_count": 24,
   "id": "fe449f8d-2f6c-4431-b79e-f63efb187fed",
   "metadata": {},
   "outputs": [],
   "source": [
    "# read the first half of the ncdffile\n",
    "ds1 = xr.open_dataset(path_nc_file1)\n",
    "\n",
    "#Select the variable. In this case we have only one variable in  each nc file, so we select one.\n",
    "ds_variable1 = ds1[list(ds1.variables)[0]]\n",
    "\n",
    "\n",
    "# read the second half of the ncdffile\n",
    "ds2 = xr.open_dataset(path_nc_file2)\n",
    "ds_variable2 = ds2[list(ds2.variables)[0]]\n",
    "\n",
    "\n",
    "# Combine the two datasets along the time dimension\n",
    "combined_ds = xr.concat([ds_variable1, ds_variable2], dim='time')\n",
    "\n",
    "# Set the coordinate reference system (CRS)\n",
    "crs = \"EPSG:4326\"\n",
    "combined_ds = combined_ds.assign_attrs(crs=crs)\n",
    "\n",
    "\n",
    "# Remove duplicate dates and keep the first occurrence\n",
    "combined_ds = combined_ds.drop_duplicates('time', keep='first')\n",
    "\n",
    "#Convert it into df\n",
    "df_combined = combined_ds.to_dataframe()\n",
    "\n",
    "#Convert it into df\n",
    "df_combined = combined_ds.to_dataframe()\n",
    "\n",
    "\n",
    "# Reset the index of the DataFrame\n",
    "df = df_combined.reset_index()\n",
    "\n",
    "# Convert the 'time' column to a datetime object\n",
    "df['time'] = pd.to_datetime(df['time'])\n",
    "\n",
    "# Set 'time', 'lat', 'lon' as the DataFrame index\n",
    "df = df.set_index(['time', 'lat', 'lon'])\n",
    "\n",
    "# Resample the DataFrame to monthly frequency and calculate the mean\n",
    "df_monthly = df.groupby([pd.Grouper(freq='M', level='time'), 'lat', 'lon']).mean()\n",
    "\n",
    "# Reset the index of the monthly DataFrame\n",
    "df_monthly = df_monthly.reset_index()\n",
    "\n",
    "# Set 'time', 'lat', 'lon' as the DataFrame index\n",
    "df_monthly = df_monthly.set_index(['time', 'lat', 'lon'])\n",
    "da_monthly = df_monthly.to_xarray()\n",
    "#da_monthly = da_monthly[\"Tair\"]"
   ]
  },
  {
   "cell_type": "code",
   "execution_count": 25,
   "id": "e336a5f3-fdbc-4e6a-afec-36b9bf1986c5",
   "metadata": {},
   "outputs": [],
   "source": [
    "path_output_file = pjoin(output_folder, \"{}.nc\".format(file))\n",
    "# Save the combined dataset to a new NetCDF file\n",
    "da_monthly.to_netcdf(path_output_file)"
   ]
  }
 ],
 "metadata": {
  "kernelspec": {
   "display_name": "Python 3 (ipykernel)",
   "language": "python",
   "name": "python3"
  },
  "language_info": {
   "codemirror_mode": {
    "name": "ipython",
    "version": 3
   },
   "file_extension": ".py",
   "mimetype": "text/x-python",
   "name": "python",
   "nbconvert_exporter": "python",
   "pygments_lexer": "ipython3",
   "version": "3.11.3"
  }
 },
 "nbformat": 4,
 "nbformat_minor": 5
}
