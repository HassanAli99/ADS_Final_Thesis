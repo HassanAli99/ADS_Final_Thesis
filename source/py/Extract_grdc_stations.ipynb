{
 "cells": [
  {
   "cell_type": "code",
   "execution_count": 1,
   "id": "5497e970-30a9-4641-9dcc-c9ce88e73a66",
   "metadata": {},
   "outputs": [],
   "source": [
    "import os  # File and directory operations\n",
    "from os.path import join as pjoin # Joining file directories\n",
    "import numpy as np  # Numerical operations\n",
    "import pandas as pd  # Data manipulation and analysi"
   ]
  },
  {
   "cell_type": "code",
   "execution_count": 2,
   "id": "3282bbea-41ad-41e1-bc4b-b1d5ef1fbb01",
   "metadata": {},
   "outputs": [],
   "source": [
    "# set your working directory and go there\n",
    "work_dir = \"data\"\n",
    "os.chdir(work_dir)"
   ]
  },
  {
   "cell_type": "code",
   "execution_count": 3,
   "id": "af7995ea-17b4-4c5e-bcac-deda831b31d4",
   "metadata": {},
   "outputs": [],
   "source": [
    "df_plausible_Stations = pd.read_csv(\"stations_rhine_elbe.csv\")"
   ]
  },
  {
   "cell_type": "code",
   "execution_count": 7,
   "id": "5f9770d7-1986-409b-9551-97a2d259fecc",
   "metadata": {},
   "outputs": [],
   "source": [
    "stations = []\n",
    "location_data = {}\n",
    "for index, row in df_plausible_Stations.iterrows():\n",
    "    grdc_no = row['grdc_no']\n",
    "    stations.append(grdc_no)\n",
    "    lon = row['lon']\n",
    "    lat = row['lat']\n",
    "    location_data[grdc_no] = (lat, lon)"
   ]
  },
  {
   "cell_type": "code",
   "execution_count": 9,
   "id": "db8fd964-0a2e-474b-938a-785637aea293",
   "metadata": {},
   "outputs": [],
   "source": [
    "# Directory path where the CSV files are located\n",
    "folder_path = \"grdc_all/pcr_allpredictors\""
   ]
  },
  {
   "cell_type": "code",
   "execution_count": 11,
   "id": "578c6704-2ad9-402e-b6bb-d5251ae17bac",
   "metadata": {},
   "outputs": [],
   "source": [
    "# Get a list of all files in the folder\n",
    "file_list = os.listdir(folder_path)\n",
    "\n",
    "# Specify the desired column names\n",
    "columns_to_extract = [\"datetime\", \"obs\"]\n",
    "\n",
    "# Iterate over the files\n",
    "for file_name in file_list:\n",
    "    if file_name.startswith(\"pcr_allpredictors_\") and file_name.endswith(\".csv\"):\n",
    "        station_id = file_name.replace(\"all_predictors_\", \"\").replace(\".csv\", \"\").split(\"_\")[2]\n",
    "\n",
    "        if int(station_id) in stations:\n",
    "            file_path = os.path.join(folder_path, file_name)\n",
    "            df = pd.read_csv(file_path)\n",
    "            \n",
    "            \n",
    "            # Extract the desired columns\n",
    "            extracted_data = df[columns_to_extract]\n",
    "            \n",
    "            # Save the extracted columns to separate CSV files\n",
    "            output_file = f\"{station_id}_dis_grdc.csv\"\n",
    "            \n",
    "            extracted_data.to_csv(os.path.join(\"grdc/upstream_station_all\", output_file), index=False)"
   ]
  },
  {
   "cell_type": "code",
   "execution_count": null,
   "id": "6a64bcd6-de17-41eb-a52d-921e1a9d86ed",
   "metadata": {},
   "outputs": [],
   "source": []
  }
 ],
 "metadata": {
  "kernelspec": {
   "display_name": "Python 3 (ipykernel)",
   "language": "python",
   "name": "python3"
  },
  "language_info": {
   "codemirror_mode": {
    "name": "ipython",
    "version": 3
   },
   "file_extension": ".py",
   "mimetype": "text/x-python",
   "name": "python",
   "nbconvert_exporter": "python",
   "pygments_lexer": "ipython3",
   "version": "3.10.9"
  }
 },
 "nbformat": 4,
 "nbformat_minor": 5
}
